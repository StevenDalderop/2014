{
 "cells": [
  {
   "cell_type": "markdown",
   "metadata": {},
   "source": [
    "# Homework 3: Prediction and Classification\n",
    "\n",
    "Due: Thursday, October 16, 2014 11:59 PM\n",
    "\n",
    "<a href=https://raw.githubusercontent.com/cs109/2014/master/homework/HW3.ipynb download=HW3.ipynb> Download this assignment</a>\n",
    "\n",
    "#### Submission Instructions\n",
    "To submit your homework, create a folder named lastname_firstinitial_hw# and place your IPython notebooks, data files, and any other files in this folder. Your IPython Notebooks should be completely executed with the results visible in the notebook. We should not have to run any code. Compress the folder (please use .zip compression) and submit to the CS109 dropbox in the appropriate folder. If we cannot access your work because these directions are not followed correctly, we will not grade your work.\n",
    "\n",
    "---\n"
   ]
  },
  {
   "cell_type": "markdown",
   "metadata": {},
   "source": [
    "# Introduction\n",
    "\n",
    "In this assignment you will be using regression and classification to explore different data sets.  \n",
    "\n",
    "**First**: You will use data from before 2002 in the [Sean Lahman's Baseball Database](http://seanlahman.com/baseball-archive/statistics) to create a metric for picking baseball players using linear regression. This is same database we used in Homework 1. This database contains the \"complete batting and pitching statistics from 1871 to 2013, plus fielding statistics, standings, team stats, managerial records, post-season data, and more\". [Documentation provided here](http://seanlahman.com/files/database/readme2012.txt).\n",
    "\n",
    "![\"Sabermetrics Science\"](http://saberseminar.com/wp-content/uploads/2012/01/saber-web.jpg)\n",
    "http://saberseminar.com/wp-content/uploads/2012/01/saber-web.jpg\n",
    "\n",
    "**Second**: You will use the famous [iris](http://en.wikipedia.org/wiki/Iris_flower_data_set) data set to perform a $k$-neareast neighbor classification using cross validation.  While it was introduced in 1936, it is still [one of the most popular](http://archive.ics.uci.edu/ml/) example data sets in the machine learning community. Wikipedia describes the data set as follows: \"The data set consists of 50 samples from each of three species of Iris (Iris setosa, Iris virginica and Iris versicolor). Four features were measured from each sample: the length and the width of the sepals and petals, in centimetres.\" Here is an illustration what the four features measure:\n",
    "\n",
    "![\"iris data features\"](http://sebastianraschka.com/Images/2014_python_lda/iris_petal_sepal.png)\n",
    "http://sebastianraschka.com/Images/2014_python_lda/iris_petal_sepal.png\n",
    "\n",
    "**Third**: You will investigate the influence of higher dimensional spaces on the classification using another standard data set in machine learning called the The [digits data set](http://scikit-learn.org/stable/modules/generated/sklearn.datasets.load_digits.html).  This data set is similar to the MNIST data set discussed in the lecture. The main difference is, that each digit is represented by an 8x8 pixel image patch, which is considerably smaller than the 28x28 pixels from MNIST. In addition, the gray values are restricted to 16 different values (4 bit), instead of 256 (8 bit) for MNIST. \n",
    "\n",
    "**Finally**: In preparation for Homework 4, we want you to read through the following articles related to predicting the 2014 Senate Midterm Elections. \n",
    "\n",
    "* [Nate Silver's Methodology at while at NYT](http://fivethirtyeight.blogs.nytimes.com/methodology/)\n",
    "* [How The FiveThirtyEight Senate Forecast Model Works](http://fivethirtyeight.com/features/how-the-fivethirtyeight-senate-forecast-model-works/)\n",
    "* [Pollster Ratings v4.0: Methodology](http://fivethirtyeight.com/features/pollster-ratings-v40-methodology/)\n",
    "* [Pollster Ratings v4.0: Results](http://fivethirtyeight.com/features/pollster-ratings-v40-results/)\n",
    "* [Nate Silver versus Sam Wang](http://www.washingtonpost.com/blogs/plum-line/wp/2014/09/17/nate-silver-versus-sam-wang/)\n",
    "* [More Nate Silver versus Sam Wang](http://www.dailykos.com/story/2014/09/09/1328288/-Get-Ready-To-Rumbllllle-Battle-Of-The-Nerds-Nate-Silver-VS-Sam-Wang)\n",
    "* [Nate Silver explains critisims of Sam Wang](http://politicalwire.com/archives/2014/10/02/nate_silver_rebuts_sam_wang.html)\n",
    "* [Background on the feud between Nate Silver and Sam Wang](http://talkingpointsmemo.com/dc/nate-silver-sam-wang-feud)\n",
    "* [Are there swing voters?]( http://www.stat.columbia.edu/~gelman/research/unpublished/swing_voters.pdf)\n",
    "\n",
    "\n",
    "\n",
    "---"
   ]
  },
  {
   "cell_type": "markdown",
   "metadata": {},
   "source": [
    "## Load Python modules"
   ]
  },
  {
   "cell_type": "code",
   "execution_count": 328,
   "metadata": {},
   "outputs": [],
   "source": [
    "# special IPython command to prepare the notebook for matplotlib\n",
    "%matplotlib inline \n",
    "\n",
    "import requests \n",
    "import StringIO\n",
    "import zipfile\n",
    "import numpy as np\n",
    "import pandas as pd # pandas\n",
    "import matplotlib.pyplot as plt # module for plotting \n",
    "\n",
    "# If this module is not already installed, you may need to install it. \n",
    "# You can do this by typing 'pip install seaborn' in the command line\n",
    "#import seaborn as sns \n",
    "import seaborn as sns\n",
    "\n",
    "import sklearn\n",
    "import sklearn.datasets\n",
    "import sklearn.cross_validation\n",
    "import sklearn.decomposition\n",
    "import sklearn.grid_search\n",
    "import sklearn.neighbors\n",
    "import sklearn.metrics\n"
   ]
  },
  {
   "cell_type": "markdown",
   "metadata": {},
   "source": [
    "# Problem 1: Sabermetrics\n",
    "\n",
    "Using data preceding the 2002 season pick 10 offensive players keeping the payroll under $20 million (assign each player the median salary). Predict how many games this team would win in a 162 game season.  \n",
    "\n",
    "In this problem we will be returning to the [Sean Lahman's Baseball Database](http://seanlahman.com/baseball-archive/statistics) that we used in Homework 1.  From this database, we will be extract five data sets containing information such as yearly stats and standing, batting statistics, fielding statistics, player names, player salaries and biographical information. You will explore the data in this database from before 2002 and create a metric for picking players. "
   ]
  },
  {
   "cell_type": "markdown",
   "metadata": {},
   "source": [
    "#### Problem 1(a) \n",
    "\n",
    "Load in [these CSV files](http://seanlahman.com/files/database/lahman-csv_2014-02-14.zip) from the [Sean Lahman's Baseball Database](http://seanlahman.com/baseball-archive/statistics). For this assignment, we will use the 'Teams.csv', 'Batting.csv', 'Salaries.csv', 'Fielding.csv', 'Master.csv' tables. Read these tables into separate pandas DataFrames with the following names. \n",
    "\n",
    "CSV file name | Name of pandas DataFrame\n",
    ":---: | :---: \n",
    "Teams.csv | teams\n",
    "Batting.csv | players\n",
    "Salaries.csv | salaries\n",
    "Fielding.csv | fielding\n",
    "Master.csv | master"
   ]
  },
  {
   "cell_type": "code",
   "execution_count": 3,
   "metadata": {},
   "outputs": [],
   "source": [
    "url = \"http://seanlahman.com/files/database/lahman-csv_2014-02-14.zip\"\n",
    "source = requests.get(url)\n",
    "r=source.content\n",
    "s = StringIO.StringIO(r)\n",
    "zf = zipfile.ZipFile(s, 'r')"
   ]
  },
  {
   "cell_type": "code",
   "execution_count": 4,
   "metadata": {},
   "outputs": [],
   "source": [
    "teams=pd.read_csv(zf.open(\"Teams.csv\"))\n",
    "players=pd.read_csv(zf.open(\"Batting.csv\"))\n",
    "salaries=pd.read_csv(zf.open(\"Salaries.csv\"))\n",
    "fielding=pd.read_csv(zf.open(\"Fielding.csv\"))\n",
    "master=pd.read_csv(zf.open(\"Master.csv\"))"
   ]
  },
  {
   "cell_type": "markdown",
   "metadata": {},
   "source": [
    "#### Problem 1(b)\n",
    "\n",
    "Calculate the median salary for each player and create a pandas DataFrame called `medianSalaries` with four columns: (1) the player ID, (2) the first name of the player, (3) the last name of the player and (4) the median salary of the player. Show the head of the `medianSalaries` DataFrame.   "
   ]
  },
  {
   "cell_type": "code",
   "execution_count": 5,
   "metadata": {},
   "outputs": [
    {
     "name": "stderr",
     "output_type": "stream",
     "text": [
      "c:\\python27\\lib\\site-packages\\pandas\\core\\indexing.py:357: SettingWithCopyWarning: \n",
      "A value is trying to be set on a copy of a slice from a DataFrame.\n",
      "Try using .loc[row_indexer,col_indexer] = value instead\n",
      "\n",
      "See the caveats in the documentation: http://pandas.pydata.org/pandas-docs/stable/indexing.html#indexing-view-versus-copy\n",
      "  self.obj[key] = _infer_fill_value(value)\n",
      "c:\\python27\\lib\\site-packages\\pandas\\core\\indexing.py:537: SettingWithCopyWarning: \n",
      "A value is trying to be set on a copy of a slice from a DataFrame.\n",
      "Try using .loc[row_indexer,col_indexer] = value instead\n",
      "\n",
      "See the caveats in the documentation: http://pandas.pydata.org/pandas-docs/stable/indexing.html#indexing-view-versus-copy\n",
      "  self.obj[item] = s\n"
     ]
    }
   ],
   "source": [
    "medianSalaries=master[[\"playerID\",\"nameFirst\",\"nameLast\"]]\n",
    "def f(name):\n",
    "    salaries_av=salaries[\"salary\"][salaries[\"playerID\"]==name].median()\n",
    "    return salaries_av\n",
    "medianSalaries.loc[:,\"medianSal\"]=[f(i) for i in medianSalaries[\"playerID\"]]"
   ]
  },
  {
   "cell_type": "code",
   "execution_count": 6,
   "metadata": {},
   "outputs": [
    {
     "data": {
      "text/html": [
       "<div>\n",
       "<style scoped>\n",
       "    .dataframe tbody tr th:only-of-type {\n",
       "        vertical-align: middle;\n",
       "    }\n",
       "\n",
       "    .dataframe tbody tr th {\n",
       "        vertical-align: top;\n",
       "    }\n",
       "\n",
       "    .dataframe thead th {\n",
       "        text-align: right;\n",
       "    }\n",
       "</style>\n",
       "<table border=\"1\" class=\"dataframe\">\n",
       "  <thead>\n",
       "    <tr style=\"text-align: right;\">\n",
       "      <th></th>\n",
       "      <th>playerID</th>\n",
       "      <th>nameFirst</th>\n",
       "      <th>nameLast</th>\n",
       "      <th>medianSal</th>\n",
       "    </tr>\n",
       "  </thead>\n",
       "  <tbody>\n",
       "    <tr>\n",
       "      <th>0</th>\n",
       "      <td>aardsda01</td>\n",
       "      <td>David</td>\n",
       "      <td>Aardsma</td>\n",
       "      <td>419000.0</td>\n",
       "    </tr>\n",
       "    <tr>\n",
       "      <th>1</th>\n",
       "      <td>aaronha01</td>\n",
       "      <td>Hank</td>\n",
       "      <td>Aaron</td>\n",
       "      <td>NaN</td>\n",
       "    </tr>\n",
       "    <tr>\n",
       "      <th>2</th>\n",
       "      <td>aaronto01</td>\n",
       "      <td>Tommie</td>\n",
       "      <td>Aaron</td>\n",
       "      <td>NaN</td>\n",
       "    </tr>\n",
       "    <tr>\n",
       "      <th>3</th>\n",
       "      <td>aasedo01</td>\n",
       "      <td>Don</td>\n",
       "      <td>Aase</td>\n",
       "      <td>612500.0</td>\n",
       "    </tr>\n",
       "    <tr>\n",
       "      <th>4</th>\n",
       "      <td>abadan01</td>\n",
       "      <td>Andy</td>\n",
       "      <td>Abad</td>\n",
       "      <td>327000.0</td>\n",
       "    </tr>\n",
       "  </tbody>\n",
       "</table>\n",
       "</div>"
      ],
      "text/plain": [
       "    playerID nameFirst nameLast  medianSal\n",
       "0  aardsda01     David  Aardsma   419000.0\n",
       "1  aaronha01      Hank    Aaron        NaN\n",
       "2  aaronto01    Tommie    Aaron        NaN\n",
       "3   aasedo01       Don     Aase   612500.0\n",
       "4   abadan01      Andy     Abad   327000.0"
      ]
     },
     "execution_count": 6,
     "metadata": {},
     "output_type": "execute_result"
    }
   ],
   "source": [
    "medianSalaries.head()\n"
   ]
  },
  {
   "cell_type": "markdown",
   "metadata": {},
   "source": [
    "#### Problem 1(c)\n",
    "\n",
    "Now, consider only team/season combinations in which the teams played 162 Games. Exclude all data from before 1947. Compute the per plate appearance rates for singles, doubles, triples, HR, and BB. Create a new pandas DataFrame called `stats` that has the teamID, yearID, wins and these rates.\n",
    "\n",
    "**Hint**: Singles are hits that are not doubles, triples, nor HR. Plate appearances are base on balls plus at bats."
   ]
  },
  {
   "cell_type": "code",
   "execution_count": 241,
   "metadata": {},
   "outputs": [],
   "source": [
    "teams_new=teams[(teams[\"yearID\"]>=1961)]"
   ]
  },
  {
   "cell_type": "code",
   "execution_count": 242,
   "metadata": {},
   "outputs": [],
   "source": [
    "teams_new.loc[:,\"PA\"]=teams_new[\"AB\"]+teams_new[\"BB\"]\n",
    "teams_new.loc[:,\"Singles\"]=(teams_new[\"H\"]-teams_new[\"2B\"]-teams_new[\"3B\"]-teams_new[\"HR\"])/teams_new[\"PA\"]\n",
    "teams_new.loc[:,\"Doubles\"]=(teams_new[\"2B\"])/teams_new[\"PA\"]\n",
    "teams_new.loc[:,\"Triples\"]=(teams_new[\"3B\"])/teams_new[\"PA\"]\n",
    "teams_new.loc[:,\"Homerun\"]=(teams_new[\"HR\"])/teams_new[\"PA\"]\n",
    "teams_new.loc[:,\"Base on balls\"]=(teams_new[\"BB\"])/teams_new[\"PA\"]"
   ]
  },
  {
   "cell_type": "code",
   "execution_count": 327,
   "metadata": {},
   "outputs": [
    {
     "data": {
      "text/html": [
       "<div>\n",
       "<style scoped>\n",
       "    .dataframe tbody tr th:only-of-type {\n",
       "        vertical-align: middle;\n",
       "    }\n",
       "\n",
       "    .dataframe tbody tr th {\n",
       "        vertical-align: top;\n",
       "    }\n",
       "\n",
       "    .dataframe thead th {\n",
       "        text-align: right;\n",
       "    }\n",
       "</style>\n",
       "<table border=\"1\" class=\"dataframe\">\n",
       "  <thead>\n",
       "    <tr style=\"text-align: right;\">\n",
       "      <th></th>\n",
       "      <th>teamID</th>\n",
       "      <th>yearID</th>\n",
       "      <th>W</th>\n",
       "      <th>PA</th>\n",
       "      <th>Singles</th>\n",
       "      <th>Doubles</th>\n",
       "      <th>Triples</th>\n",
       "      <th>Homerun</th>\n",
       "      <th>Base on balls</th>\n",
       "    </tr>\n",
       "  </thead>\n",
       "  <tbody>\n",
       "    <tr>\n",
       "      <th>1359</th>\n",
       "      <td>NYA</td>\n",
       "      <td>1961</td>\n",
       "      <td>109</td>\n",
       "      <td>6102</td>\n",
       "      <td>0.161750</td>\n",
       "      <td>0.031793</td>\n",
       "      <td>0.006555</td>\n",
       "      <td>0.039331</td>\n",
       "      <td>0.088987</td>\n",
       "    </tr>\n",
       "    <tr>\n",
       "      <th>1360</th>\n",
       "      <td>DET</td>\n",
       "      <td>1961</td>\n",
       "      <td>101</td>\n",
       "      <td>6234</td>\n",
       "      <td>0.165704</td>\n",
       "      <td>0.034488</td>\n",
       "      <td>0.008502</td>\n",
       "      <td>0.028874</td>\n",
       "      <td>0.107956</td>\n",
       "    </tr>\n",
       "    <tr>\n",
       "      <th>1361</th>\n",
       "      <td>BAL</td>\n",
       "      <td>1961</td>\n",
       "      <td>95</td>\n",
       "      <td>6062</td>\n",
       "      <td>0.161828</td>\n",
       "      <td>0.037446</td>\n",
       "      <td>0.005939</td>\n",
       "      <td>0.024579</td>\n",
       "      <td>0.095843</td>\n",
       "    </tr>\n",
       "    <tr>\n",
       "      <th>1362</th>\n",
       "      <td>CHA</td>\n",
       "      <td>1961</td>\n",
       "      <td>86</td>\n",
       "      <td>6106</td>\n",
       "      <td>0.176056</td>\n",
       "      <td>0.035375</td>\n",
       "      <td>0.007534</td>\n",
       "      <td>0.022601</td>\n",
       "      <td>0.090075</td>\n",
       "    </tr>\n",
       "    <tr>\n",
       "      <th>1363</th>\n",
       "      <td>CLE</td>\n",
       "      <td>1961</td>\n",
       "      <td>78</td>\n",
       "      <td>6101</td>\n",
       "      <td>0.171611</td>\n",
       "      <td>0.042124</td>\n",
       "      <td>0.006392</td>\n",
       "      <td>0.024586</td>\n",
       "      <td>0.080643</td>\n",
       "    </tr>\n",
       "    <tr>\n",
       "      <th>1364</th>\n",
       "      <td>BOS</td>\n",
       "      <td>1961</td>\n",
       "      <td>76</td>\n",
       "      <td>6155</td>\n",
       "      <td>0.162632</td>\n",
       "      <td>0.040780</td>\n",
       "      <td>0.006011</td>\n",
       "      <td>0.018197</td>\n",
       "      <td>0.105118</td>\n",
       "    </tr>\n",
       "    <tr>\n",
       "      <th>1365</th>\n",
       "      <td>MIN</td>\n",
       "      <td>1961</td>\n",
       "      <td>70</td>\n",
       "      <td>6014</td>\n",
       "      <td>0.154805</td>\n",
       "      <td>0.035750</td>\n",
       "      <td>0.006651</td>\n",
       "      <td>0.027769</td>\n",
       "      <td>0.099268</td>\n",
       "    </tr>\n",
       "    <tr>\n",
       "      <th>1366</th>\n",
       "      <td>LAA</td>\n",
       "      <td>1961</td>\n",
       "      <td>70</td>\n",
       "      <td>6105</td>\n",
       "      <td>0.147748</td>\n",
       "      <td>0.035708</td>\n",
       "      <td>0.003604</td>\n",
       "      <td>0.030958</td>\n",
       "      <td>0.111548</td>\n",
       "    </tr>\n",
       "    <tr>\n",
       "      <th>1367</th>\n",
       "      <td>KC1</td>\n",
       "      <td>1961</td>\n",
       "      <td>61</td>\n",
       "      <td>6003</td>\n",
       "      <td>0.164751</td>\n",
       "      <td>0.035982</td>\n",
       "      <td>0.007829</td>\n",
       "      <td>0.014993</td>\n",
       "      <td>0.096618</td>\n",
       "    </tr>\n",
       "    <tr>\n",
       "      <th>1368</th>\n",
       "      <td>WS2</td>\n",
       "      <td>1961</td>\n",
       "      <td>61</td>\n",
       "      <td>5924</td>\n",
       "      <td>0.156482</td>\n",
       "      <td>0.036631</td>\n",
       "      <td>0.007427</td>\n",
       "      <td>0.020088</td>\n",
       "      <td>0.094193</td>\n",
       "    </tr>\n",
       "  </tbody>\n",
       "</table>\n",
       "</div>"
      ],
      "text/plain": [
       "     teamID  yearID    W    PA   Singles   Doubles   Triples   Homerun  \\\n",
       "1359    NYA    1961  109  6102  0.161750  0.031793  0.006555  0.039331   \n",
       "1360    DET    1961  101  6234  0.165704  0.034488  0.008502  0.028874   \n",
       "1361    BAL    1961   95  6062  0.161828  0.037446  0.005939  0.024579   \n",
       "1362    CHA    1961   86  6106  0.176056  0.035375  0.007534  0.022601   \n",
       "1363    CLE    1961   78  6101  0.171611  0.042124  0.006392  0.024586   \n",
       "1364    BOS    1961   76  6155  0.162632  0.040780  0.006011  0.018197   \n",
       "1365    MIN    1961   70  6014  0.154805  0.035750  0.006651  0.027769   \n",
       "1366    LAA    1961   70  6105  0.147748  0.035708  0.003604  0.030958   \n",
       "1367    KC1    1961   61  6003  0.164751  0.035982  0.007829  0.014993   \n",
       "1368    WS2    1961   61  5924  0.156482  0.036631  0.007427  0.020088   \n",
       "\n",
       "      Base on balls  \n",
       "1359       0.088987  \n",
       "1360       0.107956  \n",
       "1361       0.095843  \n",
       "1362       0.090075  \n",
       "1363       0.080643  \n",
       "1364       0.105118  \n",
       "1365       0.099268  \n",
       "1366       0.111548  \n",
       "1367       0.096618  \n",
       "1368       0.094193  "
      ]
     },
     "execution_count": 327,
     "metadata": {},
     "output_type": "execute_result"
    }
   ],
   "source": [
    "stats=teams_new[[\"teamID\",\"yearID\",\"W\",\"PA\",\"Singles\",\"Doubles\",\"Triples\",\"Homerun\",\"Base on balls\"]];\n",
    "stats.head(10)\n"
   ]
  },
  {
   "cell_type": "markdown",
   "metadata": {},
   "source": [
    "#### Problem 1(d)\n",
    "\n",
    "Is there a noticeable time trend in the rates computed computed in Problem 1(c)? "
   ]
  },
  {
   "cell_type": "code",
   "execution_count": 329,
   "metadata": {},
   "outputs": [
    {
     "data": {
      "image/png": "[encoded data removed]",
      "text/plain": [
       "<Figure size 432x288 with 1 Axes>"
      ]
     },
     "metadata": {},
     "output_type": "display_data"
    },
    {
     "data": {
      "image/png": "[encoded data removed]",
      "text/plain": [
       "<Figure size 432x288 with 1 Axes>"
      ]
     },
     "metadata": {},
     "output_type": "display_data"
    },
    {
     "data": {
      "image/png": "[encoded data removed]",
      "text/plain": [
       "<Figure size 432x288 with 1 Axes>"
      ]
     },
     "metadata": {},
     "output_type": "display_data"
    },
    {
     "data": {
      "image/png": "[encoded data removed]",
      "text/plain": [
       "<Figure size 432x288 with 1 Axes>"
      ]
     },
     "metadata": {},
     "output_type": "display_data"
    },
    {
     "data": {
      "image/png": "[encoded data removed]",
      "text/plain": [
       "<Figure size 432x288 with 1 Axes>"
      ]
     },
     "metadata": {},
     "output_type": "display_data"
    }
   ],
   "source": [
    "year=np.arange(1960,2010,10)\n",
    "for y in year:\n",
    "    stats_new=stats[stats[\"yearID\"]==y]\n",
    "    plt.scatter(stats_new[\"teamID\"],stats_new[\"Homerun\"])\n",
    "    plt.show()\n"
   ]
  },
  {
   "cell_type": "markdown",
   "metadata": {},
   "source": [
    "### Trend\n",
    "The trend is that the amount of doubles and homeruns increases over time. "
   ]
  },
  {
   "cell_type": "markdown",
   "metadata": {},
   "source": [
    "#### Problem 1(e) \n",
    "\n",
    "Using the `stats` DataFrame from Problem 1(c), adjust the singles per PA rates so that the average across teams for each year is 0. Do the same for the doubles, triples, HR, and BB rates. "
   ]
  },
  {
   "cell_type": "code",
   "execution_count": 250,
   "metadata": {},
   "outputs": [],
   "source": [
    "years=stats[\"yearID\"][stats[\"yearID\"]>=1961].unique()\n",
    "stats2=stats.copy()"
   ]
  },
  {
   "cell_type": "code",
   "execution_count": 252,
   "metadata": {},
   "outputs": [
    {
     "name": "stderr",
     "output_type": "stream",
     "text": [
      "c:\\python27\\lib\\site-packages\\ipykernel_launcher.py:8: SettingWithCopyWarning: \n",
      "A value is trying to be set on a copy of a slice from a DataFrame\n",
      "\n",
      "See the caveats in the documentation: http://pandas.pydata.org/pandas-docs/stable/indexing.html#indexing-view-versus-copy\n",
      "  \n",
      "c:\\python27\\lib\\site-packages\\ipykernel_launcher.py:9: SettingWithCopyWarning: \n",
      "A value is trying to be set on a copy of a slice from a DataFrame\n",
      "\n",
      "See the caveats in the documentation: http://pandas.pydata.org/pandas-docs/stable/indexing.html#indexing-view-versus-copy\n",
      "  if __name__ == '__main__':\n",
      "c:\\python27\\lib\\site-packages\\ipykernel_launcher.py:10: SettingWithCopyWarning: \n",
      "A value is trying to be set on a copy of a slice from a DataFrame\n",
      "\n",
      "See the caveats in the documentation: http://pandas.pydata.org/pandas-docs/stable/indexing.html#indexing-view-versus-copy\n",
      "  # Remove the CWD from sys.path while we load stuff.\n",
      "c:\\python27\\lib\\site-packages\\ipykernel_launcher.py:11: SettingWithCopyWarning: \n",
      "A value is trying to be set on a copy of a slice from a DataFrame\n",
      "\n",
      "See the caveats in the documentation: http://pandas.pydata.org/pandas-docs/stable/indexing.html#indexing-view-versus-copy\n",
      "  # This is added back by InteractiveShellApp.init_path()\n",
      "c:\\python27\\lib\\site-packages\\ipykernel_launcher.py:12: SettingWithCopyWarning: \n",
      "A value is trying to be set on a copy of a slice from a DataFrame\n",
      "\n",
      "See the caveats in the documentation: http://pandas.pydata.org/pandas-docs/stable/indexing.html#indexing-view-versus-copy\n",
      "  if sys.path[0] == '':\n"
     ]
    }
   ],
   "source": [
    "for y in years:\n",
    "    stats_new=stats[stats[\"yearID\"]==y]\n",
    "    av_singles=stats_new[\"Singles\"].mean()\n",
    "    av_doubles=stats_new[\"Doubles\"].mean()\n",
    "    av_triples=stats_new[\"Triples\"].mean()\n",
    "    av_homerun=stats_new[\"Homerun\"].mean()\n",
    "    av_bb=stats_new[\"Base on balls\"].mean()\n",
    "    stats2[\"Singles\"][stats2[\"yearID\"]==y]=stats2[\"Singles\"][stats2[\"yearID\"]==y]-av_singles\n",
    "    stats2[\"Doubles\"][stats2[\"yearID\"]==y]=stats2[\"Doubles\"][stats2[\"yearID\"]==y]-av_doubles\n",
    "    stats2[\"Triples\"][stats2[\"yearID\"]==y]=stats2[\"Triples\"][stats2[\"yearID\"]==y]-av_triples\n",
    "    stats2[\"Homerun\"][stats2[\"yearID\"]==y]=stats2[\"Homerun\"][stats2[\"yearID\"]==y]-av_homerun\n",
    "    stats2[\"Base on balls\"][stats2[\"yearID\"]==y]=stats2[\"Base on balls\"][stats2[\"yearID\"]==y]-av_bb\n",
    "    \n",
    "    "
   ]
  },
  {
   "cell_type": "code",
   "execution_count": 253,
   "metadata": {},
   "outputs": [
    {
     "data": {
      "text/html": [
       "<div>\n",
       "<style scoped>\n",
       "    .dataframe tbody tr th:only-of-type {\n",
       "        vertical-align: middle;\n",
       "    }\n",
       "\n",
       "    .dataframe tbody tr th {\n",
       "        vertical-align: top;\n",
       "    }\n",
       "\n",
       "    .dataframe thead th {\n",
       "        text-align: right;\n",
       "    }\n",
       "</style>\n",
       "<table border=\"1\" class=\"dataframe\">\n",
       "  <thead>\n",
       "    <tr style=\"text-align: right;\">\n",
       "      <th></th>\n",
       "      <th>teamID</th>\n",
       "      <th>yearID</th>\n",
       "      <th>W</th>\n",
       "      <th>PA</th>\n",
       "      <th>Singles</th>\n",
       "      <th>Doubles</th>\n",
       "      <th>Triples</th>\n",
       "      <th>Homerun</th>\n",
       "      <th>Base on balls</th>\n",
       "    </tr>\n",
       "  </thead>\n",
       "  <tbody>\n",
       "    <tr>\n",
       "      <th>1359</th>\n",
       "      <td>NYA</td>\n",
       "      <td>1961</td>\n",
       "      <td>109</td>\n",
       "      <td>6102</td>\n",
       "      <td>-0.002981</td>\n",
       "      <td>-0.005399</td>\n",
       "      <td>-0.000508</td>\n",
       "      <td>0.013817</td>\n",
       "      <td>-0.003384</td>\n",
       "    </tr>\n",
       "    <tr>\n",
       "      <th>1360</th>\n",
       "      <td>DET</td>\n",
       "      <td>1961</td>\n",
       "      <td>101</td>\n",
       "      <td>6234</td>\n",
       "      <td>0.000973</td>\n",
       "      <td>-0.002704</td>\n",
       "      <td>0.001439</td>\n",
       "      <td>0.003359</td>\n",
       "      <td>0.015585</td>\n",
       "    </tr>\n",
       "    <tr>\n",
       "      <th>1361</th>\n",
       "      <td>BAL</td>\n",
       "      <td>1961</td>\n",
       "      <td>95</td>\n",
       "      <td>6062</td>\n",
       "      <td>-0.002903</td>\n",
       "      <td>0.000254</td>\n",
       "      <td>-0.001124</td>\n",
       "      <td>-0.000935</td>\n",
       "      <td>0.003472</td>\n",
       "    </tr>\n",
       "    <tr>\n",
       "      <th>1362</th>\n",
       "      <td>CHA</td>\n",
       "      <td>1961</td>\n",
       "      <td>86</td>\n",
       "      <td>6106</td>\n",
       "      <td>0.011325</td>\n",
       "      <td>-0.001817</td>\n",
       "      <td>0.000471</td>\n",
       "      <td>-0.002914</td>\n",
       "      <td>-0.002296</td>\n",
       "    </tr>\n",
       "    <tr>\n",
       "      <th>1363</th>\n",
       "      <td>CLE</td>\n",
       "      <td>1961</td>\n",
       "      <td>78</td>\n",
       "      <td>6101</td>\n",
       "      <td>0.006880</td>\n",
       "      <td>0.004932</td>\n",
       "      <td>-0.000671</td>\n",
       "      <td>-0.000928</td>\n",
       "      <td>-0.011729</td>\n",
       "    </tr>\n",
       "  </tbody>\n",
       "</table>\n",
       "</div>"
      ],
      "text/plain": [
       "     teamID  yearID    W    PA   Singles   Doubles   Triples   Homerun  \\\n",
       "1359    NYA    1961  109  6102 -0.002981 -0.005399 -0.000508  0.013817   \n",
       "1360    DET    1961  101  6234  0.000973 -0.002704  0.001439  0.003359   \n",
       "1361    BAL    1961   95  6062 -0.002903  0.000254 -0.001124 -0.000935   \n",
       "1362    CHA    1961   86  6106  0.011325 -0.001817  0.000471 -0.002914   \n",
       "1363    CLE    1961   78  6101  0.006880  0.004932 -0.000671 -0.000928   \n",
       "\n",
       "      Base on balls  \n",
       "1359      -0.003384  \n",
       "1360       0.015585  \n",
       "1361       0.003472  \n",
       "1362      -0.002296  \n",
       "1363      -0.011729  "
      ]
     },
     "execution_count": 253,
     "metadata": {},
     "output_type": "execute_result"
    }
   ],
   "source": [
    "stats=stats2;\n",
    "stats.head()"
   ]
  },
  {
   "cell_type": "markdown",
   "metadata": {},
   "source": [
    "#### Problem 1(f)\n",
    "\n",
    "Build a simple linear regression model to predict the number of wins from the average adjusted singles, double, triples, HR, and BB rates. To decide which of these terms to include fit the model to data from 2002 and compute the average squared residuals from predictions to years past 2002. Use the fitted model to define a new sabermetric summary: offensive predicted wins (OPW). Hint: the new summary should be a linear combination of one to five of the five rates.\n"
   ]
  },
  {
   "cell_type": "code",
   "execution_count": 255,
   "metadata": {},
   "outputs": [
    {
     "name": "stdout",
     "output_type": "stream",
     "text": [
      "79.12712724\n",
      "116.989883915\n",
      "[ 1005.20914611  1191.44222804  1260.75203796   677.61940002]\n",
      "80.8333333333\n"
     ]
    }
   ],
   "source": [
    "reg=sklearn.linear_model.LinearRegression()\n",
    "x_train=stats[[\"Singles\",\"Doubles\",\"Homerun\",\"Base on balls\"]].loc[stats[\"yearID\"]==2002,:]\n",
    "y_train=stats[\"W\"].loc[stats[\"yearID\"]==2002]\n",
    "x_test=stats[[\"Singles\",\"Doubles\",\"Homerun\",\"Base on balls\"]].loc[stats[\"yearID\"]==2003,:]\n",
    "y_test=stats[\"W\"].loc[stats[\"yearID\"]==2003]\n",
    "reg.fit(x_train,y_train)\n",
    "pred=reg.predict(x_train)\n",
    "print sklearn.metrics.mean_squared_error(y_train,pred)\n",
    "pred2=reg.predict(x_test)\n",
    "print sklearn.metrics.mean_squared_error(y_test,pred2)\n",
    "coef=reg.coef_\n",
    "print coef\n",
    "intercept=reg.intercept_\n",
    "print intercept\n",
    "\n"
   ]
  },
  {
   "cell_type": "code",
   "execution_count": 261,
   "metadata": {},
   "outputs": [
    {
     "data": {
      "image/png": "[encoded data removed]",
      "text/plain": [
       "<Figure size 432x288 with 1 Axes>"
      ]
     },
     "metadata": {},
     "output_type": "display_data"
    },
    {
     "data": {
      "image/png": "[encoded data removed]",
      "text/plain": [
       "<Figure size 432x288 with 1 Axes>"
      ]
     },
     "metadata": {},
     "output_type": "display_data"
    },
    {
     "data": {
      "image/png": "[encoded data removed]",
      "text/plain": [
       "<Figure size 432x288 with 1 Axes>"
      ]
     },
     "metadata": {},
     "output_type": "display_data"
    },
    {
     "data": {
      "image/png": "[encoded data removed]",
      "text/plain": [
       "<Figure size 432x288 with 1 Axes>"
      ]
     },
     "metadata": {},
     "output_type": "display_data"
    }
   ],
   "source": [
    "plt.scatter(x_train[\"Singles\"],y_train)\n",
    "plt.show()\n",
    "plt.scatter(x_train[\"Doubles\"],y_train)\n",
    "plt.show()\n",
    "plt.scatter(x_train[\"Homerun\"],y_train)\n",
    "plt.show()\n",
    "plt.scatter(x_train[\"Base on balls\"],y_train)\n",
    "plt.show()"
   ]
  },
  {
   "cell_type": "code",
   "execution_count": 262,
   "metadata": {},
   "outputs": [
    {
     "data": {
      "image/png": "[encoded data removed]",
      "text/plain": [
       "<Figure size 432x288 with 1 Axes>"
      ]
     },
     "metadata": {},
     "output_type": "display_data"
    },
    {
     "data": {
      "image/png": "[encoded data removed]",
      "text/plain": [
       "<Figure size 432x288 with 1 Axes>"
      ]
     },
     "metadata": {},
     "output_type": "display_data"
    },
    {
     "data": {
      "image/png": "[encoded data removed]",
      "text/plain": [
       "<Figure size 432x288 with 1 Axes>"
      ]
     },
     "metadata": {},
     "output_type": "display_data"
    },
    {
     "data": {
      "image/png": "[encoded data removed]",
      "text/plain": [
       "<Figure size 432x288 with 1 Axes>"
      ]
     },
     "metadata": {},
     "output_type": "display_data"
    }
   ],
   "source": [
    "\n",
    "plt.scatter(x_test[\"Singles\"],y_test-pred2)\n",
    "plt.title(\"Singles residuals\")\n",
    "plt.show()\n",
    "plt.scatter(x_test[\"Doubles\"],y_test-pred2)\n",
    "plt.title(\"Doubles\")\n",
    "plt.show()\n",
    "plt.scatter(x_test[\"Homerun\"],y_test-pred2)\n",
    "plt.title(\"Homerun\")\n",
    "plt.show()\n",
    "plt.scatter(x_test[\"Base on balls\"],y_test-pred2)\n",
    "plt.title(\"Base on balls\")\n",
    "plt.show()"
   ]
  },
  {
   "cell_type": "markdown",
   "metadata": {},
   "source": [
    "** Your answer here: **\n",
    "The OPW must be a linear combination of the features except triples because they correlate not very well. This is probably because triples happen only a very small amount of time. "
   ]
  },
  {
   "cell_type": "markdown",
   "metadata": {},
   "source": [
    "#### Problem 1(g)\n",
    "\n",
    "Now we will create a similar database for individual players. Consider only player/year combinations in which the player had at least 500 plate appearances. Consider only the years we considered for the calculations above (after 1947 and seasons with 162 games). For each player/year compute singles, doubles, triples, HR, BB per plate appearance rates. Create a new pandas DataFrame called `playerstats` that has the playerID, yearID and the rates of these stats.  Remove the average for each year as for these rates as done in Problem 1(e). "
   ]
  },
  {
   "cell_type": "markdown",
   "metadata": {},
   "source": [
    "Show the head of the `playerstats` DataFrame. "
   ]
  },
  {
   "cell_type": "code",
   "execution_count": 16,
   "metadata": {},
   "outputs": [],
   "source": [
    "players2=players.copy()\n",
    "players2.loc[:,\"PA\"]=players2.loc[:,\"AB\"]+players2.loc[:,\"BB\"]"
   ]
  },
  {
   "cell_type": "code",
   "execution_count": 263,
   "metadata": {},
   "outputs": [
    {
     "data": {
      "text/html": [
       "<div>\n",
       "<style scoped>\n",
       "    .dataframe tbody tr th:only-of-type {\n",
       "        vertical-align: middle;\n",
       "    }\n",
       "\n",
       "    .dataframe tbody tr th {\n",
       "        vertical-align: top;\n",
       "    }\n",
       "\n",
       "    .dataframe thead th {\n",
       "        text-align: right;\n",
       "    }\n",
       "</style>\n",
       "<table border=\"1\" class=\"dataframe\">\n",
       "  <thead>\n",
       "    <tr style=\"text-align: right;\">\n",
       "      <th></th>\n",
       "      <th>playerID</th>\n",
       "      <th>yearID</th>\n",
       "      <th>stint</th>\n",
       "      <th>teamID</th>\n",
       "      <th>lgID</th>\n",
       "      <th>G</th>\n",
       "      <th>G_batting</th>\n",
       "      <th>AB</th>\n",
       "      <th>R</th>\n",
       "      <th>H</th>\n",
       "      <th>...</th>\n",
       "      <th>SF</th>\n",
       "      <th>GIDP</th>\n",
       "      <th>G_old</th>\n",
       "      <th>PA</th>\n",
       "      <th>Games162</th>\n",
       "      <th>Singles</th>\n",
       "      <th>Doubles</th>\n",
       "      <th>Triples</th>\n",
       "      <th>Homerun</th>\n",
       "      <th>Base on balls</th>\n",
       "    </tr>\n",
       "  </thead>\n",
       "  <tbody>\n",
       "    <tr>\n",
       "      <th>15</th>\n",
       "      <td>aaronha01</td>\n",
       "      <td>1962</td>\n",
       "      <td>1</td>\n",
       "      <td>ML1</td>\n",
       "      <td>NL</td>\n",
       "      <td>156</td>\n",
       "      <td>156.0</td>\n",
       "      <td>592.0</td>\n",
       "      <td>127.0</td>\n",
       "      <td>191.0</td>\n",
       "      <td>...</td>\n",
       "      <td>6.0</td>\n",
       "      <td>14.0</td>\n",
       "      <td>156.0</td>\n",
       "      <td>658.0</td>\n",
       "      <td>True</td>\n",
       "      <td>-0.006163</td>\n",
       "      <td>0.002838</td>\n",
       "      <td>0.001132</td>\n",
       "      <td>0.040337</td>\n",
       "      <td>0.012301</td>\n",
       "    </tr>\n",
       "    <tr>\n",
       "      <th>17</th>\n",
       "      <td>aaronha01</td>\n",
       "      <td>1964</td>\n",
       "      <td>1</td>\n",
       "      <td>ML1</td>\n",
       "      <td>NL</td>\n",
       "      <td>145</td>\n",
       "      <td>145.0</td>\n",
       "      <td>570.0</td>\n",
       "      <td>103.0</td>\n",
       "      <td>187.0</td>\n",
       "      <td>...</td>\n",
       "      <td>2.0</td>\n",
       "      <td>22.0</td>\n",
       "      <td>145.0</td>\n",
       "      <td>632.0</td>\n",
       "      <td>True</td>\n",
       "      <td>0.029079</td>\n",
       "      <td>0.007407</td>\n",
       "      <td>-0.004705</td>\n",
       "      <td>0.010296</td>\n",
       "      <td>0.014015</td>\n",
       "    </tr>\n",
       "    <tr>\n",
       "      <th>18</th>\n",
       "      <td>aaronha01</td>\n",
       "      <td>1965</td>\n",
       "      <td>1</td>\n",
       "      <td>ML1</td>\n",
       "      <td>NL</td>\n",
       "      <td>150</td>\n",
       "      <td>150.0</td>\n",
       "      <td>570.0</td>\n",
       "      <td>109.0</td>\n",
       "      <td>181.0</td>\n",
       "      <td>...</td>\n",
       "      <td>8.0</td>\n",
       "      <td>15.0</td>\n",
       "      <td>150.0</td>\n",
       "      <td>630.0</td>\n",
       "      <td>True</td>\n",
       "      <td>0.000872</td>\n",
       "      <td>0.024527</td>\n",
       "      <td>-0.005933</td>\n",
       "      <td>0.023550</td>\n",
       "      <td>0.004814</td>\n",
       "    </tr>\n",
       "    <tr>\n",
       "      <th>20</th>\n",
       "      <td>aaronha01</td>\n",
       "      <td>1967</td>\n",
       "      <td>1</td>\n",
       "      <td>ATL</td>\n",
       "      <td>NL</td>\n",
       "      <td>155</td>\n",
       "      <td>155.0</td>\n",
       "      <td>600.0</td>\n",
       "      <td>113.0</td>\n",
       "      <td>184.0</td>\n",
       "      <td>...</td>\n",
       "      <td>6.0</td>\n",
       "      <td>11.0</td>\n",
       "      <td>155.0</td>\n",
       "      <td>663.0</td>\n",
       "      <td>True</td>\n",
       "      <td>-0.014391</td>\n",
       "      <td>0.016549</td>\n",
       "      <td>-0.003136</td>\n",
       "      <td>0.034221</td>\n",
       "      <td>0.007964</td>\n",
       "    </tr>\n",
       "    <tr>\n",
       "      <th>22</th>\n",
       "      <td>aaronha01</td>\n",
       "      <td>1969</td>\n",
       "      <td>1</td>\n",
       "      <td>ATL</td>\n",
       "      <td>NL</td>\n",
       "      <td>147</td>\n",
       "      <td>147.0</td>\n",
       "      <td>547.0</td>\n",
       "      <td>100.0</td>\n",
       "      <td>164.0</td>\n",
       "      <td>...</td>\n",
       "      <td>3.0</td>\n",
       "      <td>14.0</td>\n",
       "      <td>147.0</td>\n",
       "      <td>634.0</td>\n",
       "      <td>True</td>\n",
       "      <td>-0.033368</td>\n",
       "      <td>0.007961</td>\n",
       "      <td>-0.001843</td>\n",
       "      <td>0.039888</td>\n",
       "      <td>0.035206</td>\n",
       "    </tr>\n",
       "  </tbody>\n",
       "</table>\n",
       "<p>5 rows × 31 columns</p>\n",
       "</div>"
      ],
      "text/plain": [
       "     playerID  yearID  stint teamID lgID    G  G_batting     AB      R      H  \\\n",
       "15  aaronha01    1962      1    ML1   NL  156      156.0  592.0  127.0  191.0   \n",
       "17  aaronha01    1964      1    ML1   NL  145      145.0  570.0  103.0  187.0   \n",
       "18  aaronha01    1965      1    ML1   NL  150      150.0  570.0  109.0  181.0   \n",
       "20  aaronha01    1967      1    ATL   NL  155      155.0  600.0  113.0  184.0   \n",
       "22  aaronha01    1969      1    ATL   NL  147      147.0  547.0  100.0  164.0   \n",
       "\n",
       "        ...         SF  GIDP  G_old     PA  Games162   Singles   Doubles  \\\n",
       "15      ...        6.0  14.0  156.0  658.0      True -0.006163  0.002838   \n",
       "17      ...        2.0  22.0  145.0  632.0      True  0.029079  0.007407   \n",
       "18      ...        8.0  15.0  150.0  630.0      True  0.000872  0.024527   \n",
       "20      ...        6.0  11.0  155.0  663.0      True -0.014391  0.016549   \n",
       "22      ...        3.0  14.0  147.0  634.0      True -0.033368  0.007961   \n",
       "\n",
       "     Triples   Homerun  Base on balls  \n",
       "15  0.001132  0.040337       0.012301  \n",
       "17 -0.004705  0.010296       0.014015  \n",
       "18 -0.005933  0.023550       0.004814  \n",
       "20 -0.003136  0.034221       0.007964  \n",
       "22 -0.001843  0.039888       0.035206  \n",
       "\n",
       "[5 rows x 31 columns]"
      ]
     },
     "execution_count": 263,
     "metadata": {},
     "output_type": "execute_result"
    }
   ],
   "source": [
    "players2.head()"
   ]
  },
  {
   "cell_type": "code",
   "execution_count": 264,
   "metadata": {},
   "outputs": [],
   "source": [
    "def f(x):\n",
    "    if x[1] in teams[\"yearID\"][teams[\"yearID\"]>=1961].unique():\n",
    "        return True\n",
    "    else: \n",
    "        return False "
   ]
  },
  {
   "cell_type": "code",
   "execution_count": 265,
   "metadata": {},
   "outputs": [],
   "source": [
    "players2[\"Games162\"]=players2.apply(f,axis=1)\n",
    "players2=players2[players2[\"Games162\"]==True]"
   ]
  },
  {
   "cell_type": "code",
   "execution_count": 26,
   "metadata": {},
   "outputs": [],
   "source": [
    "players2.loc[:,\"Singles\"]=(players2[\"H\"]-players2[\"2B\"]-players2[\"3B\"]-players2[\"HR\"])/players2[\"PA\"]\n",
    "players2.loc[:,\"Doubles\"]=(players2[\"2B\"])/players2[\"PA\"]\n",
    "players2.loc[:,\"Triples\"]=(players2[\"3B\"])/players2[\"PA\"]\n",
    "players2.loc[:,\"Homerun\"]=(players2[\"HR\"])/players2[\"PA\"]\n",
    "players2.loc[:,\"Base on balls\"]=(players2[\"BB\"])/players2[\"PA\"]"
   ]
  },
  {
   "cell_type": "code",
   "execution_count": 266,
   "metadata": {},
   "outputs": [
    {
     "name": "stderr",
     "output_type": "stream",
     "text": [
      "c:\\python27\\lib\\site-packages\\ipykernel_launcher.py:10: SettingWithCopyWarning: \n",
      "A value is trying to be set on a copy of a slice from a DataFrame\n",
      "\n",
      "See the caveats in the documentation: http://pandas.pydata.org/pandas-docs/stable/indexing.html#indexing-view-versus-copy\n",
      "  # Remove the CWD from sys.path while we load stuff.\n",
      "c:\\python27\\lib\\site-packages\\ipykernel_launcher.py:11: SettingWithCopyWarning: \n",
      "A value is trying to be set on a copy of a slice from a DataFrame\n",
      "\n",
      "See the caveats in the documentation: http://pandas.pydata.org/pandas-docs/stable/indexing.html#indexing-view-versus-copy\n",
      "  # This is added back by InteractiveShellApp.init_path()\n",
      "c:\\python27\\lib\\site-packages\\ipykernel_launcher.py:12: SettingWithCopyWarning: \n",
      "A value is trying to be set on a copy of a slice from a DataFrame\n",
      "\n",
      "See the caveats in the documentation: http://pandas.pydata.org/pandas-docs/stable/indexing.html#indexing-view-versus-copy\n",
      "  if sys.path[0] == '':\n",
      "c:\\python27\\lib\\site-packages\\ipykernel_launcher.py:13: SettingWithCopyWarning: \n",
      "A value is trying to be set on a copy of a slice from a DataFrame\n",
      "\n",
      "See the caveats in the documentation: http://pandas.pydata.org/pandas-docs/stable/indexing.html#indexing-view-versus-copy\n",
      "  del sys.path[0]\n",
      "c:\\python27\\lib\\site-packages\\ipykernel_launcher.py:14: SettingWithCopyWarning: \n",
      "A value is trying to be set on a copy of a slice from a DataFrame\n",
      "\n",
      "See the caveats in the documentation: http://pandas.pydata.org/pandas-docs/stable/indexing.html#indexing-view-versus-copy\n",
      "  \n"
     ]
    }
   ],
   "source": [
    "players2=players2[(players2[\"PA\"]>=500)&(players2[\"yearID\"]>=1947)]\n",
    "years2=players2[\"yearID\"].unique()\n",
    "for y in years2:\n",
    "    players2_temp=players2[players2[\"yearID\"]==y]\n",
    "    av_singles=players2_temp[\"Singles\"].mean()\n",
    "    av_doubles=players2_temp[\"Doubles\"].mean()\n",
    "    av_triples=players2_temp[\"Triples\"].mean()\n",
    "    av_homerun=players2_temp[\"Homerun\"].mean()\n",
    "    av_bb=players2_temp[\"Base on balls\"].mean()\n",
    "    players2[\"Singles\"][players2[\"yearID\"]==y]=players2[\"Singles\"][players2[\"yearID\"]==y]-av_singles\n",
    "    players2[\"Doubles\"][players2[\"yearID\"]==y]=players2[\"Doubles\"][players2[\"yearID\"]==y]-av_doubles\n",
    "    players2[\"Triples\"][players2[\"yearID\"]==y]=players2[\"Triples\"][players2[\"yearID\"]==y]-av_triples\n",
    "    players2[\"Homerun\"][players2[\"yearID\"]==y]=players2[\"Homerun\"][players2[\"yearID\"]==y]-av_homerun\n",
    "    players2[\"Base on balls\"][players2[\"yearID\"]==y]=players2[\"Base on balls\"][players2[\"yearID\"]==y]-av_bb\n",
    "    "
   ]
  },
  {
   "cell_type": "code",
   "execution_count": 269,
   "metadata": {},
   "outputs": [
    {
     "data": {
      "text/html": [
       "<div>\n",
       "<style scoped>\n",
       "    .dataframe tbody tr th:only-of-type {\n",
       "        vertical-align: middle;\n",
       "    }\n",
       "\n",
       "    .dataframe tbody tr th {\n",
       "        vertical-align: top;\n",
       "    }\n",
       "\n",
       "    .dataframe thead th {\n",
       "        text-align: right;\n",
       "    }\n",
       "</style>\n",
       "<table border=\"1\" class=\"dataframe\">\n",
       "  <thead>\n",
       "    <tr style=\"text-align: right;\">\n",
       "      <th></th>\n",
       "      <th>playerID</th>\n",
       "      <th>yearID</th>\n",
       "      <th>stint</th>\n",
       "      <th>teamID</th>\n",
       "      <th>lgID</th>\n",
       "      <th>G</th>\n",
       "      <th>G_batting</th>\n",
       "      <th>AB</th>\n",
       "      <th>R</th>\n",
       "      <th>H</th>\n",
       "      <th>...</th>\n",
       "      <th>SF</th>\n",
       "      <th>GIDP</th>\n",
       "      <th>G_old</th>\n",
       "      <th>PA</th>\n",
       "      <th>Games162</th>\n",
       "      <th>Singles</th>\n",
       "      <th>Doubles</th>\n",
       "      <th>Triples</th>\n",
       "      <th>Homerun</th>\n",
       "      <th>Base on balls</th>\n",
       "    </tr>\n",
       "  </thead>\n",
       "  <tbody>\n",
       "    <tr>\n",
       "      <th>15</th>\n",
       "      <td>aaronha01</td>\n",
       "      <td>1962</td>\n",
       "      <td>1</td>\n",
       "      <td>ML1</td>\n",
       "      <td>NL</td>\n",
       "      <td>156</td>\n",
       "      <td>156.0</td>\n",
       "      <td>592.0</td>\n",
       "      <td>127.0</td>\n",
       "      <td>191.0</td>\n",
       "      <td>...</td>\n",
       "      <td>6.0</td>\n",
       "      <td>14.0</td>\n",
       "      <td>156.0</td>\n",
       "      <td>658.0</td>\n",
       "      <td>True</td>\n",
       "      <td>-0.006163</td>\n",
       "      <td>0.002838</td>\n",
       "      <td>0.001132</td>\n",
       "      <td>0.040337</td>\n",
       "      <td>0.012301</td>\n",
       "    </tr>\n",
       "    <tr>\n",
       "      <th>17</th>\n",
       "      <td>aaronha01</td>\n",
       "      <td>1964</td>\n",
       "      <td>1</td>\n",
       "      <td>ML1</td>\n",
       "      <td>NL</td>\n",
       "      <td>145</td>\n",
       "      <td>145.0</td>\n",
       "      <td>570.0</td>\n",
       "      <td>103.0</td>\n",
       "      <td>187.0</td>\n",
       "      <td>...</td>\n",
       "      <td>2.0</td>\n",
       "      <td>22.0</td>\n",
       "      <td>145.0</td>\n",
       "      <td>632.0</td>\n",
       "      <td>True</td>\n",
       "      <td>0.029079</td>\n",
       "      <td>0.007407</td>\n",
       "      <td>-0.004705</td>\n",
       "      <td>0.010296</td>\n",
       "      <td>0.014015</td>\n",
       "    </tr>\n",
       "    <tr>\n",
       "      <th>18</th>\n",
       "      <td>aaronha01</td>\n",
       "      <td>1965</td>\n",
       "      <td>1</td>\n",
       "      <td>ML1</td>\n",
       "      <td>NL</td>\n",
       "      <td>150</td>\n",
       "      <td>150.0</td>\n",
       "      <td>570.0</td>\n",
       "      <td>109.0</td>\n",
       "      <td>181.0</td>\n",
       "      <td>...</td>\n",
       "      <td>8.0</td>\n",
       "      <td>15.0</td>\n",
       "      <td>150.0</td>\n",
       "      <td>630.0</td>\n",
       "      <td>True</td>\n",
       "      <td>0.000872</td>\n",
       "      <td>0.024527</td>\n",
       "      <td>-0.005933</td>\n",
       "      <td>0.023550</td>\n",
       "      <td>0.004814</td>\n",
       "    </tr>\n",
       "    <tr>\n",
       "      <th>20</th>\n",
       "      <td>aaronha01</td>\n",
       "      <td>1967</td>\n",
       "      <td>1</td>\n",
       "      <td>ATL</td>\n",
       "      <td>NL</td>\n",
       "      <td>155</td>\n",
       "      <td>155.0</td>\n",
       "      <td>600.0</td>\n",
       "      <td>113.0</td>\n",
       "      <td>184.0</td>\n",
       "      <td>...</td>\n",
       "      <td>6.0</td>\n",
       "      <td>11.0</td>\n",
       "      <td>155.0</td>\n",
       "      <td>663.0</td>\n",
       "      <td>True</td>\n",
       "      <td>-0.014391</td>\n",
       "      <td>0.016549</td>\n",
       "      <td>-0.003136</td>\n",
       "      <td>0.034221</td>\n",
       "      <td>0.007964</td>\n",
       "    </tr>\n",
       "    <tr>\n",
       "      <th>22</th>\n",
       "      <td>aaronha01</td>\n",
       "      <td>1969</td>\n",
       "      <td>1</td>\n",
       "      <td>ATL</td>\n",
       "      <td>NL</td>\n",
       "      <td>147</td>\n",
       "      <td>147.0</td>\n",
       "      <td>547.0</td>\n",
       "      <td>100.0</td>\n",
       "      <td>164.0</td>\n",
       "      <td>...</td>\n",
       "      <td>3.0</td>\n",
       "      <td>14.0</td>\n",
       "      <td>147.0</td>\n",
       "      <td>634.0</td>\n",
       "      <td>True</td>\n",
       "      <td>-0.033368</td>\n",
       "      <td>0.007961</td>\n",
       "      <td>-0.001843</td>\n",
       "      <td>0.039888</td>\n",
       "      <td>0.035206</td>\n",
       "    </tr>\n",
       "  </tbody>\n",
       "</table>\n",
       "<p>5 rows × 31 columns</p>\n",
       "</div>"
      ],
      "text/plain": [
       "     playerID  yearID  stint teamID lgID    G  G_batting     AB      R      H  \\\n",
       "15  aaronha01    1962      1    ML1   NL  156      156.0  592.0  127.0  191.0   \n",
       "17  aaronha01    1964      1    ML1   NL  145      145.0  570.0  103.0  187.0   \n",
       "18  aaronha01    1965      1    ML1   NL  150      150.0  570.0  109.0  181.0   \n",
       "20  aaronha01    1967      1    ATL   NL  155      155.0  600.0  113.0  184.0   \n",
       "22  aaronha01    1969      1    ATL   NL  147      147.0  547.0  100.0  164.0   \n",
       "\n",
       "        ...         SF  GIDP  G_old     PA  Games162   Singles   Doubles  \\\n",
       "15      ...        6.0  14.0  156.0  658.0      True -0.006163  0.002838   \n",
       "17      ...        2.0  22.0  145.0  632.0      True  0.029079  0.007407   \n",
       "18      ...        8.0  15.0  150.0  630.0      True  0.000872  0.024527   \n",
       "20      ...        6.0  11.0  155.0  663.0      True -0.014391  0.016549   \n",
       "22      ...        3.0  14.0  147.0  634.0      True -0.033368  0.007961   \n",
       "\n",
       "     Triples   Homerun  Base on balls  \n",
       "15  0.001132  0.040337       0.012301  \n",
       "17 -0.004705  0.010296       0.014015  \n",
       "18 -0.005933  0.023550       0.004814  \n",
       "20 -0.003136  0.034221       0.007964  \n",
       "22 -0.001843  0.039888       0.035206  \n",
       "\n",
       "[5 rows x 31 columns]"
      ]
     },
     "execution_count": 269,
     "metadata": {},
     "output_type": "execute_result"
    }
   ],
   "source": [
    "players2.head()\n"
   ]
  },
  {
   "cell_type": "code",
   "execution_count": 270,
   "metadata": {},
   "outputs": [
    {
     "data": {
      "text/html": [
       "<div>\n",
       "<style scoped>\n",
       "    .dataframe tbody tr th:only-of-type {\n",
       "        vertical-align: middle;\n",
       "    }\n",
       "\n",
       "    .dataframe tbody tr th {\n",
       "        vertical-align: top;\n",
       "    }\n",
       "\n",
       "    .dataframe thead th {\n",
       "        text-align: right;\n",
       "    }\n",
       "</style>\n",
       "<table border=\"1\" class=\"dataframe\">\n",
       "  <thead>\n",
       "    <tr style=\"text-align: right;\">\n",
       "      <th></th>\n",
       "      <th>playerID</th>\n",
       "      <th>yearID</th>\n",
       "      <th>Singles</th>\n",
       "      <th>Doubles</th>\n",
       "      <th>Triples</th>\n",
       "      <th>Homerun</th>\n",
       "      <th>Base on balls</th>\n",
       "      <th>PA</th>\n",
       "    </tr>\n",
       "  </thead>\n",
       "  <tbody>\n",
       "    <tr>\n",
       "      <th>15</th>\n",
       "      <td>aaronha01</td>\n",
       "      <td>1962</td>\n",
       "      <td>-0.006163</td>\n",
       "      <td>0.002838</td>\n",
       "      <td>0.001132</td>\n",
       "      <td>0.040337</td>\n",
       "      <td>0.012301</td>\n",
       "      <td>658.0</td>\n",
       "    </tr>\n",
       "    <tr>\n",
       "      <th>17</th>\n",
       "      <td>aaronha01</td>\n",
       "      <td>1964</td>\n",
       "      <td>0.029079</td>\n",
       "      <td>0.007407</td>\n",
       "      <td>-0.004705</td>\n",
       "      <td>0.010296</td>\n",
       "      <td>0.014015</td>\n",
       "      <td>632.0</td>\n",
       "    </tr>\n",
       "    <tr>\n",
       "      <th>18</th>\n",
       "      <td>aaronha01</td>\n",
       "      <td>1965</td>\n",
       "      <td>0.000872</td>\n",
       "      <td>0.024527</td>\n",
       "      <td>-0.005933</td>\n",
       "      <td>0.023550</td>\n",
       "      <td>0.004814</td>\n",
       "      <td>630.0</td>\n",
       "    </tr>\n",
       "    <tr>\n",
       "      <th>20</th>\n",
       "      <td>aaronha01</td>\n",
       "      <td>1967</td>\n",
       "      <td>-0.014391</td>\n",
       "      <td>0.016549</td>\n",
       "      <td>-0.003136</td>\n",
       "      <td>0.034221</td>\n",
       "      <td>0.007964</td>\n",
       "      <td>663.0</td>\n",
       "    </tr>\n",
       "    <tr>\n",
       "      <th>22</th>\n",
       "      <td>aaronha01</td>\n",
       "      <td>1969</td>\n",
       "      <td>-0.033368</td>\n",
       "      <td>0.007961</td>\n",
       "      <td>-0.001843</td>\n",
       "      <td>0.039888</td>\n",
       "      <td>0.035206</td>\n",
       "      <td>634.0</td>\n",
       "    </tr>\n",
       "  </tbody>\n",
       "</table>\n",
       "</div>"
      ],
      "text/plain": [
       "     playerID  yearID   Singles   Doubles   Triples   Homerun  Base on balls  \\\n",
       "15  aaronha01    1962 -0.006163  0.002838  0.001132  0.040337       0.012301   \n",
       "17  aaronha01    1964  0.029079  0.007407 -0.004705  0.010296       0.014015   \n",
       "18  aaronha01    1965  0.000872  0.024527 -0.005933  0.023550       0.004814   \n",
       "20  aaronha01    1967 -0.014391  0.016549 -0.003136  0.034221       0.007964   \n",
       "22  aaronha01    1969 -0.033368  0.007961 -0.001843  0.039888       0.035206   \n",
       "\n",
       "       PA  \n",
       "15  658.0  \n",
       "17  632.0  \n",
       "18  630.0  \n",
       "20  663.0  \n",
       "22  634.0  "
      ]
     },
     "execution_count": 270,
     "metadata": {},
     "output_type": "execute_result"
    }
   ],
   "source": [
    "playerstats=players2[[\"playerID\",\"yearID\",\"Singles\",\"Doubles\",\"Triples\",\"Homerun\",\"Base on balls\",\"PA\"]]\n",
    "playerstats.head()"
   ]
  },
  {
   "cell_type": "markdown",
   "metadata": {},
   "source": [
    "#### Problem 1(h)\n",
    "\n",
    "Using the `playerstats` DataFrame created in Problem 1(g), create a new DataFrame called `playerLS` containing the player's lifetime stats. This DataFrame should contain the playerID, the year the player's career started, the year the player's career ended and the player's lifetime average for each of the quantities (singles, doubles, triples, HR, BB). For simplicity we will simply compute the avaerage of the rates by year (a more correct way is to go back to the totals). "
   ]
  },
  {
   "cell_type": "code",
   "execution_count": 271,
   "metadata": {},
   "outputs": [],
   "source": [
    "def g(name):\n",
    "    temp=playerstats[\"yearID\"][playerstats[\"playerID\"]==name]\n",
    "    return temp.min()\n",
    "def h(name):\n",
    "    temp=playerstats[\"yearID\"][playerstats[\"playerID\"]==name]\n",
    "    return temp.max()"
   ]
  },
  {
   "cell_type": "code",
   "execution_count": 272,
   "metadata": {},
   "outputs": [],
   "source": [
    "playerLS=pd.DataFrame()\n",
    "playerLS[\"playerID\"]=playerstats[\"playerID\"].unique()\n",
    "playerLS[\"startYear\"]=map(g,playerLS[\"playerID\"])\n",
    "playerLS[\"endYear\"]=map(h,playerLS[\"playerID\"])\n",
    "playerLS[\"avSingle\"]=map(lambda x: playerstats[\"Singles\"][playerstats[\"playerID\"]==x].mean(),playerLS[\"playerID\"])\n",
    "playerLS[\"avDoubles\"]=map(lambda x: playerstats[\"Doubles\"][playerstats[\"playerID\"]==x].mean(),playerLS[\"playerID\"])\n",
    "playerLS[\"avTriples\"]=map(lambda x: playerstats[\"Triples\"][playerstats[\"playerID\"]==x].mean(),playerLS[\"playerID\"])\n",
    "playerLS[\"avHomerun\"]=map(lambda x: playerstats[\"Homerun\"][playerstats[\"playerID\"]==x].mean(),playerLS[\"playerID\"])\n",
    "playerLS[\"avBase on balls\"]=map(lambda x: playerstats[\"Base on balls\"][playerstats[\"playerID\"]==x].mean(),playerLS[\"playerID\"])"
   ]
  },
  {
   "cell_type": "markdown",
   "metadata": {},
   "source": [
    "Show the head of the `playerLS` DataFrame. "
   ]
  },
  {
   "cell_type": "code",
   "execution_count": 273,
   "metadata": {},
   "outputs": [
    {
     "data": {
      "text/html": [
       "<div>\n",
       "<style scoped>\n",
       "    .dataframe tbody tr th:only-of-type {\n",
       "        vertical-align: middle;\n",
       "    }\n",
       "\n",
       "    .dataframe tbody tr th {\n",
       "        vertical-align: top;\n",
       "    }\n",
       "\n",
       "    .dataframe thead th {\n",
       "        text-align: right;\n",
       "    }\n",
       "</style>\n",
       "<table border=\"1\" class=\"dataframe\">\n",
       "  <thead>\n",
       "    <tr style=\"text-align: right;\">\n",
       "      <th></th>\n",
       "      <th>playerID</th>\n",
       "      <th>startYear</th>\n",
       "      <th>endYear</th>\n",
       "      <th>avSingle</th>\n",
       "      <th>avDoubles</th>\n",
       "      <th>avTriples</th>\n",
       "      <th>avHomerun</th>\n",
       "      <th>avBase on balls</th>\n",
       "    </tr>\n",
       "  </thead>\n",
       "  <tbody>\n",
       "    <tr>\n",
       "      <th>0</th>\n",
       "      <td>aaronha01</td>\n",
       "      <td>1962</td>\n",
       "      <td>1975</td>\n",
       "      <td>-0.011320</td>\n",
       "      <td>0.006584</td>\n",
       "      <td>-0.002864</td>\n",
       "      <td>0.029832</td>\n",
       "      <td>0.019952</td>\n",
       "    </tr>\n",
       "    <tr>\n",
       "      <th>1</th>\n",
       "      <td>abreubo01</td>\n",
       "      <td>1998</td>\n",
       "      <td>2011</td>\n",
       "      <td>-0.008357</td>\n",
       "      <td>0.004795</td>\n",
       "      <td>0.000678</td>\n",
       "      <td>-0.002902</td>\n",
       "      <td>0.050419</td>\n",
       "    </tr>\n",
       "    <tr>\n",
       "      <th>2</th>\n",
       "      <td>ackledu01</td>\n",
       "      <td>2012</td>\n",
       "      <td>2012</td>\n",
       "      <td>-0.009186</td>\n",
       "      <td>-0.016607</td>\n",
       "      <td>-0.002044</td>\n",
       "      <td>-0.015187</td>\n",
       "      <td>0.001574</td>\n",
       "    </tr>\n",
       "    <tr>\n",
       "      <th>3</th>\n",
       "      <td>adairje01</td>\n",
       "      <td>1962</td>\n",
       "      <td>1965</td>\n",
       "      <td>0.016187</td>\n",
       "      <td>0.007393</td>\n",
       "      <td>-0.001782</td>\n",
       "      <td>-0.012241</td>\n",
       "      <td>-0.036957</td>\n",
       "    </tr>\n",
       "    <tr>\n",
       "      <th>4</th>\n",
       "      <td>adamsru01</td>\n",
       "      <td>2005</td>\n",
       "      <td>2005</td>\n",
       "      <td>-0.008323</td>\n",
       "      <td>-0.001293</td>\n",
       "      <td>0.004036</td>\n",
       "      <td>-0.017029</td>\n",
       "      <td>0.002943</td>\n",
       "    </tr>\n",
       "  </tbody>\n",
       "</table>\n",
       "</div>"
      ],
      "text/plain": [
       "    playerID  startYear  endYear  avSingle  avDoubles  avTriples  avHomerun  \\\n",
       "0  aaronha01       1962     1975 -0.011320   0.006584  -0.002864   0.029832   \n",
       "1  abreubo01       1998     2011 -0.008357   0.004795   0.000678  -0.002902   \n",
       "2  ackledu01       2012     2012 -0.009186  -0.016607  -0.002044  -0.015187   \n",
       "3  adairje01       1962     1965  0.016187   0.007393  -0.001782  -0.012241   \n",
       "4  adamsru01       2005     2005 -0.008323  -0.001293   0.004036  -0.017029   \n",
       "\n",
       "   avBase on balls  \n",
       "0         0.019952  \n",
       "1         0.050419  \n",
       "2         0.001574  \n",
       "3        -0.036957  \n",
       "4         0.002943  "
      ]
     },
     "execution_count": 273,
     "metadata": {},
     "output_type": "execute_result"
    }
   ],
   "source": [
    "playerLS.head()"
   ]
  },
  {
   "cell_type": "markdown",
   "metadata": {},
   "source": [
    "#### Problem 1(i)\n",
    "\n",
    "Compute the OPW for each player based on the average rates in the `playerLS` DataFrame. You can interpret this summary statistic as the predicted wins for a team with 9 batters exactly like the player in question. Add this column to the playerLS DataFrame. Call this colum OPW."
   ]
  },
  {
   "cell_type": "code",
   "execution_count": 275,
   "metadata": {},
   "outputs": [],
   "source": [
    "coef=reg.coef_\n",
    "intercept=reg.intercept_\n",
    "coef3=np.append(coef[0:2],0,)\n",
    "coef4=np.append(coef3,coef[2:5])\n"
   ]
  },
  {
   "cell_type": "code",
   "execution_count": 276,
   "metadata": {},
   "outputs": [],
   "source": [
    "playerLS[\"OPW\"]=playerLS.apply(lambda x: (sum(x[3:8]*coef4))+intercept,axis=1)"
   ]
  },
  {
   "cell_type": "code",
   "execution_count": 277,
   "metadata": {},
   "outputs": [
    {
     "data": {
      "text/html": [
       "<div>\n",
       "<style scoped>\n",
       "    .dataframe tbody tr th:only-of-type {\n",
       "        vertical-align: middle;\n",
       "    }\n",
       "\n",
       "    .dataframe tbody tr th {\n",
       "        vertical-align: top;\n",
       "    }\n",
       "\n",
       "    .dataframe thead th {\n",
       "        text-align: right;\n",
       "    }\n",
       "</style>\n",
       "<table border=\"1\" class=\"dataframe\">\n",
       "  <thead>\n",
       "    <tr style=\"text-align: right;\">\n",
       "      <th></th>\n",
       "      <th>playerID</th>\n",
       "      <th>startYear</th>\n",
       "      <th>endYear</th>\n",
       "      <th>avSingle</th>\n",
       "      <th>avDoubles</th>\n",
       "      <th>avTriples</th>\n",
       "      <th>avHomerun</th>\n",
       "      <th>avBase on balls</th>\n",
       "      <th>OPW</th>\n",
       "    </tr>\n",
       "  </thead>\n",
       "  <tbody>\n",
       "    <tr>\n",
       "      <th>0</th>\n",
       "      <td>aaronha01</td>\n",
       "      <td>1962</td>\n",
       "      <td>1975</td>\n",
       "      <td>-0.011320</td>\n",
       "      <td>0.006584</td>\n",
       "      <td>-0.002864</td>\n",
       "      <td>0.029832</td>\n",
       "      <td>0.019952</td>\n",
       "      <td>128.428912</td>\n",
       "    </tr>\n",
       "    <tr>\n",
       "      <th>1</th>\n",
       "      <td>abreubo01</td>\n",
       "      <td>1998</td>\n",
       "      <td>2011</td>\n",
       "      <td>-0.008357</td>\n",
       "      <td>0.004795</td>\n",
       "      <td>0.000678</td>\n",
       "      <td>-0.002902</td>\n",
       "      <td>0.050419</td>\n",
       "      <td>108.651514</td>\n",
       "    </tr>\n",
       "    <tr>\n",
       "      <th>2</th>\n",
       "      <td>ackledu01</td>\n",
       "      <td>2012</td>\n",
       "      <td>2012</td>\n",
       "      <td>-0.009186</td>\n",
       "      <td>-0.016607</td>\n",
       "      <td>-0.002044</td>\n",
       "      <td>-0.015187</td>\n",
       "      <td>0.001574</td>\n",
       "      <td>33.733040</td>\n",
       "    </tr>\n",
       "    <tr>\n",
       "      <th>3</th>\n",
       "      <td>adairje01</td>\n",
       "      <td>1962</td>\n",
       "      <td>1965</td>\n",
       "      <td>0.016187</td>\n",
       "      <td>0.007393</td>\n",
       "      <td>-0.001782</td>\n",
       "      <td>-0.012241</td>\n",
       "      <td>-0.036957</td>\n",
       "      <td>65.438381</td>\n",
       "    </tr>\n",
       "    <tr>\n",
       "      <th>4</th>\n",
       "      <td>adamsru01</td>\n",
       "      <td>2005</td>\n",
       "      <td>2005</td>\n",
       "      <td>-0.008323</td>\n",
       "      <td>-0.001293</td>\n",
       "      <td>0.004036</td>\n",
       "      <td>-0.017029</td>\n",
       "      <td>0.002943</td>\n",
       "      <td>51.450597</td>\n",
       "    </tr>\n",
       "  </tbody>\n",
       "</table>\n",
       "</div>"
      ],
      "text/plain": [
       "    playerID  startYear  endYear  avSingle  avDoubles  avTriples  avHomerun  \\\n",
       "0  aaronha01       1962     1975 -0.011320   0.006584  -0.002864   0.029832   \n",
       "1  abreubo01       1998     2011 -0.008357   0.004795   0.000678  -0.002902   \n",
       "2  ackledu01       2012     2012 -0.009186  -0.016607  -0.002044  -0.015187   \n",
       "3  adairje01       1962     1965  0.016187   0.007393  -0.001782  -0.012241   \n",
       "4  adamsru01       2005     2005 -0.008323  -0.001293   0.004036  -0.017029   \n",
       "\n",
       "   avBase on balls         OPW  \n",
       "0         0.019952  128.428912  \n",
       "1         0.050419  108.651514  \n",
       "2         0.001574   33.733040  \n",
       "3        -0.036957   65.438381  \n",
       "4         0.002943   51.450597  "
      ]
     },
     "execution_count": 277,
     "metadata": {},
     "output_type": "execute_result"
    }
   ],
   "source": [
    "playerLS.head()"
   ]
  },
  {
   "cell_type": "markdown",
   "metadata": {},
   "source": [
    "#### Problem 1(j)\n",
    "\n",
    "Add four columns to the `playerLS` DataFrame that contains the player's position (C, 1B, 2B, 3B, SS, LF, CF, RF, or OF), first name, last name and median salary. "
   ]
  },
  {
   "cell_type": "code",
   "execution_count": 278,
   "metadata": {},
   "outputs": [],
   "source": [
    "playerLS[\"Position\"]=[fielding[\"POS\"][fielding[\"playerID\"]==name].unique()   for name in playerLS[\"playerID\"]]\n",
    "playerLS[\"FirstName\"]=[master[\"nameFirst\"][master[\"playerID\"]==name].iloc[0] for name in playerLS[\"playerID\"]]\n",
    "playerLS[\"LastName\"]=[master[\"nameLast\"][master[\"playerID\"]==name].iloc[0] for name in playerLS[\"playerID\"]]"
   ]
  },
  {
   "cell_type": "code",
   "execution_count": 279,
   "metadata": {},
   "outputs": [],
   "source": [
    "playerLS[\"medianSalaries\"]=[medianSalaries[\"medianSal\"][medianSalaries[\"playerID\"]==name].iloc[0] for name in playerLS[\"playerID\"]]"
   ]
  },
  {
   "cell_type": "markdown",
   "metadata": {},
   "source": [
    "Show the head of the `playerLS` DataFrame. "
   ]
  },
  {
   "cell_type": "code",
   "execution_count": 298,
   "metadata": {},
   "outputs": [
    {
     "data": {
      "text/html": [
       "<div>\n",
       "<style scoped>\n",
       "    .dataframe tbody tr th:only-of-type {\n",
       "        vertical-align: middle;\n",
       "    }\n",
       "\n",
       "    .dataframe tbody tr th {\n",
       "        vertical-align: top;\n",
       "    }\n",
       "\n",
       "    .dataframe thead th {\n",
       "        text-align: right;\n",
       "    }\n",
       "</style>\n",
       "<table border=\"1\" class=\"dataframe\">\n",
       "  <thead>\n",
       "    <tr style=\"text-align: right;\">\n",
       "      <th></th>\n",
       "      <th>playerID</th>\n",
       "      <th>startYear</th>\n",
       "      <th>endYear</th>\n",
       "      <th>avSingle</th>\n",
       "      <th>avDoubles</th>\n",
       "      <th>avTriples</th>\n",
       "      <th>avHomerun</th>\n",
       "      <th>avBase on balls</th>\n",
       "      <th>OPW</th>\n",
       "      <th>Position</th>\n",
       "      <th>FirstName</th>\n",
       "      <th>LastName</th>\n",
       "      <th>medianSalaries</th>\n",
       "    </tr>\n",
       "  </thead>\n",
       "  <tbody>\n",
       "    <tr>\n",
       "      <th>0</th>\n",
       "      <td>aaronha01</td>\n",
       "      <td>1962</td>\n",
       "      <td>1975</td>\n",
       "      <td>-0.011320</td>\n",
       "      <td>0.006584</td>\n",
       "      <td>-0.002864</td>\n",
       "      <td>0.029832</td>\n",
       "      <td>0.019952</td>\n",
       "      <td>128.428912</td>\n",
       "      <td>[LF, OF, RF, 2B, CF, 3B, 1B, DH]</td>\n",
       "      <td>Hank</td>\n",
       "      <td>Aaron</td>\n",
       "      <td>NaN</td>\n",
       "    </tr>\n",
       "    <tr>\n",
       "      <th>1</th>\n",
       "      <td>abreubo01</td>\n",
       "      <td>1998</td>\n",
       "      <td>2011</td>\n",
       "      <td>-0.008357</td>\n",
       "      <td>0.004795</td>\n",
       "      <td>0.000678</td>\n",
       "      <td>-0.002902</td>\n",
       "      <td>0.050419</td>\n",
       "      <td>108.651514</td>\n",
       "      <td>[LF, OF, RF, CF, DH]</td>\n",
       "      <td>Bobby</td>\n",
       "      <td>Abreu</td>\n",
       "      <td>9000000.0</td>\n",
       "    </tr>\n",
       "    <tr>\n",
       "      <th>2</th>\n",
       "      <td>ackledu01</td>\n",
       "      <td>2012</td>\n",
       "      <td>2012</td>\n",
       "      <td>-0.009186</td>\n",
       "      <td>-0.016607</td>\n",
       "      <td>-0.002044</td>\n",
       "      <td>-0.015187</td>\n",
       "      <td>0.001574</td>\n",
       "      <td>33.733040</td>\n",
       "      <td>[1B, 2B, CF, LF]</td>\n",
       "      <td>Dustin</td>\n",
       "      <td>Ackley</td>\n",
       "      <td>2400000.0</td>\n",
       "    </tr>\n",
       "    <tr>\n",
       "      <th>3</th>\n",
       "      <td>adairje01</td>\n",
       "      <td>1962</td>\n",
       "      <td>1965</td>\n",
       "      <td>0.016187</td>\n",
       "      <td>0.007393</td>\n",
       "      <td>-0.001782</td>\n",
       "      <td>-0.012241</td>\n",
       "      <td>-0.036957</td>\n",
       "      <td>65.438381</td>\n",
       "      <td>[2B, SS, 3B, 1B]</td>\n",
       "      <td>Jerry</td>\n",
       "      <td>Adair</td>\n",
       "      <td>NaN</td>\n",
       "    </tr>\n",
       "    <tr>\n",
       "      <th>4</th>\n",
       "      <td>adamsru01</td>\n",
       "      <td>2005</td>\n",
       "      <td>2005</td>\n",
       "      <td>-0.008323</td>\n",
       "      <td>-0.001293</td>\n",
       "      <td>0.004036</td>\n",
       "      <td>-0.017029</td>\n",
       "      <td>0.002943</td>\n",
       "      <td>51.450597</td>\n",
       "      <td>[SS, 2B, DH, 3B, LF, OF]</td>\n",
       "      <td>Russ</td>\n",
       "      <td>Adams</td>\n",
       "      <td>329500.0</td>\n",
       "    </tr>\n",
       "  </tbody>\n",
       "</table>\n",
       "</div>"
      ],
      "text/plain": [
       "    playerID  startYear  endYear  avSingle  avDoubles  avTriples  avHomerun  \\\n",
       "0  aaronha01       1962     1975 -0.011320   0.006584  -0.002864   0.029832   \n",
       "1  abreubo01       1998     2011 -0.008357   0.004795   0.000678  -0.002902   \n",
       "2  ackledu01       2012     2012 -0.009186  -0.016607  -0.002044  -0.015187   \n",
       "3  adairje01       1962     1965  0.016187   0.007393  -0.001782  -0.012241   \n",
       "4  adamsru01       2005     2005 -0.008323  -0.001293   0.004036  -0.017029   \n",
       "\n",
       "   avBase on balls         OPW                          Position FirstName  \\\n",
       "0         0.019952  128.428912  [LF, OF, RF, 2B, CF, 3B, 1B, DH]      Hank   \n",
       "1         0.050419  108.651514              [LF, OF, RF, CF, DH]     Bobby   \n",
       "2         0.001574   33.733040                  [1B, 2B, CF, LF]    Dustin   \n",
       "3        -0.036957   65.438381                  [2B, SS, 3B, 1B]     Jerry   \n",
       "4         0.002943   51.450597          [SS, 2B, DH, 3B, LF, OF]      Russ   \n",
       "\n",
       "  LastName  medianSalaries  \n",
       "0    Aaron             NaN  \n",
       "1    Abreu       9000000.0  \n",
       "2   Ackley       2400000.0  \n",
       "3    Adair             NaN  \n",
       "4    Adams        329500.0  "
      ]
     },
     "execution_count": 298,
     "metadata": {},
     "output_type": "execute_result"
    }
   ],
   "source": [
    "playerLS.head()"
   ]
  },
  {
   "cell_type": "markdown",
   "metadata": {},
   "source": [
    "#### Problem 1(k)\n",
    "\n",
    "Subset the `playerLS` DataFrame for players active in 2002 and 2003 and played at least three years. Plot and describe the relationship bewteen the median salary (in millions) and the predicted number of wins. "
   ]
  },
  {
   "cell_type": "code",
   "execution_count": 299,
   "metadata": {},
   "outputs": [],
   "source": [
    "playerLS2=playerLS[(playerLS[\"startYear\"]<2002)&(playerLS[\"endYear\"]>=2003)&(playerLS[\"endYear\"]-playerLS[\"startYear\"]>=3)]"
   ]
  },
  {
   "cell_type": "code",
   "execution_count": 300,
   "metadata": {},
   "outputs": [
    {
     "data": {
      "text/plain": [
       "<matplotlib.collections.PathCollection at 0x2026d570>"
      ]
     },
     "execution_count": 300,
     "metadata": {},
     "output_type": "execute_result"
    },
    {
     "data": {
      "image/png": "[encoded data removed]",
      "text/plain": [
       "<Figure size 432x288 with 1 Axes>"
      ]
     },
     "metadata": {},
     "output_type": "display_data"
    }
   ],
   "source": [
    "plt.scatter(playerLS2[\"medianSalaries\"],playerLS2[\"OPW\"])"
   ]
  },
  {
   "cell_type": "code",
   "execution_count": 301,
   "metadata": {},
   "outputs": [
    {
     "data": {
      "text/html": [
       "<div>\n",
       "<style scoped>\n",
       "    .dataframe tbody tr th:only-of-type {\n",
       "        vertical-align: middle;\n",
       "    }\n",
       "\n",
       "    .dataframe tbody tr th {\n",
       "        vertical-align: top;\n",
       "    }\n",
       "\n",
       "    .dataframe thead th {\n",
       "        text-align: right;\n",
       "    }\n",
       "</style>\n",
       "<table border=\"1\" class=\"dataframe\">\n",
       "  <thead>\n",
       "    <tr style=\"text-align: right;\">\n",
       "      <th></th>\n",
       "      <th>playerID</th>\n",
       "      <th>startYear</th>\n",
       "      <th>endYear</th>\n",
       "      <th>avSingle</th>\n",
       "      <th>avDoubles</th>\n",
       "      <th>avTriples</th>\n",
       "      <th>avHomerun</th>\n",
       "      <th>avBase on balls</th>\n",
       "      <th>OPW</th>\n",
       "      <th>Position</th>\n",
       "      <th>FirstName</th>\n",
       "      <th>LastName</th>\n",
       "      <th>medianSalaries</th>\n",
       "    </tr>\n",
       "  </thead>\n",
       "  <tbody>\n",
       "    <tr>\n",
       "      <th>1</th>\n",
       "      <td>abreubo01</td>\n",
       "      <td>1998</td>\n",
       "      <td>2011</td>\n",
       "      <td>-0.008357</td>\n",
       "      <td>0.004795</td>\n",
       "      <td>0.000678</td>\n",
       "      <td>-0.002902</td>\n",
       "      <td>0.050419</td>\n",
       "      <td>108.651514</td>\n",
       "      <td>[LF, OF, RF, CF, DH]</td>\n",
       "      <td>Bobby</td>\n",
       "      <td>Abreu</td>\n",
       "      <td>9000000.0</td>\n",
       "    </tr>\n",
       "    <tr>\n",
       "      <th>7</th>\n",
       "      <td>alfoned01</td>\n",
       "      <td>1997</td>\n",
       "      <td>2004</td>\n",
       "      <td>0.013239</td>\n",
       "      <td>-0.002901</td>\n",
       "      <td>-0.002933</td>\n",
       "      <td>-0.007119</td>\n",
       "      <td>0.010239</td>\n",
       "      <td>88.647648</td>\n",
       "      <td>[2B, 3B, SS, DH, 1B]</td>\n",
       "      <td>Edgardo</td>\n",
       "      <td>Alfonzo</td>\n",
       "      <td>4112500.0</td>\n",
       "    </tr>\n",
       "    <tr>\n",
       "      <th>19</th>\n",
       "      <td>aloumo01</td>\n",
       "      <td>1996</td>\n",
       "      <td>2004</td>\n",
       "      <td>0.005633</td>\n",
       "      <td>-0.000303</td>\n",
       "      <td>-0.001272</td>\n",
       "      <td>0.010456</td>\n",
       "      <td>0.004116</td>\n",
       "      <td>102.106027</td>\n",
       "      <td>[CF, LF, OF, RF, DH]</td>\n",
       "      <td>Moises</td>\n",
       "      <td>Alou</td>\n",
       "      <td>5135000.0</td>\n",
       "    </tr>\n",
       "    <tr>\n",
       "      <th>25</th>\n",
       "      <td>anderga01</td>\n",
       "      <td>1997</td>\n",
       "      <td>2009</td>\n",
       "      <td>0.018180</td>\n",
       "      <td>0.007104</td>\n",
       "      <td>-0.001241</td>\n",
       "      <td>-0.001695</td>\n",
       "      <td>-0.050378</td>\n",
       "      <td>71.297625</td>\n",
       "      <td>[LF, OF, CF, DH, RF, 1B]</td>\n",
       "      <td>Garret</td>\n",
       "      <td>Anderson</td>\n",
       "      <td>3250000.0</td>\n",
       "    </tr>\n",
       "    <tr>\n",
       "      <th>43</th>\n",
       "      <td>bagweje01</td>\n",
       "      <td>1991</td>\n",
       "      <td>2004</td>\n",
       "      <td>-0.021643</td>\n",
       "      <td>0.002357</td>\n",
       "      <td>-0.001786</td>\n",
       "      <td>0.014753</td>\n",
       "      <td>0.053938</td>\n",
       "      <td>117.035000</td>\n",
       "      <td>[1B, OF, RF, DH]</td>\n",
       "      <td>Jeff</td>\n",
       "      <td>Bagwell</td>\n",
       "      <td>6875000.0</td>\n",
       "    </tr>\n",
       "  </tbody>\n",
       "</table>\n",
       "</div>"
      ],
      "text/plain": [
       "     playerID  startYear  endYear  avSingle  avDoubles  avTriples  avHomerun  \\\n",
       "1   abreubo01       1998     2011 -0.008357   0.004795   0.000678  -0.002902   \n",
       "7   alfoned01       1997     2004  0.013239  -0.002901  -0.002933  -0.007119   \n",
       "19   aloumo01       1996     2004  0.005633  -0.000303  -0.001272   0.010456   \n",
       "25  anderga01       1997     2009  0.018180   0.007104  -0.001241  -0.001695   \n",
       "43  bagweje01       1991     2004 -0.021643   0.002357  -0.001786   0.014753   \n",
       "\n",
       "    avBase on balls         OPW                  Position FirstName  LastName  \\\n",
       "1          0.050419  108.651514      [LF, OF, RF, CF, DH]     Bobby     Abreu   \n",
       "7          0.010239   88.647648      [2B, 3B, SS, DH, 1B]   Edgardo   Alfonzo   \n",
       "19         0.004116  102.106027      [CF, LF, OF, RF, DH]    Moises      Alou   \n",
       "25        -0.050378   71.297625  [LF, OF, CF, DH, RF, 1B]    Garret  Anderson   \n",
       "43         0.053938  117.035000          [1B, OF, RF, DH]      Jeff   Bagwell   \n",
       "\n",
       "    medianSalaries  \n",
       "1        9000000.0  \n",
       "7        4112500.0  \n",
       "19       5135000.0  \n",
       "25       3250000.0  \n",
       "43       6875000.0  "
      ]
     },
     "execution_count": 301,
     "metadata": {},
     "output_type": "execute_result"
    }
   ],
   "source": [
    "playerLS2.head()"
   ]
  },
  {
   "cell_type": "markdown",
   "metadata": {},
   "source": [
    "#### Problem 1(l)\n",
    "Pick one players from one of each of these 10 position C, 1B, 2B, 3B, SS, LF, CF, RF, DH, or OF keeping the total median salary of all 10 players below 20 million. Report their averaged predicted wins and total salary."
   ]
  },
  {
   "cell_type": "code",
   "execution_count": 318,
   "metadata": {
    "scrolled": true
   },
   "outputs": [
    {
     "data": {
      "text/html": [
       "<div>\n",
       "<style scoped>\n",
       "    .dataframe tbody tr th:only-of-type {\n",
       "        vertical-align: middle;\n",
       "    }\n",
       "\n",
       "    .dataframe tbody tr th {\n",
       "        vertical-align: top;\n",
       "    }\n",
       "\n",
       "    .dataframe thead th {\n",
       "        text-align: right;\n",
       "    }\n",
       "</style>\n",
       "<table border=\"1\" class=\"dataframe\">\n",
       "  <thead>\n",
       "    <tr style=\"text-align: right;\">\n",
       "      <th></th>\n",
       "      <th>playerID</th>\n",
       "      <th>startYear</th>\n",
       "      <th>endYear</th>\n",
       "      <th>avSingle</th>\n",
       "      <th>avDoubles</th>\n",
       "      <th>avTriples</th>\n",
       "      <th>avHomerun</th>\n",
       "      <th>avBase on balls</th>\n",
       "      <th>OPW</th>\n",
       "      <th>Position</th>\n",
       "      <th>FirstName</th>\n",
       "      <th>LastName</th>\n",
       "      <th>medianSalaries</th>\n",
       "    </tr>\n",
       "  </thead>\n",
       "  <tbody>\n",
       "    <tr>\n",
       "      <th>246</th>\n",
       "      <td>coninje01</td>\n",
       "      <td>1993</td>\n",
       "      <td>2004</td>\n",
       "      <td>0.022088</td>\n",
       "      <td>-0.003123</td>\n",
       "      <td>-0.002174</td>\n",
       "      <td>-0.006393</td>\n",
       "      <td>-0.005730</td>\n",
       "      <td>87.372973</td>\n",
       "      <td>[1B, LF, OF, RF, DH, 3B]</td>\n",
       "      <td>Jeff</td>\n",
       "      <td>Conine</td>\n",
       "      <td>2240000.0</td>\n",
       "    </tr>\n",
       "    <tr>\n",
       "      <th>352</th>\n",
       "      <td>evereca01</td>\n",
       "      <td>1998</td>\n",
       "      <td>2005</td>\n",
       "      <td>-0.007480</td>\n",
       "      <td>0.003724</td>\n",
       "      <td>0.000795</td>\n",
       "      <td>0.011602</td>\n",
       "      <td>-0.008937</td>\n",
       "      <td>86.322922</td>\n",
       "      <td>[CF, OF, LF, RF, DH]</td>\n",
       "      <td>Carl</td>\n",
       "      <td>Everett</td>\n",
       "      <td>2750000.0</td>\n",
       "    </tr>\n",
       "    <tr>\n",
       "      <th>366</th>\n",
       "      <td>floydcl01</td>\n",
       "      <td>1998</td>\n",
       "      <td>2005</td>\n",
       "      <td>-0.012852</td>\n",
       "      <td>0.007605</td>\n",
       "      <td>-0.000476</td>\n",
       "      <td>0.013548</td>\n",
       "      <td>-0.002860</td>\n",
       "      <td>92.118086</td>\n",
       "      <td>[1B, LF, OF, RF, CF, DH]</td>\n",
       "      <td>Cliff</td>\n",
       "      <td>Floyd</td>\n",
       "      <td>2750000.0</td>\n",
       "    </tr>\n",
       "    <tr>\n",
       "      <th>430</th>\n",
       "      <td>gonzalu01</td>\n",
       "      <td>1991</td>\n",
       "      <td>2007</td>\n",
       "      <td>-0.010900</td>\n",
       "      <td>0.006131</td>\n",
       "      <td>0.000458</td>\n",
       "      <td>0.003048</td>\n",
       "      <td>0.014781</td>\n",
       "      <td>91.040793</td>\n",
       "      <td>[1B, 3B, LF, OF, CF, DH, RF]</td>\n",
       "      <td>Luis</td>\n",
       "      <td>Gonzalez</td>\n",
       "      <td>2025000.0</td>\n",
       "    </tr>\n",
       "    <tr>\n",
       "      <th>658</th>\n",
       "      <td>lawtoma02</td>\n",
       "      <td>1997</td>\n",
       "      <td>2004</td>\n",
       "      <td>-0.011752</td>\n",
       "      <td>0.002145</td>\n",
       "      <td>-0.000673</td>\n",
       "      <td>-0.006852</td>\n",
       "      <td>0.032801</td>\n",
       "      <td>85.165075</td>\n",
       "      <td>[CF, DH, LF, OF, RF]</td>\n",
       "      <td>Matt</td>\n",
       "      <td>Lawton</td>\n",
       "      <td>1850000.0</td>\n",
       "    </tr>\n",
       "    <tr>\n",
       "      <th>811</th>\n",
       "      <td>muellbi02</td>\n",
       "      <td>2000</td>\n",
       "      <td>2005</td>\n",
       "      <td>0.013046</td>\n",
       "      <td>0.008499</td>\n",
       "      <td>0.001117</td>\n",
       "      <td>-0.011834</td>\n",
       "      <td>-0.000572</td>\n",
       "      <td>88.765577</td>\n",
       "      <td>[2B, 3B, DH, SS]</td>\n",
       "      <td>Bill</td>\n",
       "      <td>Mueller</td>\n",
       "      <td>2100000.0</td>\n",
       "    </tr>\n",
       "    <tr>\n",
       "      <th>823</th>\n",
       "      <td>nevinph01</td>\n",
       "      <td>2000</td>\n",
       "      <td>2004</td>\n",
       "      <td>-0.005310</td>\n",
       "      <td>0.000779</td>\n",
       "      <td>-0.004179</td>\n",
       "      <td>0.017859</td>\n",
       "      <td>0.007035</td>\n",
       "      <td>103.707695</td>\n",
       "      <td>[3B, DH, LF, OF, C, 1B, RF]</td>\n",
       "      <td>Phil</td>\n",
       "      <td>Nevin</td>\n",
       "      <td>1250000.0</td>\n",
       "    </tr>\n",
       "    <tr>\n",
       "      <th>1058</th>\n",
       "      <td>stewash01</td>\n",
       "      <td>1999</td>\n",
       "      <td>2007</td>\n",
       "      <td>0.035385</td>\n",
       "      <td>0.001312</td>\n",
       "      <td>0.000853</td>\n",
       "      <td>-0.014651</td>\n",
       "      <td>-0.026078</td>\n",
       "      <td>81.823266</td>\n",
       "      <td>[CF, OF, DH, LF, RF]</td>\n",
       "      <td>Shannon</td>\n",
       "      <td>Stewart</td>\n",
       "      <td>1841666.5</td>\n",
       "    </tr>\n",
       "    <tr>\n",
       "      <th>1072</th>\n",
       "      <td>sweenmi01</td>\n",
       "      <td>2000</td>\n",
       "      <td>2005</td>\n",
       "      <td>0.017197</td>\n",
       "      <td>0.011601</td>\n",
       "      <td>-0.004952</td>\n",
       "      <td>0.009023</td>\n",
       "      <td>-0.001563</td>\n",
       "      <td>122.258985</td>\n",
       "      <td>[C, DH, 1B]</td>\n",
       "      <td>Mike</td>\n",
       "      <td>Sweeney</td>\n",
       "      <td>1450000.0</td>\n",
       "    </tr>\n",
       "    <tr>\n",
       "      <th>1145</th>\n",
       "      <td>walketo04</td>\n",
       "      <td>1998</td>\n",
       "      <td>2003</td>\n",
       "      <td>0.022347</td>\n",
       "      <td>0.012618</td>\n",
       "      <td>-0.000021</td>\n",
       "      <td>-0.014298</td>\n",
       "      <td>-0.017883</td>\n",
       "      <td>88.186718</td>\n",
       "      <td>[2B, 3B, DH, SS, 1B, LF, OF]</td>\n",
       "      <td>Todd</td>\n",
       "      <td>Walker</td>\n",
       "      <td>750000.0</td>\n",
       "    </tr>\n",
       "  </tbody>\n",
       "</table>\n",
       "</div>"
      ],
      "text/plain": [
       "       playerID  startYear  endYear  avSingle  avDoubles  avTriples  \\\n",
       "246   coninje01       1993     2004  0.022088  -0.003123  -0.002174   \n",
       "352   evereca01       1998     2005 -0.007480   0.003724   0.000795   \n",
       "366   floydcl01       1998     2005 -0.012852   0.007605  -0.000476   \n",
       "430   gonzalu01       1991     2007 -0.010900   0.006131   0.000458   \n",
       "658   lawtoma02       1997     2004 -0.011752   0.002145  -0.000673   \n",
       "811   muellbi02       2000     2005  0.013046   0.008499   0.001117   \n",
       "823   nevinph01       2000     2004 -0.005310   0.000779  -0.004179   \n",
       "1058  stewash01       1999     2007  0.035385   0.001312   0.000853   \n",
       "1072  sweenmi01       2000     2005  0.017197   0.011601  -0.004952   \n",
       "1145  walketo04       1998     2003  0.022347   0.012618  -0.000021   \n",
       "\n",
       "      avHomerun  avBase on balls         OPW                      Position  \\\n",
       "246   -0.006393        -0.005730   87.372973      [1B, LF, OF, RF, DH, 3B]   \n",
       "352    0.011602        -0.008937   86.322922          [CF, OF, LF, RF, DH]   \n",
       "366    0.013548        -0.002860   92.118086      [1B, LF, OF, RF, CF, DH]   \n",
       "430    0.003048         0.014781   91.040793  [1B, 3B, LF, OF, CF, DH, RF]   \n",
       "658   -0.006852         0.032801   85.165075          [CF, DH, LF, OF, RF]   \n",
       "811   -0.011834        -0.000572   88.765577              [2B, 3B, DH, SS]   \n",
       "823    0.017859         0.007035  103.707695   [3B, DH, LF, OF, C, 1B, RF]   \n",
       "1058  -0.014651        -0.026078   81.823266          [CF, OF, DH, LF, RF]   \n",
       "1072   0.009023        -0.001563  122.258985                   [C, DH, 1B]   \n",
       "1145  -0.014298        -0.017883   88.186718  [2B, 3B, DH, SS, 1B, LF, OF]   \n",
       "\n",
       "     FirstName  LastName  medianSalaries  \n",
       "246       Jeff    Conine       2240000.0  \n",
       "352       Carl   Everett       2750000.0  \n",
       "366      Cliff     Floyd       2750000.0  \n",
       "430       Luis  Gonzalez       2025000.0  \n",
       "658       Matt    Lawton       1850000.0  \n",
       "811       Bill   Mueller       2100000.0  \n",
       "823       Phil     Nevin       1250000.0  \n",
       "1058   Shannon   Stewart       1841666.5  \n",
       "1072      Mike   Sweeney       1450000.0  \n",
       "1145      Todd    Walker        750000.0  "
      ]
     },
     "execution_count": 318,
     "metadata": {},
     "output_type": "execute_result"
    }
   ],
   "source": [
    "playerLS2[(playerLS2[\"medianSalaries\"]<3000000)&(playerLS2[\"OPW\"]>80)]"
   ]
  },
  {
   "cell_type": "code",
   "execution_count": 319,
   "metadata": {},
   "outputs": [
    {
     "data": {
      "text/html": [
       "<div>\n",
       "<style scoped>\n",
       "    .dataframe tbody tr th:only-of-type {\n",
       "        vertical-align: middle;\n",
       "    }\n",
       "\n",
       "    .dataframe tbody tr th {\n",
       "        vertical-align: top;\n",
       "    }\n",
       "\n",
       "    .dataframe thead th {\n",
       "        text-align: right;\n",
       "    }\n",
       "</style>\n",
       "<table border=\"1\" class=\"dataframe\">\n",
       "  <thead>\n",
       "    <tr style=\"text-align: right;\">\n",
       "      <th></th>\n",
       "      <th>playerID</th>\n",
       "      <th>startYear</th>\n",
       "      <th>endYear</th>\n",
       "      <th>avSingle</th>\n",
       "      <th>avDoubles</th>\n",
       "      <th>avTriples</th>\n",
       "      <th>avHomerun</th>\n",
       "      <th>avBase on balls</th>\n",
       "      <th>OPW</th>\n",
       "      <th>Position</th>\n",
       "      <th>FirstName</th>\n",
       "      <th>LastName</th>\n",
       "      <th>medianSalaries</th>\n",
       "    </tr>\n",
       "  </thead>\n",
       "  <tbody>\n",
       "    <tr>\n",
       "      <th>1072</th>\n",
       "      <td>sweenmi01</td>\n",
       "      <td>2000</td>\n",
       "      <td>2005</td>\n",
       "      <td>0.017197</td>\n",
       "      <td>0.011601</td>\n",
       "      <td>-0.004952</td>\n",
       "      <td>0.009023</td>\n",
       "      <td>-0.001563</td>\n",
       "      <td>122.258985</td>\n",
       "      <td>[C, DH, 1B]</td>\n",
       "      <td>Mike</td>\n",
       "      <td>Sweeney</td>\n",
       "      <td>1450000.0</td>\n",
       "    </tr>\n",
       "    <tr>\n",
       "      <th>823</th>\n",
       "      <td>nevinph01</td>\n",
       "      <td>2000</td>\n",
       "      <td>2004</td>\n",
       "      <td>-0.005310</td>\n",
       "      <td>0.000779</td>\n",
       "      <td>-0.004179</td>\n",
       "      <td>0.017859</td>\n",
       "      <td>0.007035</td>\n",
       "      <td>103.707695</td>\n",
       "      <td>[3B, DH, LF, OF, C, 1B, RF]</td>\n",
       "      <td>Phil</td>\n",
       "      <td>Nevin</td>\n",
       "      <td>1250000.0</td>\n",
       "    </tr>\n",
       "    <tr>\n",
       "      <th>1145</th>\n",
       "      <td>walketo04</td>\n",
       "      <td>1998</td>\n",
       "      <td>2003</td>\n",
       "      <td>0.022347</td>\n",
       "      <td>0.012618</td>\n",
       "      <td>-0.000021</td>\n",
       "      <td>-0.014298</td>\n",
       "      <td>-0.017883</td>\n",
       "      <td>88.186718</td>\n",
       "      <td>[2B, 3B, DH, SS, 1B, LF, OF]</td>\n",
       "      <td>Todd</td>\n",
       "      <td>Walker</td>\n",
       "      <td>750000.0</td>\n",
       "    </tr>\n",
       "    <tr>\n",
       "      <th>430</th>\n",
       "      <td>gonzalu01</td>\n",
       "      <td>1991</td>\n",
       "      <td>2007</td>\n",
       "      <td>-0.010900</td>\n",
       "      <td>0.006131</td>\n",
       "      <td>0.000458</td>\n",
       "      <td>0.003048</td>\n",
       "      <td>0.014781</td>\n",
       "      <td>91.040793</td>\n",
       "      <td>[1B, 3B, LF, OF, CF, DH, RF]</td>\n",
       "      <td>Luis</td>\n",
       "      <td>Gonzalez</td>\n",
       "      <td>2025000.0</td>\n",
       "    </tr>\n",
       "    <tr>\n",
       "      <th>658</th>\n",
       "      <td>lawtoma02</td>\n",
       "      <td>1997</td>\n",
       "      <td>2004</td>\n",
       "      <td>-0.011752</td>\n",
       "      <td>0.002145</td>\n",
       "      <td>-0.000673</td>\n",
       "      <td>-0.006852</td>\n",
       "      <td>0.032801</td>\n",
       "      <td>85.165075</td>\n",
       "      <td>[CF, DH, LF, OF, RF]</td>\n",
       "      <td>Matt</td>\n",
       "      <td>Lawton</td>\n",
       "      <td>1850000.0</td>\n",
       "    </tr>\n",
       "    <tr>\n",
       "      <th>366</th>\n",
       "      <td>floydcl01</td>\n",
       "      <td>1998</td>\n",
       "      <td>2005</td>\n",
       "      <td>-0.012852</td>\n",
       "      <td>0.007605</td>\n",
       "      <td>-0.000476</td>\n",
       "      <td>0.013548</td>\n",
       "      <td>-0.002860</td>\n",
       "      <td>92.118086</td>\n",
       "      <td>[1B, LF, OF, RF, CF, DH]</td>\n",
       "      <td>Cliff</td>\n",
       "      <td>Floyd</td>\n",
       "      <td>2750000.0</td>\n",
       "    </tr>\n",
       "    <tr>\n",
       "      <th>246</th>\n",
       "      <td>coninje01</td>\n",
       "      <td>1993</td>\n",
       "      <td>2004</td>\n",
       "      <td>0.022088</td>\n",
       "      <td>-0.003123</td>\n",
       "      <td>-0.002174</td>\n",
       "      <td>-0.006393</td>\n",
       "      <td>-0.005730</td>\n",
       "      <td>87.372973</td>\n",
       "      <td>[1B, LF, OF, RF, DH, 3B]</td>\n",
       "      <td>Jeff</td>\n",
       "      <td>Conine</td>\n",
       "      <td>2240000.0</td>\n",
       "    </tr>\n",
       "    <tr>\n",
       "      <th>352</th>\n",
       "      <td>evereca01</td>\n",
       "      <td>1998</td>\n",
       "      <td>2005</td>\n",
       "      <td>-0.007480</td>\n",
       "      <td>0.003724</td>\n",
       "      <td>0.000795</td>\n",
       "      <td>0.011602</td>\n",
       "      <td>-0.008937</td>\n",
       "      <td>86.322922</td>\n",
       "      <td>[CF, OF, LF, RF, DH]</td>\n",
       "      <td>Carl</td>\n",
       "      <td>Everett</td>\n",
       "      <td>2750000.0</td>\n",
       "    </tr>\n",
       "    <tr>\n",
       "      <th>1058</th>\n",
       "      <td>stewash01</td>\n",
       "      <td>1999</td>\n",
       "      <td>2007</td>\n",
       "      <td>0.035385</td>\n",
       "      <td>0.001312</td>\n",
       "      <td>0.000853</td>\n",
       "      <td>-0.014651</td>\n",
       "      <td>-0.026078</td>\n",
       "      <td>81.823266</td>\n",
       "      <td>[CF, OF, DH, LF, RF]</td>\n",
       "      <td>Shannon</td>\n",
       "      <td>Stewart</td>\n",
       "      <td>1841666.5</td>\n",
       "    </tr>\n",
       "  </tbody>\n",
       "</table>\n",
       "</div>"
      ],
      "text/plain": [
       "       playerID  startYear  endYear  avSingle  avDoubles  avTriples  \\\n",
       "1072  sweenmi01       2000     2005  0.017197   0.011601  -0.004952   \n",
       "823   nevinph01       2000     2004 -0.005310   0.000779  -0.004179   \n",
       "1145  walketo04       1998     2003  0.022347   0.012618  -0.000021   \n",
       "430   gonzalu01       1991     2007 -0.010900   0.006131   0.000458   \n",
       "658   lawtoma02       1997     2004 -0.011752   0.002145  -0.000673   \n",
       "366   floydcl01       1998     2005 -0.012852   0.007605  -0.000476   \n",
       "246   coninje01       1993     2004  0.022088  -0.003123  -0.002174   \n",
       "352   evereca01       1998     2005 -0.007480   0.003724   0.000795   \n",
       "1058  stewash01       1999     2007  0.035385   0.001312   0.000853   \n",
       "\n",
       "      avHomerun  avBase on balls         OPW                      Position  \\\n",
       "1072   0.009023        -0.001563  122.258985                   [C, DH, 1B]   \n",
       "823    0.017859         0.007035  103.707695   [3B, DH, LF, OF, C, 1B, RF]   \n",
       "1145  -0.014298        -0.017883   88.186718  [2B, 3B, DH, SS, 1B, LF, OF]   \n",
       "430    0.003048         0.014781   91.040793  [1B, 3B, LF, OF, CF, DH, RF]   \n",
       "658   -0.006852         0.032801   85.165075          [CF, DH, LF, OF, RF]   \n",
       "366    0.013548        -0.002860   92.118086      [1B, LF, OF, RF, CF, DH]   \n",
       "246   -0.006393        -0.005730   87.372973      [1B, LF, OF, RF, DH, 3B]   \n",
       "352    0.011602        -0.008937   86.322922          [CF, OF, LF, RF, DH]   \n",
       "1058  -0.014651        -0.026078   81.823266          [CF, OF, DH, LF, RF]   \n",
       "\n",
       "     FirstName  LastName  medianSalaries  \n",
       "1072      Mike   Sweeney       1450000.0  \n",
       "823       Phil     Nevin       1250000.0  \n",
       "1145      Todd    Walker        750000.0  \n",
       "430       Luis  Gonzalez       2025000.0  \n",
       "658       Matt    Lawton       1850000.0  \n",
       "366      Cliff     Floyd       2750000.0  \n",
       "246       Jeff    Conine       2240000.0  \n",
       "352       Carl   Everett       2750000.0  \n",
       "1058   Shannon   Stewart       1841666.5  "
      ]
     },
     "execution_count": 319,
     "metadata": {},
     "output_type": "execute_result"
    }
   ],
   "source": [
    "My_awesome_team=[\"sweenmi01\",\"nevinph01\",\"walketo04\",\"gonzalu01\",\"lawtoma02\",\"floydcl01\",\"muelbi02\",\"coninje01\",\"evereca01\",\"stewash01\"]\n",
    "team_df=pd.DataFrame()\n",
    "for name in My_awesome_team:\n",
    "    team_df=team_df.append(playerLS2[playerLS2[\"playerID\"] == name])\n",
    "\n",
    "team_df\n"
   ]
  },
  {
   "cell_type": "code",
   "execution_count": 326,
   "metadata": {},
   "outputs": [
    {
     "name": "stdout",
     "output_type": "stream",
     "text": [
      "1878518.5\n",
      "0.00541390510856\n",
      "0.00475469799606\n",
      "-0.00115203942411\n",
      "0.00143193727701\n",
      "-0.000937078079831\n",
      "93.1107237927\n"
     ]
    }
   ],
   "source": [
    "print team_df[\"medianSalaries\"].mean()\n",
    "print team_df[\"avSingle\"].mean()\n",
    "print team_df[\"avDoubles\"].mean()\n",
    "print team_df[\"avTriples\"].mean()\n",
    "print team_df[\"avHomerun\"].mean()\n",
    "print team_df[\"avBase on balls\"].mean()\n",
    "print team_df[\"OPW\"].mean()"
   ]
  },
  {
   "cell_type": "markdown",
   "metadata": {},
   "source": [
    "#### Problem 1(m)\n",
    "What do these players outperform in? Singles, doubles, triples HR or BB?"
   ]
  },
  {
   "cell_type": "code",
   "execution_count": 325,
   "metadata": {},
   "outputs": [
    {
     "name": "stdout",
     "output_type": "stream",
     "text": [
      "3354281.2563\n",
      "-0.00456024777475\n",
      "-0.00448130545739\n",
      "0.000952039243686\n",
      "0.000222825264633\n",
      "0.0020880533551\n",
      "-8.22738646219\n"
     ]
    }
   ],
   "source": [
    "print playerLS2[\"medianSalaries\"].mean() - team_df[\"medianSalaries\"].mean()\n",
    "print playerLS2[\"avSingle\"].mean() - team_df[\"avSingle\"].mean()\n",
    "print playerLS2[\"avDoubles\"].mean() - team_df[\"avDoubles\"].mean()\n",
    "print playerLS2[\"avTriples\"].mean() - team_df[\"avTriples\"].mean()\n",
    "print playerLS2[\"avHomerun\"].mean() -team_df[\"avHomerun\"].mean()\n",
    "print playerLS2[\"avBase on balls\"].mean()-team_df[\"avBase on balls\"].mean()\n",
    "print playerLS2[\"OPW\"].mean() - team_df[\"OPW\"].mean()\n"
   ]
  },
  {
   "cell_type": "markdown",
   "metadata": {},
   "source": [
    "They do espescially well on singles and doubles. "
   ]
  },
  {
   "cell_type": "markdown",
   "metadata": {},
   "source": [
    "## Discussion for Problem 1\n",
    "\n",
    "*Write a brief discussion of your conclusions to the questions and tasks above in 100 words or less.*\n",
    "\n",
    "---"
   ]
  },
  {
   "cell_type": "markdown",
   "metadata": {},
   "source": [
    "My team is expected to win 93 of the 162 games. It costs less than 20 million on median salary. They are espescially good in singles and doubles compared to average. The OPW is based on a linear regression of the wins of teams in 2002. This coefficient were used to evaluate the expected wins of an individual player. The coefficients are on singles, doubles, homeruns and base on balls. Triples were left out, because they happen rarely (0.5%), while homeruns happen about 4%. So this is a more robust predictor. "
   ]
  },
  {
   "cell_type": "markdown",
   "metadata": {},
   "source": [
    "# Problem 2:  $k$-Nearest Neighbors and Cross Validation \n",
    "\n",
    "What is the optimal $k$ for predicting species using $k$-nearest neighbor classification \n",
    "on the four features provided by the iris dataset.\n",
    "\n",
    "In this problem you will get to know the famous iris data set, and use cross validation to select the optimal $k$ for a $k$-nearest neighbor classification. This problem set makes heavy use of the [sklearn](http://scikit-learn.org/stable/) library. In addition to Pandas, it is one of the most useful libraries for data scientists! After completing this homework assignment you will know all the basics to get started with your own machine learning projects in sklearn. \n",
    "\n",
    "Future lectures will give further background information on different classifiers and their specific strengths and weaknesses, but when you have the basics for sklearn down, changing the classifier will boil down to exchanging one to two lines of code.\n",
    "\n",
    "The data set is so popular, that sklearn provides an extra function to load it:"
   ]
  },
  {
   "cell_type": "code",
   "execution_count": null,
   "metadata": {},
   "outputs": [],
   "source": [
    "#load the iris data set\n",
    "iris = sklearn.datasets.load_iris()\n",
    "\n",
    "X = iris.data  \n",
    "Y = iris.target\n",
    "\n",
    "print X.shape, Y.shape"
   ]
  },
  {
   "cell_type": "markdown",
   "metadata": {},
   "source": [
    "#### Problem 2(a) \n",
    "Split the data into a train and a test set. Use a random selection of 33% of the samples as test data. Sklearn provides the [`train_test_split`](http://scikit-learn.org/stable/modules/generated/sklearn.cross_validation.train_test_split.html) function for this purpose. Print the dimensions of all the train and test data sets you have created. "
   ]
  },
  {
   "cell_type": "code",
   "execution_count": null,
   "metadata": {},
   "outputs": [],
   "source": [
    "### Your code here ###"
   ]
  },
  {
   "cell_type": "markdown",
   "metadata": {},
   "source": [
    "#### Problem 2(b)\n",
    "\n",
    "Examine the data further by looking at the projections to the first two principal components of the data. Use the [`TruncatedSVD`](http://scikit-learn.org/stable/modules/generated/sklearn.decomposition.TruncatedSVD.html) function for this purpose, and create a scatter plot. Use the colors on the scatter plot to represent the different classes in the target data. "
   ]
  },
  {
   "cell_type": "code",
   "execution_count": null,
   "metadata": {},
   "outputs": [],
   "source": [
    "### Your code here ###"
   ]
  },
  {
   "cell_type": "markdown",
   "metadata": {},
   "source": [
    "#### Problem 2(c) \n",
    "\n",
    "In the lecture we discussed how to use cross validation to estimate the optimal value for $k$ (the number of nearest neighbors to base the classification on). Use ***ten fold cross validation*** to estimate the optimal value for $k$ for the iris data set. \n",
    "\n",
    "**Note**: For your convenience sklearn does not only include the [KNN classifier](http://scikit-learn.org/stable/modules/generated/sklearn.neighbors.KNeighborsClassifier.html), but also a [grid search function](http://scikit-learn.org/stable/modules/generated/sklearn.grid_search.GridSearchCV.html#sklearn.grid_search.GridSearchCV). The function is called grid search, because if you have to optimize more than one parameter, it is common practice to define a range of possible values for each parameter. An exhaustive search then runs over the complete grid defined by all the possible parameter combinations. This can get very computation heavy, but luckily our KNN classifier only requires tuning of a single parameter for this problem set. "
   ]
  },
  {
   "cell_type": "code",
   "execution_count": null,
   "metadata": {},
   "outputs": [],
   "source": [
    "### Your code here ###"
   ]
  },
  {
   "cell_type": "markdown",
   "metadata": {},
   "source": [
    "#### Problem 2(d)\n",
    "\n",
    "Visualize the result by plotting the score results versus values for $k$. "
   ]
  },
  {
   "cell_type": "code",
   "execution_count": null,
   "metadata": {},
   "outputs": [],
   "source": [
    "### Your code here ###"
   ]
  },
  {
   "cell_type": "markdown",
   "metadata": {},
   "source": [
    "Verify that the grid search has indeed chosen the right parameter value for $k$."
   ]
  },
  {
   "cell_type": "code",
   "execution_count": null,
   "metadata": {},
   "outputs": [],
   "source": [
    "### Your code here ###"
   ]
  },
  {
   "cell_type": "markdown",
   "metadata": {},
   "source": [
    "#### Problem 2(e)\n",
    "\n",
    "Test the performance of our tuned KNN classifier on the test set."
   ]
  },
  {
   "cell_type": "code",
   "execution_count": null,
   "metadata": {},
   "outputs": [],
   "source": [
    "### Your code here ###"
   ]
  },
  {
   "cell_type": "markdown",
   "metadata": {},
   "source": [
    "## Discussion for Problem 2\n",
    "\n",
    "*Write a brief discussion of your conclusions to the questions and tasks above in 100 words or less.*\n",
    "\n",
    "---"
   ]
  },
  {
   "cell_type": "markdown",
   "metadata": {},
   "source": [
    "# Problem 3: The Curse and Blessing of Higher Dimensions\n",
    "\n",
    "In this problem we will investigate the influence of higher dimensional spaces on the classification. The data set is again one of the standard data sets from sklearn. The [digits data set](http://scikit-learn.org/stable/modules/generated/sklearn.datasets.load_digits.html) is similar to the MNIST data set discussed in the lecture. The main difference is, that each digit is represented by an 8x8 pixel image patch, which is considerably smaller than the 28x28 pixels from MNIST. In addition, the gray values are restricted to 16 different values (4 bit), instead of 256 (8 bit) for MNIST. \n",
    "\n",
    "First we again load our data set."
   ]
  },
  {
   "cell_type": "code",
   "execution_count": null,
   "metadata": {},
   "outputs": [],
   "source": [
    "digits = sklearn.datasets.load_digits()\n",
    "\n",
    "X = digits.data  \n",
    "Y = digits.target\n",
    "\n",
    "print X.shape, Y.shape"
   ]
  },
  {
   "cell_type": "markdown",
   "metadata": {},
   "source": [
    "#### Problem 3(a) \n",
    "\n",
    "Start with the same steps as in Problem 2. Split the data into train and test set. Use 33% of the samples as test data. Print the dimensions of all the train and test data sets you created. "
   ]
  },
  {
   "cell_type": "code",
   "execution_count": null,
   "metadata": {},
   "outputs": [],
   "source": [
    "### Your code here ###"
   ]
  },
  {
   "cell_type": "markdown",
   "metadata": {},
   "source": [
    "#### Problem 3(b) \n",
    "\n",
    "Similar to Problem 2(b), create a scatter plot of the projections to the first two PCs.  Use the colors on the scatter plot to represent the different classes in the target data. How well can we separate the classes?\n",
    "\n",
    "**Hint**: Use a `Colormap` in matplotlib to represent the diferent classes in the target data. "
   ]
  },
  {
   "cell_type": "code",
   "execution_count": null,
   "metadata": {},
   "outputs": [],
   "source": [
    "### Your code here ###"
   ]
  },
  {
   "cell_type": "markdown",
   "metadata": {},
   "source": [
    "Create individual scatter plots using only two classes at a time to explore which classes are most difficult to distinguish in terms of class separability.  You do not need to create scatter plots for all pairwise comparisons, but at least show one. "
   ]
  },
  {
   "cell_type": "code",
   "execution_count": null,
   "metadata": {},
   "outputs": [],
   "source": [
    "### Your code here ###"
   ]
  },
  {
   "cell_type": "markdown",
   "metadata": {},
   "source": [
    "Give a brief interpretation of the scatter plot. Which classes look like hard to distinguish? Do both feature dimensions contribute to the class separability? "
   ]
  },
  {
   "cell_type": "markdown",
   "metadata": {},
   "source": [
    "** Your answer here: **"
   ]
  },
  {
   "cell_type": "markdown",
   "metadata": {},
   "source": [
    "#### Problem 3(c) \n",
    "\n",
    "Write a **ten-fold cross validation** to estimate the optimal value for $k$ for the digits data set. *However*, this time we are interested in the influence of the number of dimensions we project the data down as well. \n",
    "\n",
    "Extend the cross validation as done for the iris data set, to optimize $k$ for different dimensional projections of the data. Create a boxplot showing test scores for the optimal $k$ for each $d$-dimensional subspace with $d$ ranging from one to ten. The plot should have the scores on the y-axis and the different dimensions $d$ on the x-axis. You can use your favorite plot function for the boxplots. [Seaborn](http://web.stanford.edu/~mwaskom/software/seaborn/index.html) is worth having a look at though. It is a great library for statistical visualization and of course also comes with a [`boxplot`](http://web.stanford.edu/~mwaskom/software/seaborn/generated/seaborn.boxplot.html) function that has simple means for changing the labels on the x-axis."
   ]
  },
  {
   "cell_type": "code",
   "execution_count": null,
   "metadata": {},
   "outputs": [],
   "source": [
    "### Your cross validation and evaluation code here ###"
   ]
  },
  {
   "cell_type": "code",
   "execution_count": null,
   "metadata": {},
   "outputs": [],
   "source": [
    "### Your boxplot code here ### "
   ]
  },
  {
   "cell_type": "markdown",
   "metadata": {},
   "source": [
    "Write a short interpretation of the generated plot, answering the following questions:\n",
    "\n",
    "* What trend do you see in the plot for increasing dimensions?\n",
    "\n",
    "* Why do you think this is happening?"
   ]
  },
  {
   "cell_type": "markdown",
   "metadata": {},
   "source": [
    "** Your answer here: **"
   ]
  },
  {
   "cell_type": "markdown",
   "metadata": {},
   "source": [
    "#### Problem 3(d) \n",
    "\n",
    "**For AC209 Students**: Change the boxplot we generated above to also show the optimal value for $k$ chosen by the cross validation grid search. "
   ]
  },
  {
   "cell_type": "code",
   "execution_count": null,
   "metadata": {},
   "outputs": [],
   "source": [
    "### Your code here ### "
   ]
  },
  {
   "cell_type": "markdown",
   "metadata": {},
   "source": [
    "Write a short interpretation answering the following questions:\n",
    "\n",
    "* Which trend do you observe for the optimal value of $k$?\n",
    "\n",
    "* Why do you think this is happening?"
   ]
  },
  {
   "cell_type": "markdown",
   "metadata": {},
   "source": [
    "** Your answer here: **"
   ]
  },
  {
   "cell_type": "markdown",
   "metadata": {},
   "source": [
    "## Discussion for Problem 3\n",
    "\n",
    "*Write a brief discussion of your conclusions to the questions and tasks above in 100 words or less.*\n",
    "\n",
    "---"
   ]
  },
  {
   "cell_type": "markdown",
   "metadata": {},
   "source": [
    "# Submission Instructions\n",
    "\n",
    "To submit your homework, create a folder named **lastname_firstinitial_hw#** and place your IPython notebooks, data files, and any other files in this folder. Your IPython Notebooks should be completely executed with the results visible in the notebook. We should not have to run any code.  Compress the folder (please use .zip compression) and submit to the CS109 dropbox in the appropriate folder. *If we cannot access your work because these directions are not followed correctly, we will not grade your work.*\n"
   ]
  },
  {
   "cell_type": "code",
   "execution_count": null,
   "metadata": {},
   "outputs": [],
   "source": []
  }
 ],
 "metadata": {
  "kernelspec": {
   "display_name": "Python 2",
   "language": "python",
   "name": "python2"
  },
  "language_info": {
   "codemirror_mode": {
    "name": "ipython",
    "version": 2
   },
   "file_extension": ".py",
   "mimetype": "text/x-python",
   "name": "python",
   "nbconvert_exporter": "python",
   "pygments_lexer": "ipython2",
   "version": "2.7.14"
  }
 },
 "nbformat": 4,
 "nbformat_minor": 1
}
