{
 "cells": [
  {
   "cell_type": "markdown",
   "metadata": {},
   "source": [
    "# Homework 3: Prediction and Classification\n",
    "\n",
    "Due: Thursday, October 16, 2014 11:59 PM\n",
    "\n",
    "<a href=https://raw.githubusercontent.com/cs109/2014/master/homework/HW3.ipynb download=HW3.ipynb> Download this assignment</a>\n",
    "\n",
    "#### Submission Instructions\n",
    "To submit your homework, create a folder named lastname_firstinitial_hw# and place your IPython notebooks, data files, and any other files in this folder. Your IPython Notebooks should be completely executed with the results visible in the notebook. We should not have to run any code. Compress the folder (please use .zip compression) and submit to the CS109 dropbox in the appropriate folder. If we cannot access your work because these directions are not followed correctly, we will not grade your work.\n",
    "\n",
    "---\n"
   ]
  },
  {
   "cell_type": "markdown",
   "metadata": {},
   "source": [
    "# Introduction\n",
    "\n",
    "In this assignment you will be using regression and classification to explore different data sets.  \n",
    "\n",
    "**First**: You will use data from before 2002 in the [Sean Lahman's Baseball Database](http://seanlahman.com/baseball-archive/statistics) to create a metric for picking baseball players using linear regression. This is same database we used in Homework 1. This database contains the \"complete batting and pitching statistics from 1871 to 2013, plus fielding statistics, standings, team stats, managerial records, post-season data, and more\". [Documentation provided here](http://seanlahman.com/files/database/readme2012.txt).\n",
    "\n",
    "![\"Sabermetrics Science\"](http://saberseminar.com/wp-content/uploads/2012/01/saber-web.jpg)\n",
    "http://saberseminar.com/wp-content/uploads/2012/01/saber-web.jpg\n",
    "\n",
    "**Second**: You will use the famous [iris](http://en.wikipedia.org/wiki/Iris_flower_data_set) data set to perform a $k$-neareast neighbor classification using cross validation.  While it was introduced in 1936, it is still [one of the most popular](http://archive.ics.uci.edu/ml/) example data sets in the machine learning community. Wikipedia describes the data set as follows: \"The data set consists of 50 samples from each of three species of Iris (Iris setosa, Iris virginica and Iris versicolor). Four features were measured from each sample: the length and the width of the sepals and petals, in centimetres.\" Here is an illustration what the four features measure:\n",
    "\n",
    "![\"iris data features\"](http://sebastianraschka.com/Images/2014_python_lda/iris_petal_sepal.png)\n",
    "http://sebastianraschka.com/Images/2014_python_lda/iris_petal_sepal.png\n",
    "\n",
    "**Third**: You will investigate the influence of higher dimensional spaces on the classification using another standard data set in machine learning called the The [digits data set](http://scikit-learn.org/stable/modules/generated/sklearn.datasets.load_digits.html).  This data set is similar to the MNIST data set discussed in the lecture. The main difference is, that each digit is represented by an 8x8 pixel image patch, which is considerably smaller than the 28x28 pixels from MNIST. In addition, the gray values are restricted to 16 different values (4 bit), instead of 256 (8 bit) for MNIST. \n",
    "\n",
    "**Finally**: In preparation for Homework 4, we want you to read through the following articles related to predicting the 2014 Senate Midterm Elections. \n",
    "\n",
    "* [Nate Silver's Methodology at while at NYT](http://fivethirtyeight.blogs.nytimes.com/methodology/)\n",
    "* [How The FiveThirtyEight Senate Forecast Model Works](http://fivethirtyeight.com/features/how-the-fivethirtyeight-senate-forecast-model-works/)\n",
    "* [Pollster Ratings v4.0: Methodology](http://fivethirtyeight.com/features/pollster-ratings-v40-methodology/)\n",
    "* [Pollster Ratings v4.0: Results](http://fivethirtyeight.com/features/pollster-ratings-v40-results/)\n",
    "* [Nate Silver versus Sam Wang](http://www.washingtonpost.com/blogs/plum-line/wp/2014/09/17/nate-silver-versus-sam-wang/)\n",
    "* [More Nate Silver versus Sam Wang](http://www.dailykos.com/story/2014/09/09/1328288/-Get-Ready-To-Rumbllllle-Battle-Of-The-Nerds-Nate-Silver-VS-Sam-Wang)\n",
    "* [Nate Silver explains critisims of Sam Wang](http://politicalwire.com/archives/2014/10/02/nate_silver_rebuts_sam_wang.html)\n",
    "* [Background on the feud between Nate Silver and Sam Wang](http://talkingpointsmemo.com/dc/nate-silver-sam-wang-feud)\n",
    "* [Are there swing voters?]( http://www.stat.columbia.edu/~gelman/research/unpublished/swing_voters.pdf)\n",
    "\n",
    "\n",
    "\n",
    "---"
   ]
  },
  {
   "cell_type": "markdown",
   "metadata": {},
   "source": [
    "## Load Python modules"
   ]
  },
  {
   "cell_type": "code",
   "execution_count": 1,
   "metadata": {},
   "outputs": [
    {
     "name": "stderr",
     "output_type": "stream",
     "text": [
      "c:\\python27\\lib\\site-packages\\sklearn\\cross_validation.py:41: DeprecationWarning: This module was deprecated in version 0.18 in favor of the model_selection module into which all the refactored classes and functions are moved. Also note that the interface of the new CV iterators are different from that of this module. This module will be removed in 0.20.\n",
      "  \"This module will be removed in 0.20.\", DeprecationWarning)\n",
      "c:\\python27\\lib\\site-packages\\sklearn\\grid_search.py:42: DeprecationWarning: This module was deprecated in version 0.18 in favor of the model_selection module into which all the refactored classes and functions are moved. This module will be removed in 0.20.\n",
      "  DeprecationWarning)\n"
     ]
    }
   ],
   "source": [
    "# special IPython command to prepare the notebook for matplotlib\n",
    "%matplotlib inline \n",
    "\n",
    "import requests \n",
    "import StringIO\n",
    "import zipfile\n",
    "import numpy as np\n",
    "import pandas as pd # pandas\n",
    "import matplotlib.pyplot as plt # module for plotting \n",
    "\n",
    "# If this module is not already installed, you may need to install it. \n",
    "# You can do this by typing 'pip install seaborn' in the command line\n",
    "#import seaborn as sns \n",
    "import seaborn as sns\n",
    "\n",
    "import sklearn\n",
    "import sklearn.datasets\n",
    "import sklearn.cross_validation\n",
    "import sklearn.decomposition\n",
    "import sklearn.grid_search\n",
    "import sklearn.neighbors\n",
    "import sklearn.metrics\n"
   ]
  },
  {
   "cell_type": "markdown",
   "metadata": {},
   "source": [
    "# Problem 1: Sabermetrics\n",
    "\n",
    "Using data preceding the 2002 season pick 10 offensive players keeping the payroll under $20 million (assign each player the median salary). Predict how many games this team would win in a 162 game season.  \n",
    "\n",
    "In this problem we will be returning to the [Sean Lahman's Baseball Database](http://seanlahman.com/baseball-archive/statistics) that we used in Homework 1.  From this database, we will be extract five data sets containing information such as yearly stats and standing, batting statistics, fielding statistics, player names, player salaries and biographical information. You will explore the data in this database from before 2002 and create a metric for picking players. "
   ]
  },
  {
   "cell_type": "markdown",
   "metadata": {},
   "source": [
    "#### Problem 1(a) \n",
    "\n",
    "Load in [these CSV files](http://seanlahman.com/files/database/lahman-csv_2014-02-14.zip) from the [Sean Lahman's Baseball Database](http://seanlahman.com/baseball-archive/statistics). For this assignment, we will use the 'Teams.csv', 'Batting.csv', 'Salaries.csv', 'Fielding.csv', 'Master.csv' tables. Read these tables into separate pandas DataFrames with the following names. \n",
    "\n",
    "CSV file name | Name of pandas DataFrame\n",
    ":---: | :---: \n",
    "Teams.csv | teams\n",
    "Batting.csv | players\n",
    "Salaries.csv | salaries\n",
    "Fielding.csv | fielding\n",
    "Master.csv | master"
   ]
  },
  {
   "cell_type": "code",
   "execution_count": 2,
   "metadata": {},
   "outputs": [],
   "source": [
    "url = \"http://seanlahman.com/files/database/lahman-csv_2014-02-14.zip\"\n",
    "source = requests.get(url)\n",
    "r=source.content\n",
    "s = StringIO.StringIO(r)\n",
    "zf = zipfile.ZipFile(s, 'r')"
   ]
  },
  {
   "cell_type": "code",
   "execution_count": 3,
   "metadata": {},
   "outputs": [],
   "source": [
    "teams=pd.read_csv(zf.open(\"Teams.csv\"))\n",
    "players=pd.read_csv(zf.open(\"Batting.csv\"))\n",
    "salaries=pd.read_csv(zf.open(\"Salaries.csv\"))\n",
    "fielding=pd.read_csv(zf.open(\"Fielding.csv\"))\n",
    "master=pd.read_csv(zf.open(\"Master.csv\"))"
   ]
  },
  {
   "cell_type": "markdown",
   "metadata": {},
   "source": [
    "#### Problem 1(b)\n",
    "\n",
    "Calculate the median salary for each player and create a pandas DataFrame called `medianSalaries` with four columns: (1) the player ID, (2) the first name of the player, (3) the last name of the player and (4) the median salary of the player. Show the head of the `medianSalaries` DataFrame.   "
   ]
  },
  {
   "cell_type": "code",
   "execution_count": 4,
   "metadata": {},
   "outputs": [
    {
     "name": "stderr",
     "output_type": "stream",
     "text": [
      "c:\\python27\\lib\\site-packages\\pandas\\core\\indexing.py:357: SettingWithCopyWarning: \n",
      "A value is trying to be set on a copy of a slice from a DataFrame.\n",
      "Try using .loc[row_indexer,col_indexer] = value instead\n",
      "\n",
      "See the caveats in the documentation: http://pandas.pydata.org/pandas-docs/stable/indexing.html#indexing-view-versus-copy\n",
      "  self.obj[key] = _infer_fill_value(value)\n",
      "c:\\python27\\lib\\site-packages\\pandas\\core\\indexing.py:537: SettingWithCopyWarning: \n",
      "A value is trying to be set on a copy of a slice from a DataFrame.\n",
      "Try using .loc[row_indexer,col_indexer] = value instead\n",
      "\n",
      "See the caveats in the documentation: http://pandas.pydata.org/pandas-docs/stable/indexing.html#indexing-view-versus-copy\n",
      "  self.obj[item] = s\n"
     ]
    }
   ],
   "source": [
    "medianSalaries=master[[\"playerID\",\"nameFirst\",\"nameLast\"]]\n",
    "def f(name):\n",
    "    salaries_av=salaries[\"salary\"][salaries[\"playerID\"]==name].median()\n",
    "    return salaries_av\n",
    "medianSalaries.loc[:,\"medianSal\"]=[f(i) for i in medianSalaries[\"playerID\"]]\n"
   ]
  },
  {
   "cell_type": "code",
   "execution_count": 5,
   "metadata": {},
   "outputs": [],
   "source": [
    "medianSalaries=medianSalaries[medianSalaries[\"medianSal\"].notnull() ]"
   ]
  },
  {
   "cell_type": "code",
   "execution_count": 6,
   "metadata": {},
   "outputs": [
    {
     "data": {
      "text/html": [
       "<div>\n",
       "<style scoped>\n",
       "    .dataframe tbody tr th:only-of-type {\n",
       "        vertical-align: middle;\n",
       "    }\n",
       "\n",
       "    .dataframe tbody tr th {\n",
       "        vertical-align: top;\n",
       "    }\n",
       "\n",
       "    .dataframe thead th {\n",
       "        text-align: right;\n",
       "    }\n",
       "</style>\n",
       "<table border=\"1\" class=\"dataframe\">\n",
       "  <thead>\n",
       "    <tr style=\"text-align: right;\">\n",
       "      <th></th>\n",
       "      <th>playerID</th>\n",
       "      <th>nameFirst</th>\n",
       "      <th>nameLast</th>\n",
       "      <th>medianSal</th>\n",
       "    </tr>\n",
       "  </thead>\n",
       "  <tbody>\n",
       "    <tr>\n",
       "      <th>0</th>\n",
       "      <td>aardsda01</td>\n",
       "      <td>David</td>\n",
       "      <td>Aardsma</td>\n",
       "      <td>419000.0</td>\n",
       "    </tr>\n",
       "    <tr>\n",
       "      <th>3</th>\n",
       "      <td>aasedo01</td>\n",
       "      <td>Don</td>\n",
       "      <td>Aase</td>\n",
       "      <td>612500.0</td>\n",
       "    </tr>\n",
       "    <tr>\n",
       "      <th>4</th>\n",
       "      <td>abadan01</td>\n",
       "      <td>Andy</td>\n",
       "      <td>Abad</td>\n",
       "      <td>327000.0</td>\n",
       "    </tr>\n",
       "    <tr>\n",
       "      <th>5</th>\n",
       "      <td>abadfe01</td>\n",
       "      <td>Fernando</td>\n",
       "      <td>Abad</td>\n",
       "      <td>451500.0</td>\n",
       "    </tr>\n",
       "    <tr>\n",
       "      <th>13</th>\n",
       "      <td>abbotje01</td>\n",
       "      <td>Jeff</td>\n",
       "      <td>Abbott</td>\n",
       "      <td>255000.0</td>\n",
       "    </tr>\n",
       "  </tbody>\n",
       "</table>\n",
       "</div>"
      ],
      "text/plain": [
       "     playerID nameFirst nameLast  medianSal\n",
       "0   aardsda01     David  Aardsma   419000.0\n",
       "3    aasedo01       Don     Aase   612500.0\n",
       "4    abadan01      Andy     Abad   327000.0\n",
       "5    abadfe01  Fernando     Abad   451500.0\n",
       "13  abbotje01      Jeff   Abbott   255000.0"
      ]
     },
     "execution_count": 6,
     "metadata": {},
     "output_type": "execute_result"
    }
   ],
   "source": [
    "medianSalaries.head()\n"
   ]
  },
  {
   "cell_type": "markdown",
   "metadata": {},
   "source": [
    "#### Problem 1(c)\n",
    "\n",
    "Now, consider only team/season combinations in which the teams played 162 Games. Exclude all data from before 1947. Compute the per plate appearance rates for singles, doubles, triples, HR, and BB. Create a new pandas DataFrame called `stats` that has the teamID, yearID, wins and these rates.\n",
    "\n",
    "**Hint**: Singles are hits that are not doubles, triples, nor HR. Plate appearances are base on balls plus at bats."
   ]
  },
  {
   "cell_type": "code",
   "execution_count": 7,
   "metadata": {},
   "outputs": [],
   "source": [
    "teams_new=teams[(teams[\"yearID\"]>1947)&(teams[\"G\"]==162)].copy()"
   ]
  },
  {
   "cell_type": "code",
   "execution_count": 8,
   "metadata": {},
   "outputs": [],
   "source": [
    "teams_new.loc[:,\"PA\"]=teams_new[\"AB\"]+teams_new[\"BB\"]\n",
    "teams_new.loc[:,\"Singles\"]=(teams_new[\"H\"]-teams_new[\"2B\"]-teams_new[\"3B\"]-teams_new[\"HR\"])/teams_new[\"PA\"]\n",
    "teams_new.loc[:,\"Doubles\"]=(teams_new[\"2B\"])/teams_new[\"PA\"]\n",
    "teams_new.loc[:,\"Triples\"]=(teams_new[\"3B\"])/teams_new[\"PA\"]\n",
    "teams_new.loc[:,\"Homerun\"]=(teams_new[\"HR\"])/teams_new[\"PA\"]\n",
    "teams_new.loc[:,\"Base on balls\"]=(teams_new[\"BB\"])/teams_new[\"PA\"]"
   ]
  },
  {
   "cell_type": "code",
   "execution_count": 9,
   "metadata": {},
   "outputs": [
    {
     "data": {
      "text/html": [
       "<div>\n",
       "<style scoped>\n",
       "    .dataframe tbody tr th:only-of-type {\n",
       "        vertical-align: middle;\n",
       "    }\n",
       "\n",
       "    .dataframe tbody tr th {\n",
       "        vertical-align: top;\n",
       "    }\n",
       "\n",
       "    .dataframe thead th {\n",
       "        text-align: right;\n",
       "    }\n",
       "</style>\n",
       "<table border=\"1\" class=\"dataframe\">\n",
       "  <thead>\n",
       "    <tr style=\"text-align: right;\">\n",
       "      <th></th>\n",
       "      <th>teamID</th>\n",
       "      <th>yearID</th>\n",
       "      <th>W</th>\n",
       "      <th>PA</th>\n",
       "      <th>Singles</th>\n",
       "      <th>Doubles</th>\n",
       "      <th>Triples</th>\n",
       "      <th>Homerun</th>\n",
       "      <th>Base on balls</th>\n",
       "    </tr>\n",
       "  </thead>\n",
       "  <tbody>\n",
       "    <tr>\n",
       "      <th>1366</th>\n",
       "      <td>LAA</td>\n",
       "      <td>1961</td>\n",
       "      <td>70</td>\n",
       "      <td>6105</td>\n",
       "      <td>0.147748</td>\n",
       "      <td>0.035708</td>\n",
       "      <td>0.003604</td>\n",
       "      <td>0.030958</td>\n",
       "      <td>0.111548</td>\n",
       "    </tr>\n",
       "    <tr>\n",
       "      <th>1367</th>\n",
       "      <td>KC1</td>\n",
       "      <td>1961</td>\n",
       "      <td>61</td>\n",
       "      <td>6003</td>\n",
       "      <td>0.164751</td>\n",
       "      <td>0.035982</td>\n",
       "      <td>0.007829</td>\n",
       "      <td>0.014993</td>\n",
       "      <td>0.096618</td>\n",
       "    </tr>\n",
       "    <tr>\n",
       "      <th>1377</th>\n",
       "      <td>NYA</td>\n",
       "      <td>1962</td>\n",
       "      <td>96</td>\n",
       "      <td>6228</td>\n",
       "      <td>0.167148</td>\n",
       "      <td>0.038536</td>\n",
       "      <td>0.004656</td>\n",
       "      <td>0.031952</td>\n",
       "      <td>0.093770</td>\n",
       "    </tr>\n",
       "    <tr>\n",
       "      <th>1379</th>\n",
       "      <td>LAA</td>\n",
       "      <td>1962</td>\n",
       "      <td>86</td>\n",
       "      <td>6101</td>\n",
       "      <td>0.159482</td>\n",
       "      <td>0.038027</td>\n",
       "      <td>0.005737</td>\n",
       "      <td>0.022455</td>\n",
       "      <td>0.098672</td>\n",
       "    </tr>\n",
       "    <tr>\n",
       "      <th>1381</th>\n",
       "      <td>CHA</td>\n",
       "      <td>1962</td>\n",
       "      <td>85</td>\n",
       "      <td>6134</td>\n",
       "      <td>0.165797</td>\n",
       "      <td>0.040756</td>\n",
       "      <td>0.009129</td>\n",
       "      <td>0.014998</td>\n",
       "      <td>0.101076</td>\n",
       "    </tr>\n",
       "  </tbody>\n",
       "</table>\n",
       "</div>"
      ],
      "text/plain": [
       "     teamID  yearID   W    PA   Singles   Doubles   Triples   Homerun  \\\n",
       "1366    LAA    1961  70  6105  0.147748  0.035708  0.003604  0.030958   \n",
       "1367    KC1    1961  61  6003  0.164751  0.035982  0.007829  0.014993   \n",
       "1377    NYA    1962  96  6228  0.167148  0.038536  0.004656  0.031952   \n",
       "1379    LAA    1962  86  6101  0.159482  0.038027  0.005737  0.022455   \n",
       "1381    CHA    1962  85  6134  0.165797  0.040756  0.009129  0.014998   \n",
       "\n",
       "      Base on balls  \n",
       "1366       0.111548  \n",
       "1367       0.096618  \n",
       "1377       0.093770  \n",
       "1379       0.098672  \n",
       "1381       0.101076  "
      ]
     },
     "execution_count": 9,
     "metadata": {},
     "output_type": "execute_result"
    }
   ],
   "source": [
    "stats=teams_new[[\"teamID\",\"yearID\",\"W\",\"PA\",\"Singles\",\"Doubles\",\"Triples\",\"Homerun\",\"Base on balls\"]].copy()\n",
    "stats.head()\n"
   ]
  },
  {
   "cell_type": "markdown",
   "metadata": {},
   "source": [
    "#### Problem 1(d)\n",
    "\n",
    "Is there a noticeable time trend in the rates computed computed in Problem 1(c)? "
   ]
  },
  {
   "cell_type": "code",
   "execution_count": 10,
   "metadata": {},
   "outputs": [
    {
     "data": {
      "text/plain": [
       "984"
      ]
     },
     "execution_count": 10,
     "metadata": {},
     "output_type": "execute_result"
    }
   ],
   "source": [
    "len(stats[\"yearID\"])"
   ]
  },
  {
   "cell_type": "code",
   "execution_count": 11,
   "metadata": {},
   "outputs": [
    {
     "data": {
      "text/plain": [
       "984"
      ]
     },
     "execution_count": 11,
     "metadata": {},
     "output_type": "execute_result"
    }
   ],
   "source": [
    "len(stats[\"Singles\"])"
   ]
  },
  {
   "cell_type": "code",
   "execution_count": 12,
   "metadata": {},
   "outputs": [
    {
     "data": {
      "image/png": "[encoded data removed]",
      "text/plain": [
       "<Figure size 432x288 with 1 Axes>"
      ]
     },
     "metadata": {},
     "output_type": "display_data"
    },
    {
     "data": {
      "image/png": "[encoded data removed]",
      "text/plain": [
       "<Figure size 432x288 with 1 Axes>"
      ]
     },
     "metadata": {},
     "output_type": "display_data"
    },
    {
     "data": {
      "image/png": "[encoded data removed]",
      "text/plain": [
       "<Figure size 432x288 with 1 Axes>"
      ]
     },
     "metadata": {},
     "output_type": "display_data"
    },
    {
     "data": {
      "image/png": "[encoded data removed]",
      "text/plain": [
       "<Figure size 432x288 with 1 Axes>"
      ]
     },
     "metadata": {},
     "output_type": "display_data"
    },
    {
     "data": {
      "image/png": "[encoded data removed]",
      "text/plain": [
       "<Figure size 432x288 with 1 Axes>"
      ]
     },
     "metadata": {},
     "output_type": "display_data"
    }
   ],
   "source": [
    "\n",
    "columns=[\"Singles\",\"Doubles\",\"Triples\",\"Homerun\",\"Base on balls\"]\n",
    "\n",
    "for c in columns:\n",
    "    plt.scatter(stats[\"yearID\"],stats[c],alpha=0.5)\n",
    "    plt.title(c)\n",
    "    plt.show()\n"
   ]
  },
  {
   "cell_type": "markdown",
   "metadata": {},
   "source": [
    "### Trend\n",
    "The trend is that the amount of doubles and homeruns increases over time. "
   ]
  },
  {
   "cell_type": "markdown",
   "metadata": {},
   "source": [
    "#### Problem 1(e) \n",
    "\n",
    "Using the `stats` DataFrame from Problem 1(c), adjust the singles per PA rates so that the average across teams for each year is 0. Do the same for the doubles, triples, HR, and BB rates. "
   ]
  },
  {
   "cell_type": "code",
   "execution_count": 13,
   "metadata": {},
   "outputs": [
    {
     "data": {
      "text/html": [
       "<div>\n",
       "<style scoped>\n",
       "    .dataframe tbody tr th:only-of-type {\n",
       "        vertical-align: middle;\n",
       "    }\n",
       "\n",
       "    .dataframe tbody tr th {\n",
       "        vertical-align: top;\n",
       "    }\n",
       "\n",
       "    .dataframe thead th {\n",
       "        text-align: right;\n",
       "    }\n",
       "</style>\n",
       "<table border=\"1\" class=\"dataframe\">\n",
       "  <thead>\n",
       "    <tr style=\"text-align: right;\">\n",
       "      <th></th>\n",
       "      <th>Singles</th>\n",
       "      <th>Doubles</th>\n",
       "      <th>Triples</th>\n",
       "      <th>Homerun</th>\n",
       "      <th>Base on balls</th>\n",
       "    </tr>\n",
       "    <tr>\n",
       "      <th>yearID</th>\n",
       "      <th></th>\n",
       "      <th></th>\n",
       "      <th></th>\n",
       "      <th></th>\n",
       "      <th></th>\n",
       "    </tr>\n",
       "  </thead>\n",
       "  <tbody>\n",
       "    <tr>\n",
       "      <th>1961</th>\n",
       "      <td>0.156249</td>\n",
       "      <td>0.035845</td>\n",
       "      <td>0.005717</td>\n",
       "      <td>0.022975</td>\n",
       "      <td>0.104083</td>\n",
       "    </tr>\n",
       "    <tr>\n",
       "      <th>1962</th>\n",
       "      <td>0.165632</td>\n",
       "      <td>0.035853</td>\n",
       "      <td>0.006777</td>\n",
       "      <td>0.023811</td>\n",
       "      <td>0.088590</td>\n",
       "    </tr>\n",
       "    <tr>\n",
       "      <th>1963</th>\n",
       "      <td>0.162467</td>\n",
       "      <td>0.034020</td>\n",
       "      <td>0.006896</td>\n",
       "      <td>0.021254</td>\n",
       "      <td>0.080336</td>\n",
       "    </tr>\n",
       "    <tr>\n",
       "      <th>1964</th>\n",
       "      <td>0.167251</td>\n",
       "      <td>0.036336</td>\n",
       "      <td>0.006748</td>\n",
       "      <td>0.021548</td>\n",
       "      <td>0.079152</td>\n",
       "    </tr>\n",
       "    <tr>\n",
       "      <th>1965</th>\n",
       "      <td>0.160042</td>\n",
       "      <td>0.035539</td>\n",
       "      <td>0.006534</td>\n",
       "      <td>0.022693</td>\n",
       "      <td>0.085745</td>\n",
       "    </tr>\n",
       "  </tbody>\n",
       "</table>\n",
       "</div>"
      ],
      "text/plain": [
       "         Singles   Doubles   Triples   Homerun  Base on balls\n",
       "yearID                                                       \n",
       "1961    0.156249  0.035845  0.005717  0.022975       0.104083\n",
       "1962    0.165632  0.035853  0.006777  0.023811       0.088590\n",
       "1963    0.162467  0.034020  0.006896  0.021254       0.080336\n",
       "1964    0.167251  0.036336  0.006748  0.021548       0.079152\n",
       "1965    0.160042  0.035539  0.006534  0.022693       0.085745"
      ]
     },
     "execution_count": 13,
     "metadata": {},
     "output_type": "execute_result"
    }
   ],
   "source": [
    "stats.groupby(\"yearID\")[[\"Singles\",\"Doubles\",\"Triples\",\"Homerun\",\"Base on balls\"]].mean().head()"
   ]
  },
  {
   "cell_type": "code",
   "execution_count": 14,
   "metadata": {},
   "outputs": [
    {
     "data": {
      "text/html": [
       "<div>\n",
       "<style scoped>\n",
       "    .dataframe tbody tr th:only-of-type {\n",
       "        vertical-align: middle;\n",
       "    }\n",
       "\n",
       "    .dataframe tbody tr th {\n",
       "        vertical-align: top;\n",
       "    }\n",
       "\n",
       "    .dataframe thead th {\n",
       "        text-align: right;\n",
       "    }\n",
       "</style>\n",
       "<table border=\"1\" class=\"dataframe\">\n",
       "  <thead>\n",
       "    <tr style=\"text-align: right;\">\n",
       "      <th></th>\n",
       "      <th>teamID</th>\n",
       "      <th>yearID</th>\n",
       "      <th>W</th>\n",
       "      <th>PA</th>\n",
       "      <th>Singles</th>\n",
       "      <th>Doubles</th>\n",
       "      <th>Triples</th>\n",
       "      <th>Homerun</th>\n",
       "      <th>Base on balls</th>\n",
       "    </tr>\n",
       "  </thead>\n",
       "  <tbody>\n",
       "    <tr>\n",
       "      <th>1366</th>\n",
       "      <td>LAA</td>\n",
       "      <td>1961</td>\n",
       "      <td>70</td>\n",
       "      <td>6105</td>\n",
       "      <td>0.147748</td>\n",
       "      <td>0.035708</td>\n",
       "      <td>0.003604</td>\n",
       "      <td>0.030958</td>\n",
       "      <td>0.111548</td>\n",
       "    </tr>\n",
       "    <tr>\n",
       "      <th>1367</th>\n",
       "      <td>KC1</td>\n",
       "      <td>1961</td>\n",
       "      <td>61</td>\n",
       "      <td>6003</td>\n",
       "      <td>0.164751</td>\n",
       "      <td>0.035982</td>\n",
       "      <td>0.007829</td>\n",
       "      <td>0.014993</td>\n",
       "      <td>0.096618</td>\n",
       "    </tr>\n",
       "    <tr>\n",
       "      <th>1377</th>\n",
       "      <td>NYA</td>\n",
       "      <td>1962</td>\n",
       "      <td>96</td>\n",
       "      <td>6228</td>\n",
       "      <td>0.167148</td>\n",
       "      <td>0.038536</td>\n",
       "      <td>0.004656</td>\n",
       "      <td>0.031952</td>\n",
       "      <td>0.093770</td>\n",
       "    </tr>\n",
       "    <tr>\n",
       "      <th>1379</th>\n",
       "      <td>LAA</td>\n",
       "      <td>1962</td>\n",
       "      <td>86</td>\n",
       "      <td>6101</td>\n",
       "      <td>0.159482</td>\n",
       "      <td>0.038027</td>\n",
       "      <td>0.005737</td>\n",
       "      <td>0.022455</td>\n",
       "      <td>0.098672</td>\n",
       "    </tr>\n",
       "    <tr>\n",
       "      <th>1381</th>\n",
       "      <td>CHA</td>\n",
       "      <td>1962</td>\n",
       "      <td>85</td>\n",
       "      <td>6134</td>\n",
       "      <td>0.165797</td>\n",
       "      <td>0.040756</td>\n",
       "      <td>0.009129</td>\n",
       "      <td>0.014998</td>\n",
       "      <td>0.101076</td>\n",
       "    </tr>\n",
       "  </tbody>\n",
       "</table>\n",
       "</div>"
      ],
      "text/plain": [
       "     teamID  yearID   W    PA   Singles   Doubles   Triples   Homerun  \\\n",
       "1366    LAA    1961  70  6105  0.147748  0.035708  0.003604  0.030958   \n",
       "1367    KC1    1961  61  6003  0.164751  0.035982  0.007829  0.014993   \n",
       "1377    NYA    1962  96  6228  0.167148  0.038536  0.004656  0.031952   \n",
       "1379    LAA    1962  86  6101  0.159482  0.038027  0.005737  0.022455   \n",
       "1381    CHA    1962  85  6134  0.165797  0.040756  0.009129  0.014998   \n",
       "\n",
       "      Base on balls  \n",
       "1366       0.111548  \n",
       "1367       0.096618  \n",
       "1377       0.093770  \n",
       "1379       0.098672  \n",
       "1381       0.101076  "
      ]
     },
     "execution_count": 14,
     "metadata": {},
     "output_type": "execute_result"
    }
   ],
   "source": [
    "stats.head()"
   ]
  },
  {
   "cell_type": "code",
   "execution_count": 15,
   "metadata": {},
   "outputs": [],
   "source": [
    "def normalize(df):\n",
    "    rates=df[[\"Singles\",\"Doubles\",\"Triples\",\"Homerun\",\"Base on balls\"]]\n",
    "    df[[\"Singles\",\"Doubles\",\"Triples\",\"Homerun\",\"Base on balls\"]]=rates - rates.mean(axis=0)\n",
    "    return df\n",
    "   \n"
   ]
  },
  {
   "cell_type": "code",
   "execution_count": 16,
   "metadata": {},
   "outputs": [
    {
     "data": {
      "text/html": [
       "<div>\n",
       "<style scoped>\n",
       "    .dataframe tbody tr th:only-of-type {\n",
       "        vertical-align: middle;\n",
       "    }\n",
       "\n",
       "    .dataframe tbody tr th {\n",
       "        vertical-align: top;\n",
       "    }\n",
       "\n",
       "    .dataframe thead th {\n",
       "        text-align: right;\n",
       "    }\n",
       "</style>\n",
       "<table border=\"1\" class=\"dataframe\">\n",
       "  <thead>\n",
       "    <tr style=\"text-align: right;\">\n",
       "      <th></th>\n",
       "      <th>teamID</th>\n",
       "      <th>yearID</th>\n",
       "      <th>W</th>\n",
       "      <th>PA</th>\n",
       "      <th>Singles</th>\n",
       "      <th>Doubles</th>\n",
       "      <th>Triples</th>\n",
       "      <th>Homerun</th>\n",
       "      <th>Base on balls</th>\n",
       "    </tr>\n",
       "  </thead>\n",
       "  <tbody>\n",
       "    <tr>\n",
       "      <th>1366</th>\n",
       "      <td>LAA</td>\n",
       "      <td>1961</td>\n",
       "      <td>70</td>\n",
       "      <td>6105</td>\n",
       "      <td>-0.008502</td>\n",
       "      <td>-0.000137</td>\n",
       "      <td>-0.002113</td>\n",
       "      <td>0.007983</td>\n",
       "      <td>0.007465</td>\n",
       "    </tr>\n",
       "    <tr>\n",
       "      <th>1367</th>\n",
       "      <td>KC1</td>\n",
       "      <td>1961</td>\n",
       "      <td>61</td>\n",
       "      <td>6003</td>\n",
       "      <td>0.008502</td>\n",
       "      <td>0.000137</td>\n",
       "      <td>0.002113</td>\n",
       "      <td>-0.007983</td>\n",
       "      <td>-0.007465</td>\n",
       "    </tr>\n",
       "    <tr>\n",
       "      <th>1377</th>\n",
       "      <td>NYA</td>\n",
       "      <td>1962</td>\n",
       "      <td>96</td>\n",
       "      <td>6228</td>\n",
       "      <td>0.001516</td>\n",
       "      <td>0.002683</td>\n",
       "      <td>-0.002121</td>\n",
       "      <td>0.008141</td>\n",
       "      <td>0.005180</td>\n",
       "    </tr>\n",
       "    <tr>\n",
       "      <th>1379</th>\n",
       "      <td>LAA</td>\n",
       "      <td>1962</td>\n",
       "      <td>86</td>\n",
       "      <td>6101</td>\n",
       "      <td>-0.006150</td>\n",
       "      <td>0.002174</td>\n",
       "      <td>-0.001040</td>\n",
       "      <td>-0.001356</td>\n",
       "      <td>0.010082</td>\n",
       "    </tr>\n",
       "    <tr>\n",
       "      <th>1381</th>\n",
       "      <td>CHA</td>\n",
       "      <td>1962</td>\n",
       "      <td>85</td>\n",
       "      <td>6134</td>\n",
       "      <td>0.000165</td>\n",
       "      <td>0.004904</td>\n",
       "      <td>0.002352</td>\n",
       "      <td>-0.008813</td>\n",
       "      <td>0.012486</td>\n",
       "    </tr>\n",
       "  </tbody>\n",
       "</table>\n",
       "</div>"
      ],
      "text/plain": [
       "     teamID  yearID   W    PA   Singles   Doubles   Triples   Homerun  \\\n",
       "1366    LAA    1961  70  6105 -0.008502 -0.000137 -0.002113  0.007983   \n",
       "1367    KC1    1961  61  6003  0.008502  0.000137  0.002113 -0.007983   \n",
       "1377    NYA    1962  96  6228  0.001516  0.002683 -0.002121  0.008141   \n",
       "1379    LAA    1962  86  6101 -0.006150  0.002174 -0.001040 -0.001356   \n",
       "1381    CHA    1962  85  6134  0.000165  0.004904  0.002352 -0.008813   \n",
       "\n",
       "      Base on balls  \n",
       "1366       0.007465  \n",
       "1367      -0.007465  \n",
       "1377       0.005180  \n",
       "1379       0.010082  \n",
       "1381       0.012486  "
      ]
     },
     "execution_count": 16,
     "metadata": {},
     "output_type": "execute_result"
    }
   ],
   "source": [
    "stats=stats.groupby(\"yearID\").apply(normalize)\n",
    "stats.head()\n"
   ]
  },
  {
   "cell_type": "code",
   "execution_count": 17,
   "metadata": {},
   "outputs": [
    {
     "data": {
      "text/plain": [
       "984"
      ]
     },
     "execution_count": 17,
     "metadata": {},
     "output_type": "execute_result"
    }
   ],
   "source": [
    "len(stats)"
   ]
  },
  {
   "cell_type": "markdown",
   "metadata": {},
   "source": [
    "#### Problem 1(f)\n",
    "\n",
    "Build a simple linear regression model to predict the number of wins from the average adjusted singles, double, triples, HR, and BB rates. To decide which of these terms to include fit the model to data from 2002 and compute the average squared residuals from predictions to years past 2002. Use the fitted model to define a new sabermetric summary: offensive predicted wins (OPW). Hint: the new summary should be a linear combination of one to five of the five rates.\n"
   ]
  },
  {
   "cell_type": "code",
   "execution_count": 18,
   "metadata": {},
   "outputs": [
    {
     "name": "stdout",
     "output_type": "stream",
     "text": [
      "83.8230424898\n",
      "[  523.51121499   479.73673295  1138.48602313   851.67216873   511.45942978]\n",
      "81.0634441088\n"
     ]
    }
   ],
   "source": [
    "reg=sklearn.linear_model.LinearRegression()\n",
    "x_train=stats[[\"Singles\",\"Doubles\",\"Triples\",\"Homerun\",\"Base on balls\"]].loc[stats[\"yearID\"]<2002,:]\n",
    "y_train=stats[\"W\"].loc[stats[\"yearID\"]<2002]\n",
    "x_test=stats[[\"Singles\",\"Doubles\",\"Triples\",\"Homerun\",\"Base on balls\"]].loc[stats[\"yearID\"]>=2002,:]\n",
    "y_test=stats[\"W\"].loc[stats[\"yearID\"]>=2002]\n",
    "reg.fit(x_train,y_train)\n",
    "pred=reg.predict(x_train)\n",
    "pred2=reg.predict(x_test)\n",
    "print sklearn.metrics.mean_squared_error(y_test,pred2)\n",
    "coef=reg.coef_\n",
    "print coef\n",
    "intercept=reg.intercept_\n",
    "print intercept\n",
    "\n"
   ]
  },
  {
   "cell_type": "code",
   "execution_count": 19,
   "metadata": {},
   "outputs": [
    {
     "data": {
      "image/png": "[encoded data removed]",
      "text/plain": [
       "<Figure size 432x288 with 1 Axes>"
      ]
     },
     "metadata": {},
     "output_type": "display_data"
    },
    {
     "data": {
      "image/png": "[encoded data removed]",
      "text/plain": [
       "<Figure size 432x288 with 1 Axes>"
      ]
     },
     "metadata": {},
     "output_type": "display_data"
    },
    {
     "data": {
      "image/png": "[encoded data removed]",
      "text/plain": [
       "<Figure size 432x288 with 1 Axes>"
      ]
     },
     "metadata": {},
     "output_type": "display_data"
    },
    {
     "data": {
      "image/png": "[encoded data removed]",
      "text/plain": [
       "<Figure size 432x288 with 1 Axes>"
      ]
     },
     "metadata": {},
     "output_type": "display_data"
    }
   ],
   "source": [
    "plt.scatter(x_train[\"Singles\"],y_train)\n",
    "plt.show()\n",
    "plt.scatter(x_train[\"Doubles\"],y_train)\n",
    "plt.show()\n",
    "plt.scatter(x_train[\"Homerun\"],y_train)\n",
    "plt.show()\n",
    "plt.scatter(x_train[\"Base on balls\"],y_train)\n",
    "plt.show()"
   ]
  },
  {
   "cell_type": "markdown",
   "metadata": {},
   "source": [
    "** Your answer here: **\n",
    "The OPW must be a linear combination of all features because they have least MSE.  "
   ]
  },
  {
   "cell_type": "markdown",
   "metadata": {},
   "source": [
    "#### Problem 1(g)\n",
    "\n",
    "Now we will create a similar database for individual players. Consider only player/year combinations in which the player had at least 500 plate appearances. Consider only the years we considered for the calculations above (after 1947 and seasons with 162 games). For each player/year compute singles, doubles, triples, HR, BB per plate appearance rates. Create a new pandas DataFrame called `playerstats` that has the playerID, yearID and the rates of these stats.  Remove the average for each year as for these rates as done in Problem 1(e). "
   ]
  },
  {
   "cell_type": "markdown",
   "metadata": {},
   "source": [
    "Show the head of the `playerstats` DataFrame. "
   ]
  },
  {
   "cell_type": "code",
   "execution_count": 20,
   "metadata": {},
   "outputs": [],
   "source": [
    "players2=players.copy()\n",
    "players2=players2[(players2[\"AB\"]+players2[\"BB\"]>500)&(players2[\"yearID\"]>1947)]"
   ]
  },
  {
   "cell_type": "code",
   "execution_count": 21,
   "metadata": {},
   "outputs": [],
   "source": [
    "players2.loc[:,\"PA\"]=players2.loc[:,\"AB\"]+players2.loc[:,\"BB\"]\n",
    "players2[\"1B\"]=players2[\"H\"]-players2[\"2B\"]-players2[\"3B\"]-players2[\"HR\"]\n",
    "for i in [\"1B\",\"2B\",\"3B\",\"HR\",\"BB\"]:\n",
    "    players2[i]=players2[i]/players2[\"PA\"]"
   ]
  },
  {
   "cell_type": "code",
   "execution_count": 22,
   "metadata": {},
   "outputs": [],
   "source": [
    "def normalize2(df):\n",
    "    rates=df[[\"1B\",\"2B\",\"3B\",\"HR\",\"BB\"]]\n",
    "    df[[\"1B\",\"2B\",\"3B\",\"HR\",\"BB\"]]=rates - rates.mean(axis=0)\n",
    "    return df"
   ]
  },
  {
   "cell_type": "code",
   "execution_count": 23,
   "metadata": {},
   "outputs": [],
   "source": [
    "players2=players2.groupby(\"yearID\").apply(normalize2)"
   ]
  },
  {
   "cell_type": "code",
   "execution_count": 24,
   "metadata": {},
   "outputs": [
    {
     "data": {
      "text/html": [
       "<div>\n",
       "<style scoped>\n",
       "    .dataframe tbody tr th:only-of-type {\n",
       "        vertical-align: middle;\n",
       "    }\n",
       "\n",
       "    .dataframe tbody tr th {\n",
       "        vertical-align: top;\n",
       "    }\n",
       "\n",
       "    .dataframe thead th {\n",
       "        text-align: right;\n",
       "    }\n",
       "</style>\n",
       "<table border=\"1\" class=\"dataframe\">\n",
       "  <thead>\n",
       "    <tr style=\"text-align: right;\">\n",
       "      <th></th>\n",
       "      <th>playerID</th>\n",
       "      <th>yearID</th>\n",
       "      <th>1B</th>\n",
       "      <th>2B</th>\n",
       "      <th>3B</th>\n",
       "      <th>HR</th>\n",
       "      <th>BB</th>\n",
       "    </tr>\n",
       "  </thead>\n",
       "  <tbody>\n",
       "    <tr>\n",
       "      <th>8</th>\n",
       "      <td>aaronha01</td>\n",
       "      <td>1955</td>\n",
       "      <td>0.001060</td>\n",
       "      <td>0.018570</td>\n",
       "      <td>0.005585</td>\n",
       "      <td>0.011337</td>\n",
       "      <td>-0.027249</td>\n",
       "    </tr>\n",
       "    <tr>\n",
       "      <th>9</th>\n",
       "      <td>aaronha01</td>\n",
       "      <td>1956</td>\n",
       "      <td>0.021561</td>\n",
       "      <td>0.013857</td>\n",
       "      <td>0.012480</td>\n",
       "      <td>0.009593</td>\n",
       "      <td>-0.044600</td>\n",
       "    </tr>\n",
       "    <tr>\n",
       "      <th>10</th>\n",
       "      <td>aaronha01</td>\n",
       "      <td>1957</td>\n",
       "      <td>0.004817</td>\n",
       "      <td>-0.002034</td>\n",
       "      <td>0.000466</td>\n",
       "      <td>0.037093</td>\n",
       "      <td>-0.013166</td>\n",
       "    </tr>\n",
       "    <tr>\n",
       "      <th>11</th>\n",
       "      <td>aaronha01</td>\n",
       "      <td>1958</td>\n",
       "      <td>0.018367</td>\n",
       "      <td>0.011015</td>\n",
       "      <td>-0.002219</td>\n",
       "      <td>0.015398</td>\n",
       "      <td>-0.007762</td>\n",
       "    </tr>\n",
       "    <tr>\n",
       "      <th>12</th>\n",
       "      <td>aaronha01</td>\n",
       "      <td>1959</td>\n",
       "      <td>0.016261</td>\n",
       "      <td>0.025762</td>\n",
       "      <td>0.002743</td>\n",
       "      <td>0.028368</td>\n",
       "      <td>-0.022898</td>\n",
       "    </tr>\n",
       "  </tbody>\n",
       "</table>\n",
       "</div>"
      ],
      "text/plain": [
       "     playerID  yearID        1B        2B        3B        HR        BB\n",
       "8   aaronha01    1955  0.001060  0.018570  0.005585  0.011337 -0.027249\n",
       "9   aaronha01    1956  0.021561  0.013857  0.012480  0.009593 -0.044600\n",
       "10  aaronha01    1957  0.004817 -0.002034  0.000466  0.037093 -0.013166\n",
       "11  aaronha01    1958  0.018367  0.011015 -0.002219  0.015398 -0.007762\n",
       "12  aaronha01    1959  0.016261  0.025762  0.002743  0.028368 -0.022898"
      ]
     },
     "execution_count": 24,
     "metadata": {},
     "output_type": "execute_result"
    }
   ],
   "source": [
    "playerstats=players2[[\"playerID\",\"yearID\",\"1B\",\"2B\",\"3B\",\"HR\",\"BB\"]]\n",
    "playerstats.head()"
   ]
  },
  {
   "cell_type": "markdown",
   "metadata": {},
   "source": [
    "#### Problem 1(h)\n",
    "\n",
    "Using the `playerstats` DataFrame created in Problem 1(g), create a new DataFrame called `playerLS` containing the player's lifetime stats. This DataFrame should contain the playerID, the year the player's career started, the year the player's career ended and the player's lifetime average for each of the quantities (singles, doubles, triples, HR, BB). For simplicity we will simply compute the avaerage of the rates by year (a more correct way is to go back to the totals). "
   ]
  },
  {
   "cell_type": "code",
   "execution_count": 25,
   "metadata": {},
   "outputs": [],
   "source": [
    "def find_start_year(name):\n",
    "    try:\n",
    "        debut=master[\"debut\"][master[\"playerID\"]==name].iloc[0]\n",
    "        year=debut[0:4]\n",
    "        return int(year)\n",
    "    except KeyError:\n",
    "        return 2018\n",
    "   \n",
    "def find_end_year(name):\n",
    "    try:\n",
    "        endgame=master[\"finalGame\"][master[\"playerID\"]==name].iloc[0]\n",
    "        return int(endgame[0:4])\n",
    "    except KeyError:\n",
    "        return 2018"
   ]
  },
  {
   "cell_type": "code",
   "execution_count": 26,
   "metadata": {},
   "outputs": [],
   "source": [
    "playerLS=pd.DataFrame()\n",
    "playerLS[\"playerID\"]=playerstats[\"playerID\"].unique()\n",
    "playerLS[\"startYear\"]=map(find_start_year,playerLS[\"playerID\"])\n",
    "playerLS[\"endYear\"]=map(find_end_year,playerLS[\"playerID\"])"
   ]
  },
  {
   "cell_type": "code",
   "execution_count": 27,
   "metadata": {},
   "outputs": [],
   "source": [
    "for c in [\"1B\",\"2B\",\"3B\",\"HR\",\"BB\"]:\n",
    "    playerLS[\"av\"+c]=map(lambda x: playerstats[c][playerstats[\"playerID\"]==x].mean(),playerLS[\"playerID\"])"
   ]
  },
  {
   "cell_type": "markdown",
   "metadata": {},
   "source": [
    "Show the head of the `playerLS` DataFrame. "
   ]
  },
  {
   "cell_type": "code",
   "execution_count": 28,
   "metadata": {},
   "outputs": [
    {
     "data": {
      "text/html": [
       "<div>\n",
       "<style scoped>\n",
       "    .dataframe tbody tr th:only-of-type {\n",
       "        vertical-align: middle;\n",
       "    }\n",
       "\n",
       "    .dataframe tbody tr th {\n",
       "        vertical-align: top;\n",
       "    }\n",
       "\n",
       "    .dataframe thead th {\n",
       "        text-align: right;\n",
       "    }\n",
       "</style>\n",
       "<table border=\"1\" class=\"dataframe\">\n",
       "  <thead>\n",
       "    <tr style=\"text-align: right;\">\n",
       "      <th></th>\n",
       "      <th>playerID</th>\n",
       "      <th>startYear</th>\n",
       "      <th>endYear</th>\n",
       "      <th>av1B</th>\n",
       "      <th>av2B</th>\n",
       "      <th>av3B</th>\n",
       "      <th>avHR</th>\n",
       "      <th>avBB</th>\n",
       "    </tr>\n",
       "  </thead>\n",
       "  <tbody>\n",
       "    <tr>\n",
       "      <th>0</th>\n",
       "      <td>aaronha01</td>\n",
       "      <td>1954</td>\n",
       "      <td>1976</td>\n",
       "      <td>-0.007157</td>\n",
       "      <td>0.006539</td>\n",
       "      <td>-0.000270</td>\n",
       "      <td>0.027850</td>\n",
       "      <td>0.009447</td>\n",
       "    </tr>\n",
       "    <tr>\n",
       "      <th>1</th>\n",
       "      <td>abramca01</td>\n",
       "      <td>1949</td>\n",
       "      <td>1956</td>\n",
       "      <td>0.013463</td>\n",
       "      <td>-0.023915</td>\n",
       "      <td>0.002384</td>\n",
       "      <td>0.003842</td>\n",
       "      <td>0.019455</td>\n",
       "    </tr>\n",
       "    <tr>\n",
       "      <th>2</th>\n",
       "      <td>abreubo01</td>\n",
       "      <td>1996</td>\n",
       "      <td>2012</td>\n",
       "      <td>-0.008202</td>\n",
       "      <td>0.006421</td>\n",
       "      <td>0.001002</td>\n",
       "      <td>-0.003252</td>\n",
       "      <td>0.050501</td>\n",
       "    </tr>\n",
       "    <tr>\n",
       "      <th>3</th>\n",
       "      <td>ackledu01</td>\n",
       "      <td>2011</td>\n",
       "      <td>2013</td>\n",
       "      <td>-0.009270</td>\n",
       "      <td>-0.016605</td>\n",
       "      <td>-0.001974</td>\n",
       "      <td>-0.015274</td>\n",
       "      <td>0.001597</td>\n",
       "    </tr>\n",
       "    <tr>\n",
       "      <th>4</th>\n",
       "      <td>adairje01</td>\n",
       "      <td>1958</td>\n",
       "      <td>1970</td>\n",
       "      <td>0.011933</td>\n",
       "      <td>0.003286</td>\n",
       "      <td>-0.002139</td>\n",
       "      <td>-0.012934</td>\n",
       "      <td>-0.037229</td>\n",
       "    </tr>\n",
       "  </tbody>\n",
       "</table>\n",
       "</div>"
      ],
      "text/plain": [
       "    playerID  startYear  endYear      av1B      av2B      av3B      avHR  \\\n",
       "0  aaronha01       1954     1976 -0.007157  0.006539 -0.000270  0.027850   \n",
       "1  abramca01       1949     1956  0.013463 -0.023915  0.002384  0.003842   \n",
       "2  abreubo01       1996     2012 -0.008202  0.006421  0.001002 -0.003252   \n",
       "3  ackledu01       2011     2013 -0.009270 -0.016605 -0.001974 -0.015274   \n",
       "4  adairje01       1958     1970  0.011933  0.003286 -0.002139 -0.012934   \n",
       "\n",
       "       avBB  \n",
       "0  0.009447  \n",
       "1  0.019455  \n",
       "2  0.050501  \n",
       "3  0.001597  \n",
       "4 -0.037229  "
      ]
     },
     "execution_count": 28,
     "metadata": {},
     "output_type": "execute_result"
    }
   ],
   "source": [
    "playerLS.head()"
   ]
  },
  {
   "cell_type": "markdown",
   "metadata": {},
   "source": [
    "#### Problem 1(i)\n",
    "\n",
    "Compute the OPW for each player based on the average rates in the `playerLS` DataFrame. You can interpret this summary statistic as the predicted wins for a team with 9 batters exactly like the player in question. Add this column to the playerLS DataFrame. Call this colum OPW."
   ]
  },
  {
   "cell_type": "code",
   "execution_count": 29,
   "metadata": {},
   "outputs": [],
   "source": [
    "coef=reg.coef_\n",
    "intercept=reg.intercept_\n",
    "playerLS[\"OPW\"]=playerLS.apply(lambda x: (sum(x[3:8]*coef))+intercept,axis=1)\n"
   ]
  },
  {
   "cell_type": "code",
   "execution_count": 30,
   "metadata": {},
   "outputs": [
    {
     "data": {
      "text/html": [
       "<div>\n",
       "<style scoped>\n",
       "    .dataframe tbody tr th:only-of-type {\n",
       "        vertical-align: middle;\n",
       "    }\n",
       "\n",
       "    .dataframe tbody tr th {\n",
       "        vertical-align: top;\n",
       "    }\n",
       "\n",
       "    .dataframe thead th {\n",
       "        text-align: right;\n",
       "    }\n",
       "</style>\n",
       "<table border=\"1\" class=\"dataframe\">\n",
       "  <thead>\n",
       "    <tr style=\"text-align: right;\">\n",
       "      <th></th>\n",
       "      <th>playerID</th>\n",
       "      <th>startYear</th>\n",
       "      <th>endYear</th>\n",
       "      <th>av1B</th>\n",
       "      <th>av2B</th>\n",
       "      <th>av3B</th>\n",
       "      <th>avHR</th>\n",
       "      <th>avBB</th>\n",
       "      <th>OPW</th>\n",
       "    </tr>\n",
       "  </thead>\n",
       "  <tbody>\n",
       "    <tr>\n",
       "      <th>0</th>\n",
       "      <td>aaronha01</td>\n",
       "      <td>1954</td>\n",
       "      <td>1976</td>\n",
       "      <td>-0.007157</td>\n",
       "      <td>0.006539</td>\n",
       "      <td>-0.000270</td>\n",
       "      <td>0.027850</td>\n",
       "      <td>0.009447</td>\n",
       "      <td>108.696139</td>\n",
       "    </tr>\n",
       "    <tr>\n",
       "      <th>1</th>\n",
       "      <td>abramca01</td>\n",
       "      <td>1949</td>\n",
       "      <td>1956</td>\n",
       "      <td>0.013463</td>\n",
       "      <td>-0.023915</td>\n",
       "      <td>0.002384</td>\n",
       "      <td>0.003842</td>\n",
       "      <td>0.019455</td>\n",
       "      <td>92.575472</td>\n",
       "    </tr>\n",
       "    <tr>\n",
       "      <th>2</th>\n",
       "      <td>abreubo01</td>\n",
       "      <td>1996</td>\n",
       "      <td>2012</td>\n",
       "      <td>-0.008202</td>\n",
       "      <td>0.006421</td>\n",
       "      <td>0.001002</td>\n",
       "      <td>-0.003252</td>\n",
       "      <td>0.050501</td>\n",
       "      <td>104.050008</td>\n",
       "    </tr>\n",
       "    <tr>\n",
       "      <th>3</th>\n",
       "      <td>ackledu01</td>\n",
       "      <td>2011</td>\n",
       "      <td>2013</td>\n",
       "      <td>-0.009270</td>\n",
       "      <td>-0.016605</td>\n",
       "      <td>-0.001974</td>\n",
       "      <td>-0.015274</td>\n",
       "      <td>0.001597</td>\n",
       "      <td>53.806003</td>\n",
       "    </tr>\n",
       "    <tr>\n",
       "      <th>4</th>\n",
       "      <td>adairje01</td>\n",
       "      <td>1958</td>\n",
       "      <td>1970</td>\n",
       "      <td>0.011933</td>\n",
       "      <td>0.003286</td>\n",
       "      <td>-0.002139</td>\n",
       "      <td>-0.012934</td>\n",
       "      <td>-0.037229</td>\n",
       "      <td>56.395050</td>\n",
       "    </tr>\n",
       "  </tbody>\n",
       "</table>\n",
       "</div>"
      ],
      "text/plain": [
       "    playerID  startYear  endYear      av1B      av2B      av3B      avHR  \\\n",
       "0  aaronha01       1954     1976 -0.007157  0.006539 -0.000270  0.027850   \n",
       "1  abramca01       1949     1956  0.013463 -0.023915  0.002384  0.003842   \n",
       "2  abreubo01       1996     2012 -0.008202  0.006421  0.001002 -0.003252   \n",
       "3  ackledu01       2011     2013 -0.009270 -0.016605 -0.001974 -0.015274   \n",
       "4  adairje01       1958     1970  0.011933  0.003286 -0.002139 -0.012934   \n",
       "\n",
       "       avBB         OPW  \n",
       "0  0.009447  108.696139  \n",
       "1  0.019455   92.575472  \n",
       "2  0.050501  104.050008  \n",
       "3  0.001597   53.806003  \n",
       "4 -0.037229   56.395050  "
      ]
     },
     "execution_count": 30,
     "metadata": {},
     "output_type": "execute_result"
    }
   ],
   "source": [
    "playerLS.head()"
   ]
  },
  {
   "cell_type": "markdown",
   "metadata": {},
   "source": [
    "#### Problem 1(j)\n",
    "\n",
    "Add four columns to the `playerLS` DataFrame that contains the player's position (C, 1B, 2B, 3B, SS, LF, CF, RF, or OF), first name, last name and median salary. "
   ]
  },
  {
   "cell_type": "code",
   "execution_count": 31,
   "metadata": {},
   "outputs": [],
   "source": [
    "def get_position(name):\n",
    "    return fielding[fielding[\"playerID\"]==name].groupby(\"POS\").count()[\"playerID\"].sort_values(ascending=False).index[0]\n",
    "    "
   ]
  },
  {
   "cell_type": "code",
   "execution_count": 201,
   "metadata": {},
   "outputs": [
    {
     "data": {
      "text/html": [
       "<div>\n",
       "<style scoped>\n",
       "    .dataframe tbody tr th:only-of-type {\n",
       "        vertical-align: middle;\n",
       "    }\n",
       "\n",
       "    .dataframe tbody tr th {\n",
       "        vertical-align: top;\n",
       "    }\n",
       "\n",
       "    .dataframe thead th {\n",
       "        text-align: right;\n",
       "    }\n",
       "</style>\n",
       "<table border=\"1\" class=\"dataframe\">\n",
       "  <thead>\n",
       "    <tr style=\"text-align: right;\">\n",
       "      <th></th>\n",
       "      <th>playerID</th>\n",
       "      <th>yearID</th>\n",
       "      <th>stint</th>\n",
       "      <th>teamID</th>\n",
       "      <th>lgID</th>\n",
       "      <th>G</th>\n",
       "      <th>GS</th>\n",
       "      <th>InnOuts</th>\n",
       "      <th>PO</th>\n",
       "      <th>A</th>\n",
       "      <th>E</th>\n",
       "      <th>DP</th>\n",
       "      <th>PB</th>\n",
       "      <th>WP</th>\n",
       "      <th>SB</th>\n",
       "      <th>CS</th>\n",
       "      <th>ZR</th>\n",
       "    </tr>\n",
       "    <tr>\n",
       "      <th>POS</th>\n",
       "      <th></th>\n",
       "      <th></th>\n",
       "      <th></th>\n",
       "      <th></th>\n",
       "      <th></th>\n",
       "      <th></th>\n",
       "      <th></th>\n",
       "      <th></th>\n",
       "      <th></th>\n",
       "      <th></th>\n",
       "      <th></th>\n",
       "      <th></th>\n",
       "      <th></th>\n",
       "      <th></th>\n",
       "      <th></th>\n",
       "      <th></th>\n",
       "      <th></th>\n",
       "    </tr>\n",
       "  </thead>\n",
       "  <tbody>\n",
       "    <tr>\n",
       "      <th>1B</th>\n",
       "      <td>3</td>\n",
       "      <td>3</td>\n",
       "      <td>3</td>\n",
       "      <td>3</td>\n",
       "      <td>3</td>\n",
       "      <td>3</td>\n",
       "      <td>3</td>\n",
       "      <td>3</td>\n",
       "      <td>3</td>\n",
       "      <td>3</td>\n",
       "      <td>3</td>\n",
       "      <td>3</td>\n",
       "      <td>0</td>\n",
       "      <td>0</td>\n",
       "      <td>0</td>\n",
       "      <td>0</td>\n",
       "      <td>0</td>\n",
       "    </tr>\n",
       "    <tr>\n",
       "      <th>2B</th>\n",
       "      <td>3</td>\n",
       "      <td>3</td>\n",
       "      <td>3</td>\n",
       "      <td>3</td>\n",
       "      <td>3</td>\n",
       "      <td>3</td>\n",
       "      <td>3</td>\n",
       "      <td>3</td>\n",
       "      <td>3</td>\n",
       "      <td>3</td>\n",
       "      <td>3</td>\n",
       "      <td>3</td>\n",
       "      <td>0</td>\n",
       "      <td>0</td>\n",
       "      <td>0</td>\n",
       "      <td>0</td>\n",
       "      <td>0</td>\n",
       "    </tr>\n",
       "    <tr>\n",
       "      <th>CF</th>\n",
       "      <td>1</td>\n",
       "      <td>1</td>\n",
       "      <td>1</td>\n",
       "      <td>1</td>\n",
       "      <td>1</td>\n",
       "      <td>1</td>\n",
       "      <td>1</td>\n",
       "      <td>1</td>\n",
       "      <td>1</td>\n",
       "      <td>1</td>\n",
       "      <td>1</td>\n",
       "      <td>1</td>\n",
       "      <td>0</td>\n",
       "      <td>0</td>\n",
       "      <td>0</td>\n",
       "      <td>0</td>\n",
       "      <td>0</td>\n",
       "    </tr>\n",
       "    <tr>\n",
       "      <th>LF</th>\n",
       "      <td>1</td>\n",
       "      <td>1</td>\n",
       "      <td>1</td>\n",
       "      <td>1</td>\n",
       "      <td>1</td>\n",
       "      <td>1</td>\n",
       "      <td>1</td>\n",
       "      <td>1</td>\n",
       "      <td>1</td>\n",
       "      <td>1</td>\n",
       "      <td>1</td>\n",
       "      <td>1</td>\n",
       "      <td>0</td>\n",
       "      <td>0</td>\n",
       "      <td>0</td>\n",
       "      <td>0</td>\n",
       "      <td>0</td>\n",
       "    </tr>\n",
       "  </tbody>\n",
       "</table>\n",
       "</div>"
      ],
      "text/plain": [
       "     playerID  yearID  stint  teamID  lgID  G  GS  InnOuts  PO  A  E  DP  PB  \\\n",
       "POS                                                                            \n",
       "1B          3       3      3       3     3  3   3        3   3  3  3   3   0   \n",
       "2B          3       3      3       3     3  3   3        3   3  3  3   3   0   \n",
       "CF          1       1      1       1     1  1   1        1   1  1  1   1   0   \n",
       "LF          1       1      1       1     1  1   1        1   1  1  1   1   0   \n",
       "\n",
       "     WP  SB  CS  ZR  \n",
       "POS                  \n",
       "1B    0   0   0   0  \n",
       "2B    0   0   0   0  \n",
       "CF    0   0   0   0  \n",
       "LF    0   0   0   0  "
      ]
     },
     "execution_count": 201,
     "metadata": {},
     "output_type": "execute_result"
    }
   ],
   "source": [
    "fielding[fielding[\"playerID\"]==\"ackledu01\"].groupby(\"POS\").count()"
   ]
  },
  {
   "cell_type": "code",
   "execution_count": 32,
   "metadata": {},
   "outputs": [],
   "source": [
    "playerLS[\"Position\"]=[get_position(name)   for name in playerLS[\"playerID\"]]\n"
   ]
  },
  {
   "cell_type": "code",
   "execution_count": 33,
   "metadata": {},
   "outputs": [],
   "source": [
    "playerLS_merged=playerLS.merge(medianSalaries,how=\"inner\",on=\"playerID\")"
   ]
  },
  {
   "cell_type": "markdown",
   "metadata": {},
   "source": [
    "Show the head of the `playerLS` DataFrame. "
   ]
  },
  {
   "cell_type": "code",
   "execution_count": 34,
   "metadata": {},
   "outputs": [
    {
     "data": {
      "text/html": [
       "<div>\n",
       "<style scoped>\n",
       "    .dataframe tbody tr th:only-of-type {\n",
       "        vertical-align: middle;\n",
       "    }\n",
       "\n",
       "    .dataframe tbody tr th {\n",
       "        vertical-align: top;\n",
       "    }\n",
       "\n",
       "    .dataframe thead th {\n",
       "        text-align: right;\n",
       "    }\n",
       "</style>\n",
       "<table border=\"1\" class=\"dataframe\">\n",
       "  <thead>\n",
       "    <tr style=\"text-align: right;\">\n",
       "      <th></th>\n",
       "      <th>playerID</th>\n",
       "      <th>startYear</th>\n",
       "      <th>endYear</th>\n",
       "      <th>av1B</th>\n",
       "      <th>av2B</th>\n",
       "      <th>av3B</th>\n",
       "      <th>avHR</th>\n",
       "      <th>avBB</th>\n",
       "      <th>OPW</th>\n",
       "      <th>Position</th>\n",
       "      <th>nameFirst</th>\n",
       "      <th>nameLast</th>\n",
       "      <th>medianSal</th>\n",
       "    </tr>\n",
       "  </thead>\n",
       "  <tbody>\n",
       "    <tr>\n",
       "      <th>0</th>\n",
       "      <td>abreubo01</td>\n",
       "      <td>1996</td>\n",
       "      <td>2012</td>\n",
       "      <td>-0.008202</td>\n",
       "      <td>0.006421</td>\n",
       "      <td>0.001002</td>\n",
       "      <td>-0.003252</td>\n",
       "      <td>0.050501</td>\n",
       "      <td>104.050008</td>\n",
       "      <td>RF</td>\n",
       "      <td>Bobby</td>\n",
       "      <td>Abreu</td>\n",
       "      <td>9000000.0</td>\n",
       "    </tr>\n",
       "    <tr>\n",
       "      <th>1</th>\n",
       "      <td>ackledu01</td>\n",
       "      <td>2011</td>\n",
       "      <td>2013</td>\n",
       "      <td>-0.009270</td>\n",
       "      <td>-0.016605</td>\n",
       "      <td>-0.001974</td>\n",
       "      <td>-0.015274</td>\n",
       "      <td>0.001597</td>\n",
       "      <td>53.806003</td>\n",
       "      <td>2B</td>\n",
       "      <td>Dustin</td>\n",
       "      <td>Ackley</td>\n",
       "      <td>2400000.0</td>\n",
       "    </tr>\n",
       "    <tr>\n",
       "      <th>2</th>\n",
       "      <td>adamsru01</td>\n",
       "      <td>2004</td>\n",
       "      <td>2009</td>\n",
       "      <td>-0.007867</td>\n",
       "      <td>-0.001289</td>\n",
       "      <td>0.004160</td>\n",
       "      <td>-0.017533</td>\n",
       "      <td>0.002672</td>\n",
       "      <td>67.496507</td>\n",
       "      <td>SS</td>\n",
       "      <td>Russ</td>\n",
       "      <td>Adams</td>\n",
       "      <td>329500.0</td>\n",
       "    </tr>\n",
       "    <tr>\n",
       "      <th>3</th>\n",
       "      <td>alfoned01</td>\n",
       "      <td>1995</td>\n",
       "      <td>2006</td>\n",
       "      <td>0.013485</td>\n",
       "      <td>-0.002177</td>\n",
       "      <td>-0.003239</td>\n",
       "      <td>-0.006436</td>\n",
       "      <td>0.010745</td>\n",
       "      <td>83.404437</td>\n",
       "      <td>2B</td>\n",
       "      <td>Edgardo</td>\n",
       "      <td>Alfonzo</td>\n",
       "      <td>4112500.0</td>\n",
       "    </tr>\n",
       "    <tr>\n",
       "      <th>4</th>\n",
       "      <td>alicelu01</td>\n",
       "      <td>1988</td>\n",
       "      <td>2002</td>\n",
       "      <td>0.035625</td>\n",
       "      <td>-0.009597</td>\n",
       "      <td>0.007988</td>\n",
       "      <td>-0.026156</td>\n",
       "      <td>-0.006580</td>\n",
       "      <td>78.561778</td>\n",
       "      <td>2B</td>\n",
       "      <td>Luis</td>\n",
       "      <td>Alicea</td>\n",
       "      <td>750000.0</td>\n",
       "    </tr>\n",
       "  </tbody>\n",
       "</table>\n",
       "</div>"
      ],
      "text/plain": [
       "    playerID  startYear  endYear      av1B      av2B      av3B      avHR  \\\n",
       "0  abreubo01       1996     2012 -0.008202  0.006421  0.001002 -0.003252   \n",
       "1  ackledu01       2011     2013 -0.009270 -0.016605 -0.001974 -0.015274   \n",
       "2  adamsru01       2004     2009 -0.007867 -0.001289  0.004160 -0.017533   \n",
       "3  alfoned01       1995     2006  0.013485 -0.002177 -0.003239 -0.006436   \n",
       "4  alicelu01       1988     2002  0.035625 -0.009597  0.007988 -0.026156   \n",
       "\n",
       "       avBB         OPW Position nameFirst nameLast  medianSal  \n",
       "0  0.050501  104.050008       RF     Bobby    Abreu  9000000.0  \n",
       "1  0.001597   53.806003       2B    Dustin   Ackley  2400000.0  \n",
       "2  0.002672   67.496507       SS      Russ    Adams   329500.0  \n",
       "3  0.010745   83.404437       2B   Edgardo  Alfonzo  4112500.0  \n",
       "4 -0.006580   78.561778       2B      Luis   Alicea   750000.0  "
      ]
     },
     "execution_count": 34,
     "metadata": {},
     "output_type": "execute_result"
    }
   ],
   "source": [
    "playerLS_merged.head()"
   ]
  },
  {
   "cell_type": "code",
   "execution_count": 185,
   "metadata": {},
   "outputs": [
    {
     "data": {
      "text/plain": [
       "971"
      ]
     },
     "execution_count": 185,
     "metadata": {},
     "output_type": "execute_result"
    }
   ],
   "source": [
    "len(playerLS_merged)"
   ]
  },
  {
   "cell_type": "markdown",
   "metadata": {},
   "source": [
    "#### Problem 1(k)\n",
    "\n",
    "Subset the `playerLS` DataFrame for players active in 2002 and 2003 and played at least three years. Plot and describe the relationship bewteen the median salary (in millions) and the predicted number of wins. "
   ]
  },
  {
   "cell_type": "code",
   "execution_count": 190,
   "metadata": {},
   "outputs": [],
   "source": [
    "playerLS2=playerLS_merged[(playerLS_merged[\"startYear\"]<=2002)\\\n",
    "                          &(playerLS_merged[\"endYear\"]>=2003)\\\n",
    "                          &(playerLS_merged[\"endYear\"]-playerLS_merged[\"startYear\"]>=3)]"
   ]
  },
  {
   "cell_type": "code",
   "execution_count": 191,
   "metadata": {},
   "outputs": [
    {
     "data": {
      "image/png": "[encoded data removed]",
      "text/plain": [
       "<Figure size 432x288 with 1 Axes>"
      ]
     },
     "metadata": {},
     "output_type": "display_data"
    }
   ],
   "source": [
    "\n",
    "plt.scatter(playerLS2[\"medianSal\"],playerLS2[\"OPW\"],alpha=0.5)\n",
    "plt.xscale(\"log\")"
   ]
  },
  {
   "cell_type": "code",
   "execution_count": 188,
   "metadata": {},
   "outputs": [
    {
     "data": {
      "text/html": [
       "<div>\n",
       "<style scoped>\n",
       "    .dataframe tbody tr th:only-of-type {\n",
       "        vertical-align: middle;\n",
       "    }\n",
       "\n",
       "    .dataframe tbody tr th {\n",
       "        vertical-align: top;\n",
       "    }\n",
       "\n",
       "    .dataframe thead th {\n",
       "        text-align: right;\n",
       "    }\n",
       "</style>\n",
       "<table border=\"1\" class=\"dataframe\">\n",
       "  <thead>\n",
       "    <tr style=\"text-align: right;\">\n",
       "      <th></th>\n",
       "      <th>playerID</th>\n",
       "      <th>startYear</th>\n",
       "      <th>endYear</th>\n",
       "      <th>av1B</th>\n",
       "      <th>av2B</th>\n",
       "      <th>av3B</th>\n",
       "      <th>avHR</th>\n",
       "      <th>avBB</th>\n",
       "      <th>OPW</th>\n",
       "      <th>Position</th>\n",
       "      <th>nameFirst</th>\n",
       "      <th>nameLast</th>\n",
       "      <th>medianSal</th>\n",
       "    </tr>\n",
       "  </thead>\n",
       "  <tbody>\n",
       "    <tr>\n",
       "      <th>0</th>\n",
       "      <td>abreubo01</td>\n",
       "      <td>1996</td>\n",
       "      <td>2012</td>\n",
       "      <td>-0.008202</td>\n",
       "      <td>0.006421</td>\n",
       "      <td>0.001002</td>\n",
       "      <td>-0.003252</td>\n",
       "      <td>0.050501</td>\n",
       "      <td>104.050008</td>\n",
       "      <td>RF</td>\n",
       "      <td>Bobby</td>\n",
       "      <td>Abreu</td>\n",
       "      <td>9000000.0</td>\n",
       "    </tr>\n",
       "    <tr>\n",
       "      <th>3</th>\n",
       "      <td>alfoned01</td>\n",
       "      <td>1995</td>\n",
       "      <td>2006</td>\n",
       "      <td>0.013485</td>\n",
       "      <td>-0.002177</td>\n",
       "      <td>-0.003239</td>\n",
       "      <td>-0.006436</td>\n",
       "      <td>0.010745</td>\n",
       "      <td>83.404437</td>\n",
       "      <td>2B</td>\n",
       "      <td>Edgardo</td>\n",
       "      <td>Alfonzo</td>\n",
       "      <td>4112500.0</td>\n",
       "    </tr>\n",
       "    <tr>\n",
       "      <th>5</th>\n",
       "      <td>allench01</td>\n",
       "      <td>1999</td>\n",
       "      <td>2005</td>\n",
       "      <td>0.023014</td>\n",
       "      <td>-0.009664</td>\n",
       "      <td>0.000201</td>\n",
       "      <td>-0.016584</td>\n",
       "      <td>-0.031390</td>\n",
       "      <td>58.526131</td>\n",
       "      <td>RF</td>\n",
       "      <td>Chad</td>\n",
       "      <td>Allen</td>\n",
       "      <td>240000.0</td>\n",
       "    </tr>\n",
       "    <tr>\n",
       "      <th>7</th>\n",
       "      <td>alomaro01</td>\n",
       "      <td>1988</td>\n",
       "      <td>2004</td>\n",
       "      <td>0.022145</td>\n",
       "      <td>0.001698</td>\n",
       "      <td>0.002653</td>\n",
       "      <td>-0.009386</td>\n",
       "      <td>0.004503</td>\n",
       "      <td>90.800847</td>\n",
       "      <td>2B</td>\n",
       "      <td>Roberto</td>\n",
       "      <td>Alomar</td>\n",
       "      <td>5466667.0</td>\n",
       "    </tr>\n",
       "    <tr>\n",
       "      <th>9</th>\n",
       "      <td>aloumo01</td>\n",
       "      <td>1990</td>\n",
       "      <td>2008</td>\n",
       "      <td>0.004058</td>\n",
       "      <td>0.001022</td>\n",
       "      <td>-0.000406</td>\n",
       "      <td>0.009994</td>\n",
       "      <td>0.000737</td>\n",
       "      <td>92.104556</td>\n",
       "      <td>OF</td>\n",
       "      <td>Moises</td>\n",
       "      <td>Alou</td>\n",
       "      <td>5135000.0</td>\n",
       "    </tr>\n",
       "    <tr>\n",
       "      <th>13</th>\n",
       "      <td>anderga01</td>\n",
       "      <td>1994</td>\n",
       "      <td>2010</td>\n",
       "      <td>0.019420</td>\n",
       "      <td>0.007049</td>\n",
       "      <td>-0.001203</td>\n",
       "      <td>-0.003036</td>\n",
       "      <td>-0.051426</td>\n",
       "      <td>64.354063</td>\n",
       "      <td>OF</td>\n",
       "      <td>Garret</td>\n",
       "      <td>Anderson</td>\n",
       "      <td>3250000.0</td>\n",
       "    </tr>\n",
       "    <tr>\n",
       "      <th>14</th>\n",
       "      <td>anderma02</td>\n",
       "      <td>1998</td>\n",
       "      <td>2009</td>\n",
       "      <td>0.017909</td>\n",
       "      <td>0.000811</td>\n",
       "      <td>0.001260</td>\n",
       "      <td>-0.019844</td>\n",
       "      <td>-0.026193</td>\n",
       "      <td>61.965795</td>\n",
       "      <td>2B</td>\n",
       "      <td>Marlon</td>\n",
       "      <td>Anderson</td>\n",
       "      <td>600000.0</td>\n",
       "    </tr>\n",
       "    <tr>\n",
       "      <th>21</th>\n",
       "      <td>aurilri01</td>\n",
       "      <td>1995</td>\n",
       "      <td>2009</td>\n",
       "      <td>0.009727</td>\n",
       "      <td>-0.002445</td>\n",
       "      <td>-0.001794</td>\n",
       "      <td>-0.000033</td>\n",
       "      <td>-0.026565</td>\n",
       "      <td>69.325973</td>\n",
       "      <td>SS</td>\n",
       "      <td>Rich</td>\n",
       "      <td>Aurilia</td>\n",
       "      <td>1300000.0</td>\n",
       "    </tr>\n",
       "    <tr>\n",
       "      <th>22</th>\n",
       "      <td>ausmubr01</td>\n",
       "      <td>1993</td>\n",
       "      <td>2010</td>\n",
       "      <td>0.005910</td>\n",
       "      <td>-0.005096</td>\n",
       "      <td>0.002949</td>\n",
       "      <td>-0.021278</td>\n",
       "      <td>0.004427</td>\n",
       "      <td>69.212474</td>\n",
       "      <td>C</td>\n",
       "      <td>Brad</td>\n",
       "      <td>Ausmus</td>\n",
       "      <td>1600000.0</td>\n",
       "    </tr>\n",
       "    <tr>\n",
       "      <th>27</th>\n",
       "      <td>baergca01</td>\n",
       "      <td>1990</td>\n",
       "      <td>2005</td>\n",
       "      <td>0.038873</td>\n",
       "      <td>-0.001666</td>\n",
       "      <td>-0.001974</td>\n",
       "      <td>-0.005930</td>\n",
       "      <td>-0.041313</td>\n",
       "      <td>72.186558</td>\n",
       "      <td>2B</td>\n",
       "      <td>Carlos</td>\n",
       "      <td>Baerga</td>\n",
       "      <td>1000000.0</td>\n",
       "    </tr>\n",
       "    <tr>\n",
       "      <th>28</th>\n",
       "      <td>bagweje01</td>\n",
       "      <td>1991</td>\n",
       "      <td>2005</td>\n",
       "      <td>-0.021252</td>\n",
       "      <td>0.002808</td>\n",
       "      <td>-0.002020</td>\n",
       "      <td>0.014039</td>\n",
       "      <td>0.053210</td>\n",
       "      <td>108.156275</td>\n",
       "      <td>1B</td>\n",
       "      <td>Jeff</td>\n",
       "      <td>Bagwell</td>\n",
       "      <td>6875000.0</td>\n",
       "    </tr>\n",
       "    <tr>\n",
       "      <th>43</th>\n",
       "      <td>batisto01</td>\n",
       "      <td>1996</td>\n",
       "      <td>2007</td>\n",
       "      <td>-0.028387</td>\n",
       "      <td>-0.006336</td>\n",
       "      <td>-0.002935</td>\n",
       "      <td>0.015153</td>\n",
       "      <td>-0.046101</td>\n",
       "      <td>49.148831</td>\n",
       "      <td>3B</td>\n",
       "      <td>Tony</td>\n",
       "      <td>Batista</td>\n",
       "      <td>1250000.0</td>\n",
       "    </tr>\n",
       "    <tr>\n",
       "      <th>44</th>\n",
       "      <td>bautida01</td>\n",
       "      <td>1993</td>\n",
       "      <td>2004</td>\n",
       "      <td>0.034345</td>\n",
       "      <td>-0.004310</td>\n",
       "      <td>-0.003369</td>\n",
       "      <td>-0.015130</td>\n",
       "      <td>-0.036067</td>\n",
       "      <td>61.807252</td>\n",
       "      <td>RF</td>\n",
       "      <td>Danny</td>\n",
       "      <td>Bautista</td>\n",
       "      <td>345000.0</td>\n",
       "    </tr>\n",
       "    <tr>\n",
       "      <th>51</th>\n",
       "      <td>bellda01</td>\n",
       "      <td>1995</td>\n",
       "      <td>2006</td>\n",
       "      <td>-0.002322</td>\n",
       "      <td>-0.000510</td>\n",
       "      <td>-0.002769</td>\n",
       "      <td>-0.006313</td>\n",
       "      <td>-0.009754</td>\n",
       "      <td>66.084715</td>\n",
       "      <td>3B</td>\n",
       "      <td>David</td>\n",
       "      <td>Bell</td>\n",
       "      <td>1587500.0</td>\n",
       "    </tr>\n",
       "    <tr>\n",
       "      <th>55</th>\n",
       "      <td>bellhma01</td>\n",
       "      <td>1997</td>\n",
       "      <td>2007</td>\n",
       "      <td>-0.039044</td>\n",
       "      <td>0.002241</td>\n",
       "      <td>0.001326</td>\n",
       "      <td>0.005377</td>\n",
       "      <td>0.046554</td>\n",
       "      <td>91.598047</td>\n",
       "      <td>3B</td>\n",
       "      <td>Mark</td>\n",
       "      <td>Bellhorn</td>\n",
       "      <td>477500.0</td>\n",
       "    </tr>\n",
       "    <tr>\n",
       "      <th>56</th>\n",
       "      <td>belliro01</td>\n",
       "      <td>1998</td>\n",
       "      <td>2010</td>\n",
       "      <td>0.005959</td>\n",
       "      <td>0.008679</td>\n",
       "      <td>-0.000001</td>\n",
       "      <td>-0.015021</td>\n",
       "      <td>-0.005611</td>\n",
       "      <td>72.682057</td>\n",
       "      <td>2B</td>\n",
       "      <td>Ronnie</td>\n",
       "      <td>Belliard</td>\n",
       "      <td>962500.0</td>\n",
       "    </tr>\n",
       "    <tr>\n",
       "      <th>57</th>\n",
       "      <td>bellja01</td>\n",
       "      <td>1986</td>\n",
       "      <td>2003</td>\n",
       "      <td>-0.008642</td>\n",
       "      <td>-0.001100</td>\n",
       "      <td>0.003132</td>\n",
       "      <td>-0.005571</td>\n",
       "      <td>0.003961</td>\n",
       "      <td>76.859118</td>\n",
       "      <td>SS</td>\n",
       "      <td>Jay</td>\n",
       "      <td>Bell</td>\n",
       "      <td>3900000.0</td>\n",
       "    </tr>\n",
       "    <tr>\n",
       "      <th>58</th>\n",
       "      <td>beltrad01</td>\n",
       "      <td>1998</td>\n",
       "      <td>2013</td>\n",
       "      <td>0.001037</td>\n",
       "      <td>0.002395</td>\n",
       "      <td>-0.001696</td>\n",
       "      <td>0.008626</td>\n",
       "      <td>-0.025419</td>\n",
       "      <td>75.170515</td>\n",
       "      <td>3B</td>\n",
       "      <td>Adrian</td>\n",
       "      <td>Beltre</td>\n",
       "      <td>10200000.0</td>\n",
       "    </tr>\n",
       "    <tr>\n",
       "      <th>59</th>\n",
       "      <td>beltrca01</td>\n",
       "      <td>1998</td>\n",
       "      <td>2013</td>\n",
       "      <td>-0.008754</td>\n",
       "      <td>-0.002305</td>\n",
       "      <td>0.002545</td>\n",
       "      <td>0.009564</td>\n",
       "      <td>0.007768</td>\n",
       "      <td>90.390672</td>\n",
       "      <td>CF</td>\n",
       "      <td>Carlos</td>\n",
       "      <td>Beltran</td>\n",
       "      <td>13000000.0</td>\n",
       "    </tr>\n",
       "    <tr>\n",
       "      <th>60</th>\n",
       "      <td>benarma01</td>\n",
       "      <td>1995</td>\n",
       "      <td>2003</td>\n",
       "      <td>0.002147</td>\n",
       "      <td>-0.006063</td>\n",
       "      <td>0.002887</td>\n",
       "      <td>-0.017484</td>\n",
       "      <td>-0.003445</td>\n",
       "      <td>65.913299</td>\n",
       "      <td>OF</td>\n",
       "      <td>Marvin</td>\n",
       "      <td>Benard</td>\n",
       "      <td>850000.0</td>\n",
       "    </tr>\n",
       "  </tbody>\n",
       "</table>\n",
       "</div>"
      ],
      "text/plain": [
       "     playerID  startYear  endYear      av1B      av2B      av3B      avHR  \\\n",
       "0   abreubo01       1996     2012 -0.008202  0.006421  0.001002 -0.003252   \n",
       "3   alfoned01       1995     2006  0.013485 -0.002177 -0.003239 -0.006436   \n",
       "5   allench01       1999     2005  0.023014 -0.009664  0.000201 -0.016584   \n",
       "7   alomaro01       1988     2004  0.022145  0.001698  0.002653 -0.009386   \n",
       "9    aloumo01       1990     2008  0.004058  0.001022 -0.000406  0.009994   \n",
       "13  anderga01       1994     2010  0.019420  0.007049 -0.001203 -0.003036   \n",
       "14  anderma02       1998     2009  0.017909  0.000811  0.001260 -0.019844   \n",
       "21  aurilri01       1995     2009  0.009727 -0.002445 -0.001794 -0.000033   \n",
       "22  ausmubr01       1993     2010  0.005910 -0.005096  0.002949 -0.021278   \n",
       "27  baergca01       1990     2005  0.038873 -0.001666 -0.001974 -0.005930   \n",
       "28  bagweje01       1991     2005 -0.021252  0.002808 -0.002020  0.014039   \n",
       "43  batisto01       1996     2007 -0.028387 -0.006336 -0.002935  0.015153   \n",
       "44  bautida01       1993     2004  0.034345 -0.004310 -0.003369 -0.015130   \n",
       "51   bellda01       1995     2006 -0.002322 -0.000510 -0.002769 -0.006313   \n",
       "55  bellhma01       1997     2007 -0.039044  0.002241  0.001326  0.005377   \n",
       "56  belliro01       1998     2010  0.005959  0.008679 -0.000001 -0.015021   \n",
       "57   bellja01       1986     2003 -0.008642 -0.001100  0.003132 -0.005571   \n",
       "58  beltrad01       1998     2013  0.001037  0.002395 -0.001696  0.008626   \n",
       "59  beltrca01       1998     2013 -0.008754 -0.002305  0.002545  0.009564   \n",
       "60  benarma01       1995     2003  0.002147 -0.006063  0.002887 -0.017484   \n",
       "\n",
       "        avBB         OPW Position nameFirst  nameLast   medianSal  \n",
       "0   0.050501  104.050008       RF     Bobby     Abreu   9000000.0  \n",
       "3   0.010745   83.404437       2B   Edgardo   Alfonzo   4112500.0  \n",
       "5  -0.031390   58.526131       RF      Chad     Allen    240000.0  \n",
       "7   0.004503   90.800847       2B   Roberto    Alomar   5466667.0  \n",
       "9   0.000737   92.104556       OF    Moises      Alou   5135000.0  \n",
       "13 -0.051426   64.354063       OF    Garret  Anderson   3250000.0  \n",
       "14 -0.026193   61.965795       2B    Marlon  Anderson    600000.0  \n",
       "21 -0.026565   69.325973       SS      Rich   Aurilia   1300000.0  \n",
       "22  0.004427   69.212474        C      Brad    Ausmus   1600000.0  \n",
       "27 -0.041313   72.186558       2B    Carlos    Baerga   1000000.0  \n",
       "28  0.053210  108.156275       1B      Jeff   Bagwell   6875000.0  \n",
       "43 -0.046101   49.148831       3B      Tony   Batista   1250000.0  \n",
       "44 -0.036067   61.807252       RF     Danny  Bautista    345000.0  \n",
       "51 -0.009754   66.084715       3B     David      Bell   1587500.0  \n",
       "55  0.046554   91.598047       3B      Mark  Bellhorn    477500.0  \n",
       "56 -0.005611   72.682057       2B    Ronnie  Belliard    962500.0  \n",
       "57  0.003961   76.859118       SS       Jay      Bell   3900000.0  \n",
       "58 -0.025419   75.170515       3B    Adrian    Beltre  10200000.0  \n",
       "59  0.007768   90.390672       CF    Carlos   Beltran  13000000.0  \n",
       "60 -0.003445   65.913299       OF    Marvin    Benard    850000.0  "
      ]
     },
     "execution_count": 188,
     "metadata": {},
     "output_type": "execute_result"
    }
   ],
   "source": [
    "playerLS2.head(20)"
   ]
  },
  {
   "cell_type": "code",
   "execution_count": 187,
   "metadata": {},
   "outputs": [
    {
     "data": {
      "text/plain": [
       "971"
      ]
     },
     "execution_count": 187,
     "metadata": {},
     "output_type": "execute_result"
    }
   ],
   "source": [
    "len(playerLS_merged)"
   ]
  },
  {
   "cell_type": "markdown",
   "metadata": {},
   "source": [
    "#### Problem 1(l)\n",
    "Pick one players from one of each of these 10 position C, 1B, 2B, 3B, SS, LF, CF, RF, DH, or OF keeping the total median salary of all 10 players below 20 million. Report their averaged predicted wins and total salary."
   ]
  },
  {
   "cell_type": "code",
   "execution_count": 152,
   "metadata": {},
   "outputs": [],
   "source": [
    "playerLS3=playerLS2.copy()"
   ]
  },
  {
   "cell_type": "code",
   "execution_count": 195,
   "metadata": {},
   "outputs": [],
   "source": [
    "def meannormalize(df):\n",
    "    tmp=df[[\"OPW\"]]\n",
    "    df[[\"OPW2\"]]=tmp-tmp.median(axis=0)\n",
    "    return df"
   ]
  },
  {
   "cell_type": "code",
   "execution_count": 197,
   "metadata": {},
   "outputs": [],
   "source": [
    "playerLS3[\"OPW2\"]=playerLS3[\"OPW\"]\n",
    "playerLS3=playerLS3.groupby(\"Position\").apply(meannormalize)"
   ]
  },
  {
   "cell_type": "code",
   "execution_count": 198,
   "metadata": {},
   "outputs": [
    {
     "data": {
      "text/plain": [
       "LinearRegression(copy_X=True, fit_intercept=True, n_jobs=1, normalize=False)"
      ]
     },
     "execution_count": 198,
     "metadata": {},
     "output_type": "execute_result"
    }
   ],
   "source": [
    "x=np.log(playerLS3[\"medianSal\"]).values.reshape(-1,1)\n",
    "y=playerLS3[\"OPW2\"]\n",
    "\n",
    "reg_new=sklearn.linear_model.LinearRegression()\n",
    "reg_new.fit(x,y)"
   ]
  },
  {
   "cell_type": "code",
   "execution_count": 202,
   "metadata": {},
   "outputs": [
    {
     "name": "stderr",
     "output_type": "stream",
     "text": [
      "c:\\python27\\lib\\site-packages\\ipykernel_launcher.py:1: SettingWithCopyWarning: \n",
      "A value is trying to be set on a copy of a slice from a DataFrame.\n",
      "Try using .loc[row_indexer,col_indexer] = value instead\n",
      "\n",
      "See the caveats in the documentation: http://pandas.pydata.org/pandas-docs/stable/indexing.html#indexing-view-versus-copy\n",
      "  \"\"\"Entry point for launching an IPython kernel.\n"
     ]
    },
    {
     "data": {
      "text/html": [
       "<div>\n",
       "<style scoped>\n",
       "    .dataframe tbody tr th:only-of-type {\n",
       "        vertical-align: middle;\n",
       "    }\n",
       "\n",
       "    .dataframe tbody tr th {\n",
       "        vertical-align: top;\n",
       "    }\n",
       "\n",
       "    .dataframe thead th {\n",
       "        text-align: right;\n",
       "    }\n",
       "</style>\n",
       "<table border=\"1\" class=\"dataframe\">\n",
       "  <thead>\n",
       "    <tr style=\"text-align: right;\">\n",
       "      <th></th>\n",
       "      <th>playerID</th>\n",
       "      <th>startYear</th>\n",
       "      <th>endYear</th>\n",
       "      <th>av1B</th>\n",
       "      <th>av2B</th>\n",
       "      <th>av3B</th>\n",
       "      <th>avHR</th>\n",
       "      <th>avBB</th>\n",
       "      <th>OPW</th>\n",
       "      <th>Position</th>\n",
       "      <th>nameFirst</th>\n",
       "      <th>nameLast</th>\n",
       "      <th>medianSal</th>\n",
       "      <th>OPW2</th>\n",
       "      <th>Residual</th>\n",
       "    </tr>\n",
       "  </thead>\n",
       "  <tbody>\n",
       "    <tr>\n",
       "      <th>0</th>\n",
       "      <td>abreubo01</td>\n",
       "      <td>1996</td>\n",
       "      <td>2012</td>\n",
       "      <td>-0.008202</td>\n",
       "      <td>0.006421</td>\n",
       "      <td>0.001002</td>\n",
       "      <td>-0.003252</td>\n",
       "      <td>0.050501</td>\n",
       "      <td>104.050008</td>\n",
       "      <td>RF</td>\n",
       "      <td>Bobby</td>\n",
       "      <td>Abreu</td>\n",
       "      <td>9000000.0</td>\n",
       "      <td>23.285464</td>\n",
       "      <td>10.471566</td>\n",
       "    </tr>\n",
       "    <tr>\n",
       "      <th>3</th>\n",
       "      <td>alfoned01</td>\n",
       "      <td>1995</td>\n",
       "      <td>2006</td>\n",
       "      <td>0.013485</td>\n",
       "      <td>-0.002177</td>\n",
       "      <td>-0.003239</td>\n",
       "      <td>-0.006436</td>\n",
       "      <td>0.010745</td>\n",
       "      <td>83.404437</td>\n",
       "      <td>2B</td>\n",
       "      <td>Edgardo</td>\n",
       "      <td>Alfonzo</td>\n",
       "      <td>4112500.0</td>\n",
       "      <td>10.970129</td>\n",
       "      <td>4.799486</td>\n",
       "    </tr>\n",
       "    <tr>\n",
       "      <th>7</th>\n",
       "      <td>alomaro01</td>\n",
       "      <td>1988</td>\n",
       "      <td>2004</td>\n",
       "      <td>0.022145</td>\n",
       "      <td>0.001698</td>\n",
       "      <td>0.002653</td>\n",
       "      <td>-0.009386</td>\n",
       "      <td>0.004503</td>\n",
       "      <td>90.800847</td>\n",
       "      <td>2B</td>\n",
       "      <td>Roberto</td>\n",
       "      <td>Alomar</td>\n",
       "      <td>5466667.0</td>\n",
       "      <td>18.366540</td>\n",
       "      <td>9.781521</td>\n",
       "    </tr>\n",
       "    <tr>\n",
       "      <th>9</th>\n",
       "      <td>aloumo01</td>\n",
       "      <td>1990</td>\n",
       "      <td>2008</td>\n",
       "      <td>0.004058</td>\n",
       "      <td>0.001022</td>\n",
       "      <td>-0.000406</td>\n",
       "      <td>0.009994</td>\n",
       "      <td>0.000737</td>\n",
       "      <td>92.104556</td>\n",
       "      <td>OF</td>\n",
       "      <td>Moises</td>\n",
       "      <td>Alou</td>\n",
       "      <td>5135000.0</td>\n",
       "      <td>15.844989</td>\n",
       "      <td>7.790870</td>\n",
       "    </tr>\n",
       "    <tr>\n",
       "      <th>21</th>\n",
       "      <td>aurilri01</td>\n",
       "      <td>1995</td>\n",
       "      <td>2009</td>\n",
       "      <td>0.009727</td>\n",
       "      <td>-0.002445</td>\n",
       "      <td>-0.001794</td>\n",
       "      <td>-0.000033</td>\n",
       "      <td>-0.026565</td>\n",
       "      <td>69.325973</td>\n",
       "      <td>SS</td>\n",
       "      <td>Rich</td>\n",
       "      <td>Aurilia</td>\n",
       "      <td>1300000.0</td>\n",
       "      <td>6.164787</td>\n",
       "      <td>9.762889</td>\n",
       "    </tr>\n",
       "  </tbody>\n",
       "</table>\n",
       "</div>"
      ],
      "text/plain": [
       "     playerID  startYear  endYear      av1B      av2B      av3B      avHR  \\\n",
       "0   abreubo01       1996     2012 -0.008202  0.006421  0.001002 -0.003252   \n",
       "3   alfoned01       1995     2006  0.013485 -0.002177 -0.003239 -0.006436   \n",
       "7   alomaro01       1988     2004  0.022145  0.001698  0.002653 -0.009386   \n",
       "9    aloumo01       1990     2008  0.004058  0.001022 -0.000406  0.009994   \n",
       "21  aurilri01       1995     2009  0.009727 -0.002445 -0.001794 -0.000033   \n",
       "\n",
       "        avBB         OPW Position nameFirst nameLast  medianSal       OPW2  \\\n",
       "0   0.050501  104.050008       RF     Bobby    Abreu  9000000.0  23.285464   \n",
       "3   0.010745   83.404437       2B   Edgardo  Alfonzo  4112500.0  10.970129   \n",
       "7   0.004503   90.800847       2B   Roberto   Alomar  5466667.0  18.366540   \n",
       "9   0.000737   92.104556       OF    Moises     Alou  5135000.0  15.844989   \n",
       "21 -0.026565   69.325973       SS      Rich  Aurilia  1300000.0   6.164787   \n",
       "\n",
       "     Residual  \n",
       "0   10.471566  \n",
       "3    4.799486  \n",
       "7    9.781521  \n",
       "9    7.790870  \n",
       "21   9.762889  "
      ]
     },
     "execution_count": 202,
     "metadata": {},
     "output_type": "execute_result"
    }
   ],
   "source": [
    "playerLS3[\"Residual\"]=y-reg_new.predict(x)\n",
    "playerLS3=playerLS3[playerLS3[\"Residual\"]>=0]\n",
    "len(playerLS3)\n",
    "playerLS3.head()"
   ]
  },
  {
   "cell_type": "code",
   "execution_count": 159,
   "metadata": {},
   "outputs": [
    {
     "data": {
      "image/png": "[encoded data removed]",
      "text/plain": [
       "<Figure size 432x288 with 1 Axes>"
      ]
     },
     "metadata": {},
     "output_type": "display_data"
    }
   ],
   "source": [
    "plt.scatter((playerLS3[\"medianSal\"]),playerLS3[\"OPW2\"],alpha=0.5)\n",
    "plt.plot((playerLS3[\"medianSal\"]),reg_new.intercept_+ np.log(playerLS3[\"medianSal\"])*reg_new.coef_)\n",
    "plt.xscale(\"log\")"
   ]
  },
  {
   "cell_type": "code",
   "execution_count": 161,
   "metadata": {},
   "outputs": [],
   "source": [
    "temp=playerLS3.groupby(\"Position\")[\"medianSal\"].min()\n",
    "minSalaryByPos=temp.sort_values(ascending=False)"
   ]
  },
  {
   "cell_type": "code",
   "execution_count": 162,
   "metadata": {},
   "outputs": [],
   "source": [
    "def min_cost(pos):\n",
    "    players=playerLS3[(playerLS3[\"Position\"]==pos)]\n",
    "    cost=players[\"medianSal\"].min()\n",
    "    return cost    \n",
    "    "
   ]
  },
  {
   "cell_type": "code",
   "execution_count": 163,
   "metadata": {},
   "outputs": [
    {
     "data": {
      "text/html": [
       "<div>\n",
       "<style scoped>\n",
       "    .dataframe tbody tr th:only-of-type {\n",
       "        vertical-align: middle;\n",
       "    }\n",
       "\n",
       "    .dataframe tbody tr th {\n",
       "        vertical-align: top;\n",
       "    }\n",
       "\n",
       "    .dataframe thead th {\n",
       "        text-align: right;\n",
       "    }\n",
       "</style>\n",
       "<table border=\"1\" class=\"dataframe\">\n",
       "  <thead>\n",
       "    <tr style=\"text-align: right;\">\n",
       "      <th></th>\n",
       "      <th>playerID</th>\n",
       "      <th>startYear</th>\n",
       "      <th>endYear</th>\n",
       "      <th>av1B</th>\n",
       "      <th>av2B</th>\n",
       "      <th>av3B</th>\n",
       "      <th>avHR</th>\n",
       "      <th>avBB</th>\n",
       "      <th>OPW</th>\n",
       "      <th>Position</th>\n",
       "      <th>nameFirst</th>\n",
       "      <th>nameLast</th>\n",
       "      <th>medianSal</th>\n",
       "      <th>OPW2</th>\n",
       "      <th>Residual</th>\n",
       "    </tr>\n",
       "  </thead>\n",
       "  <tbody>\n",
       "    <tr>\n",
       "      <th>0</th>\n",
       "      <td>abreubo01</td>\n",
       "      <td>1996</td>\n",
       "      <td>2012</td>\n",
       "      <td>-0.008202</td>\n",
       "      <td>0.006421</td>\n",
       "      <td>0.001002</td>\n",
       "      <td>-0.003252</td>\n",
       "      <td>0.050501</td>\n",
       "      <td>104.050008</td>\n",
       "      <td>RF</td>\n",
       "      <td>Bobby</td>\n",
       "      <td>Abreu</td>\n",
       "      <td>9000000.0</td>\n",
       "      <td>23.285464</td>\n",
       "      <td>10.471566</td>\n",
       "    </tr>\n",
       "    <tr>\n",
       "      <th>3</th>\n",
       "      <td>alfoned01</td>\n",
       "      <td>1995</td>\n",
       "      <td>2006</td>\n",
       "      <td>0.013485</td>\n",
       "      <td>-0.002177</td>\n",
       "      <td>-0.003239</td>\n",
       "      <td>-0.006436</td>\n",
       "      <td>0.010745</td>\n",
       "      <td>83.404437</td>\n",
       "      <td>2B</td>\n",
       "      <td>Edgardo</td>\n",
       "      <td>Alfonzo</td>\n",
       "      <td>4112500.0</td>\n",
       "      <td>10.970129</td>\n",
       "      <td>4.799486</td>\n",
       "    </tr>\n",
       "    <tr>\n",
       "      <th>5</th>\n",
       "      <td>allench01</td>\n",
       "      <td>1999</td>\n",
       "      <td>2005</td>\n",
       "      <td>0.023014</td>\n",
       "      <td>-0.009664</td>\n",
       "      <td>0.000201</td>\n",
       "      <td>-0.016584</td>\n",
       "      <td>-0.031390</td>\n",
       "      <td>58.526131</td>\n",
       "      <td>RF</td>\n",
       "      <td>Chad</td>\n",
       "      <td>Allen</td>\n",
       "      <td>240000.0</td>\n",
       "      <td>-22.238413</td>\n",
       "      <td>-4.309686</td>\n",
       "    </tr>\n",
       "    <tr>\n",
       "      <th>7</th>\n",
       "      <td>alomaro01</td>\n",
       "      <td>1988</td>\n",
       "      <td>2004</td>\n",
       "      <td>0.022145</td>\n",
       "      <td>0.001698</td>\n",
       "      <td>0.002653</td>\n",
       "      <td>-0.009386</td>\n",
       "      <td>0.004503</td>\n",
       "      <td>90.800847</td>\n",
       "      <td>2B</td>\n",
       "      <td>Roberto</td>\n",
       "      <td>Alomar</td>\n",
       "      <td>5466667.0</td>\n",
       "      <td>18.366540</td>\n",
       "      <td>9.781521</td>\n",
       "    </tr>\n",
       "    <tr>\n",
       "      <th>9</th>\n",
       "      <td>aloumo01</td>\n",
       "      <td>1990</td>\n",
       "      <td>2008</td>\n",
       "      <td>0.004058</td>\n",
       "      <td>0.001022</td>\n",
       "      <td>-0.000406</td>\n",
       "      <td>0.009994</td>\n",
       "      <td>0.000737</td>\n",
       "      <td>92.104556</td>\n",
       "      <td>OF</td>\n",
       "      <td>Moises</td>\n",
       "      <td>Alou</td>\n",
       "      <td>5135000.0</td>\n",
       "      <td>15.844989</td>\n",
       "      <td>7.790870</td>\n",
       "    </tr>\n",
       "  </tbody>\n",
       "</table>\n",
       "</div>"
      ],
      "text/plain": [
       "    playerID  startYear  endYear      av1B      av2B      av3B      avHR  \\\n",
       "0  abreubo01       1996     2012 -0.008202  0.006421  0.001002 -0.003252   \n",
       "3  alfoned01       1995     2006  0.013485 -0.002177 -0.003239 -0.006436   \n",
       "5  allench01       1999     2005  0.023014 -0.009664  0.000201 -0.016584   \n",
       "7  alomaro01       1988     2004  0.022145  0.001698  0.002653 -0.009386   \n",
       "9   aloumo01       1990     2008  0.004058  0.001022 -0.000406  0.009994   \n",
       "\n",
       "       avBB         OPW Position nameFirst nameLast  medianSal       OPW2  \\\n",
       "0  0.050501  104.050008       RF     Bobby    Abreu  9000000.0  23.285464   \n",
       "3  0.010745   83.404437       2B   Edgardo  Alfonzo  4112500.0  10.970129   \n",
       "5 -0.031390   58.526131       RF      Chad    Allen   240000.0 -22.238413   \n",
       "7  0.004503   90.800847       2B   Roberto   Alomar  5466667.0  18.366540   \n",
       "9  0.000737   92.104556       OF    Moises     Alou  5135000.0  15.844989   \n",
       "\n",
       "    Residual  \n",
       "0  10.471566  \n",
       "3   4.799486  \n",
       "5  -4.309686  \n",
       "7   9.781521  \n",
       "9   7.790870  "
      ]
     },
     "execution_count": 163,
     "metadata": {},
     "output_type": "execute_result"
    }
   ],
   "source": [
    "playerLS3.head()"
   ]
  },
  {
   "cell_type": "code",
   "execution_count": 90,
   "metadata": {},
   "outputs": [
    {
     "name": "stdout",
     "output_type": "stream",
     "text": [
      "['CF']\n",
      "1402583.0\n",
      "1402583.0\n"
     ]
    }
   ],
   "source": [
    "print positions_left\n",
    "print budget\n",
    "print max_budget"
   ]
  },
  {
   "cell_type": "code",
   "execution_count": 172,
   "metadata": {},
   "outputs": [],
   "source": [
    "\n",
    "budget=20000000\n",
    "positions=[\"C\",\"1B\",\"2B\",\"3B\",\"LF\",\"OF\",\"CF\",\"RF\",\"DH\",\"SS\"]\n",
    "positions_left=list(minSalaryByPos.index)\n",
    "my_team=[]\n",
    "for j in range(len(positions)):\n",
    "    \n",
    "    \n",
    "    max_budget=budget-sum([minSalaryByPos[p] for p in positions_left[:-1]])\n",
    "        \n",
    "    index=[True if elem in positions_left else False for elem in playerLS3[\"Position\"].values]\n",
    "    \n",
    "    players_available=playerLS3[(index)&(playerLS3[\"medianSal\"]<=max_budget)]\n",
    "    \n",
    "    chosen_player_index=np.argmax(players_available[\"Residual\"])\n",
    "    my_team.append(chosen_player_index)\n",
    "    budget=budget-playerLS3[\"medianSal\"].loc[chosen_player_index]\n",
    "    positions_left.remove(playerLS3.loc[chosen_player_index,\"Position\"])\n"
   ]
  },
  {
   "cell_type": "code",
   "execution_count": 173,
   "metadata": {},
   "outputs": [
    {
     "data": {
      "text/html": [
       "<div>\n",
       "<style scoped>\n",
       "    .dataframe tbody tr th:only-of-type {\n",
       "        vertical-align: middle;\n",
       "    }\n",
       "\n",
       "    .dataframe tbody tr th {\n",
       "        vertical-align: top;\n",
       "    }\n",
       "\n",
       "    .dataframe thead th {\n",
       "        text-align: right;\n",
       "    }\n",
       "</style>\n",
       "<table border=\"1\" class=\"dataframe\">\n",
       "  <thead>\n",
       "    <tr style=\"text-align: right;\">\n",
       "      <th></th>\n",
       "      <th>playerID</th>\n",
       "      <th>startYear</th>\n",
       "      <th>endYear</th>\n",
       "      <th>av1B</th>\n",
       "      <th>av2B</th>\n",
       "      <th>av3B</th>\n",
       "      <th>avHR</th>\n",
       "      <th>avBB</th>\n",
       "      <th>OPW</th>\n",
       "      <th>Position</th>\n",
       "      <th>nameFirst</th>\n",
       "      <th>nameLast</th>\n",
       "      <th>medianSal</th>\n",
       "      <th>OPW2</th>\n",
       "      <th>Residual</th>\n",
       "    </tr>\n",
       "  </thead>\n",
       "  <tbody>\n",
       "    <tr>\n",
       "      <th>80</th>\n",
       "      <td>bondsba01</td>\n",
       "      <td>1986</td>\n",
       "      <td>2007</td>\n",
       "      <td>-0.045184</td>\n",
       "      <td>0.001342</td>\n",
       "      <td>0.001377</td>\n",
       "      <td>0.030717</td>\n",
       "      <td>0.112071</td>\n",
       "      <td>143.101202</td>\n",
       "      <td>OF</td>\n",
       "      <td>Barry</td>\n",
       "      <td>Bonds</td>\n",
       "      <td>8541667.0</td>\n",
       "      <td>66.841635</td>\n",
       "      <td>54.471091</td>\n",
       "    </tr>\n",
       "    <tr>\n",
       "      <th>265</th>\n",
       "      <td>ensbemo01</td>\n",
       "      <td>2000</td>\n",
       "      <td>2008</td>\n",
       "      <td>-0.033243</td>\n",
       "      <td>-0.003037</td>\n",
       "      <td>-0.000346</td>\n",
       "      <td>0.026321</td>\n",
       "      <td>0.047626</td>\n",
       "      <td>108.584662</td>\n",
       "      <td>3B</td>\n",
       "      <td>Morgan</td>\n",
       "      <td>Ensberg</td>\n",
       "      <td>450000.0</td>\n",
       "      <td>34.600771</td>\n",
       "      <td>47.197472</td>\n",
       "    </tr>\n",
       "    <tr>\n",
       "      <th>803</th>\n",
       "      <td>spiveju01</td>\n",
       "      <td>2001</td>\n",
       "      <td>2005</td>\n",
       "      <td>0.015970</td>\n",
       "      <td>0.005593</td>\n",
       "      <td>0.005126</td>\n",
       "      <td>-0.008065</td>\n",
       "      <td>0.008046</td>\n",
       "      <td>95.189726</td>\n",
       "      <td>2B</td>\n",
       "      <td>Junior</td>\n",
       "      <td>Spivey</td>\n",
       "      <td>816000.0</td>\n",
       "      <td>22.755418</td>\n",
       "      <td>30.303756</td>\n",
       "    </tr>\n",
       "    <tr>\n",
       "      <th>594</th>\n",
       "      <td>menecfr01</td>\n",
       "      <td>1999</td>\n",
       "      <td>2005</td>\n",
       "      <td>-0.021680</td>\n",
       "      <td>-0.011214</td>\n",
       "      <td>-0.001739</td>\n",
       "      <td>-0.014485</td>\n",
       "      <td>0.046071</td>\n",
       "      <td>73.581041</td>\n",
       "      <td>SS</td>\n",
       "      <td>Frank</td>\n",
       "      <td>Menechino</td>\n",
       "      <td>314750.0</td>\n",
       "      <td>10.419856</td>\n",
       "      <td>26.048703</td>\n",
       "    </tr>\n",
       "    <tr>\n",
       "      <th>462</th>\n",
       "      <td>johnsni01</td>\n",
       "      <td>2001</td>\n",
       "      <td>2012</td>\n",
       "      <td>-0.030406</td>\n",
       "      <td>0.018102</td>\n",
       "      <td>-0.002523</td>\n",
       "      <td>-0.000333</td>\n",
       "      <td>0.072075</td>\n",
       "      <td>107.537577</td>\n",
       "      <td>1B</td>\n",
       "      <td>Nick</td>\n",
       "      <td>Johnson</td>\n",
       "      <td>1450000.0</td>\n",
       "      <td>20.505209</td>\n",
       "      <td>23.177053</td>\n",
       "    </tr>\n",
       "    <tr>\n",
       "      <th>565</th>\n",
       "      <td>martied01</td>\n",
       "      <td>1987</td>\n",
       "      <td>2004</td>\n",
       "      <td>0.000910</td>\n",
       "      <td>0.011751</td>\n",
       "      <td>-0.003912</td>\n",
       "      <td>0.004922</td>\n",
       "      <td>0.052827</td>\n",
       "      <td>113.934171</td>\n",
       "      <td>DH</td>\n",
       "      <td>Edgar</td>\n",
       "      <td>Martinez</td>\n",
       "      <td>3500000.0</td>\n",
       "      <td>26.329107</td>\n",
       "      <td>21.526383</td>\n",
       "    </tr>\n",
       "    <tr>\n",
       "      <th>896</th>\n",
       "      <td>werthja01</td>\n",
       "      <td>2002</td>\n",
       "      <td>2013</td>\n",
       "      <td>-0.015169</td>\n",
       "      <td>-0.000742</td>\n",
       "      <td>-0.003539</td>\n",
       "      <td>0.012239</td>\n",
       "      <td>0.032909</td>\n",
       "      <td>95.991832</td>\n",
       "      <td>RF</td>\n",
       "      <td>Jayson</td>\n",
       "      <td>Werth</td>\n",
       "      <td>1700000.0</td>\n",
       "      <td>15.227288</td>\n",
       "      <td>16.549904</td>\n",
       "    </tr>\n",
       "    <tr>\n",
       "      <th>214</th>\n",
       "      <td>davisbe01</td>\n",
       "      <td>1998</td>\n",
       "      <td>2004</td>\n",
       "      <td>-0.015639</td>\n",
       "      <td>-0.012304</td>\n",
       "      <td>-0.005375</td>\n",
       "      <td>-0.014903</td>\n",
       "      <td>0.030840</td>\n",
       "      <td>63.935456</td>\n",
       "      <td>C</td>\n",
       "      <td>Ben</td>\n",
       "      <td>Davis</td>\n",
       "      <td>350000.0</td>\n",
       "      <td>-8.686823</td>\n",
       "      <td>6.041593</td>\n",
       "    </tr>\n",
       "    <tr>\n",
       "      <th>596</th>\n",
       "      <td>michaja01</td>\n",
       "      <td>2001</td>\n",
       "      <td>2011</td>\n",
       "      <td>0.000031</td>\n",
       "      <td>0.006856</td>\n",
       "      <td>-0.003557</td>\n",
       "      <td>-0.017154</td>\n",
       "      <td>-0.014706</td>\n",
       "      <td>58.187885</td>\n",
       "      <td>LF</td>\n",
       "      <td>Jason</td>\n",
       "      <td>Michaels</td>\n",
       "      <td>825000.0</td>\n",
       "      <td>-20.102124</td>\n",
       "      <td>-12.646829</td>\n",
       "    </tr>\n",
       "    <tr>\n",
       "      <th>847</th>\n",
       "      <td>torrean02</td>\n",
       "      <td>2002</td>\n",
       "      <td>2013</td>\n",
       "      <td>-0.038587</td>\n",
       "      <td>0.025363</td>\n",
       "      <td>0.009017</td>\n",
       "      <td>-0.003139</td>\n",
       "      <td>0.006371</td>\n",
       "      <td>83.881250</td>\n",
       "      <td>CF</td>\n",
       "      <td>Andres</td>\n",
       "      <td>Torres</td>\n",
       "      <td>1500000.0</td>\n",
       "      <td>11.311626</td>\n",
       "      <td>13.695908</td>\n",
       "    </tr>\n",
       "  </tbody>\n",
       "</table>\n",
       "</div>"
      ],
      "text/plain": [
       "      playerID  startYear  endYear      av1B      av2B      av3B      avHR  \\\n",
       "80   bondsba01       1986     2007 -0.045184  0.001342  0.001377  0.030717   \n",
       "265  ensbemo01       2000     2008 -0.033243 -0.003037 -0.000346  0.026321   \n",
       "803  spiveju01       2001     2005  0.015970  0.005593  0.005126 -0.008065   \n",
       "594  menecfr01       1999     2005 -0.021680 -0.011214 -0.001739 -0.014485   \n",
       "462  johnsni01       2001     2012 -0.030406  0.018102 -0.002523 -0.000333   \n",
       "565  martied01       1987     2004  0.000910  0.011751 -0.003912  0.004922   \n",
       "896  werthja01       2002     2013 -0.015169 -0.000742 -0.003539  0.012239   \n",
       "214  davisbe01       1998     2004 -0.015639 -0.012304 -0.005375 -0.014903   \n",
       "596  michaja01       2001     2011  0.000031  0.006856 -0.003557 -0.017154   \n",
       "847  torrean02       2002     2013 -0.038587  0.025363  0.009017 -0.003139   \n",
       "\n",
       "         avBB         OPW Position nameFirst   nameLast  medianSal       OPW2  \\\n",
       "80   0.112071  143.101202       OF     Barry      Bonds  8541667.0  66.841635   \n",
       "265  0.047626  108.584662       3B    Morgan    Ensberg   450000.0  34.600771   \n",
       "803  0.008046   95.189726       2B    Junior     Spivey   816000.0  22.755418   \n",
       "594  0.046071   73.581041       SS     Frank  Menechino   314750.0  10.419856   \n",
       "462  0.072075  107.537577       1B      Nick    Johnson  1450000.0  20.505209   \n",
       "565  0.052827  113.934171       DH     Edgar   Martinez  3500000.0  26.329107   \n",
       "896  0.032909   95.991832       RF    Jayson      Werth  1700000.0  15.227288   \n",
       "214  0.030840   63.935456        C       Ben      Davis   350000.0  -8.686823   \n",
       "596 -0.014706   58.187885       LF     Jason   Michaels   825000.0 -20.102124   \n",
       "847  0.006371   83.881250       CF    Andres     Torres  1500000.0  11.311626   \n",
       "\n",
       "      Residual  \n",
       "80   54.471091  \n",
       "265  47.197472  \n",
       "803  30.303756  \n",
       "594  26.048703  \n",
       "462  23.177053  \n",
       "565  21.526383  \n",
       "896  16.549904  \n",
       "214   6.041593  \n",
       "596 -12.646829  \n",
       "847  13.695908  "
      ]
     },
     "execution_count": 173,
     "metadata": {},
     "output_type": "execute_result"
    }
   ],
   "source": [
    "team=playerLS3.loc[my_team,:]\n",
    "team"
   ]
  },
  {
   "cell_type": "code",
   "execution_count": 203,
   "metadata": {},
   "outputs": [
    {
     "name": "stdout",
     "output_type": "stream",
     "text": [
      "19447417.0\n",
      "94.3924801306\n"
     ]
    }
   ],
   "source": [
    "print team[\"medianSal\"].sum()\n",
    "print team[\"OPW\"].mean()"
   ]
  },
  {
   "cell_type": "code",
   "execution_count": 300,
   "metadata": {},
   "outputs": [
    {
     "data": {
      "text/html": [
       "<div>\n",
       "<style scoped>\n",
       "    .dataframe tbody tr th:only-of-type {\n",
       "        vertical-align: middle;\n",
       "    }\n",
       "\n",
       "    .dataframe tbody tr th {\n",
       "        vertical-align: top;\n",
       "    }\n",
       "\n",
       "    .dataframe thead th {\n",
       "        text-align: right;\n",
       "    }\n",
       "</style>\n",
       "<table border=\"1\" class=\"dataframe\">\n",
       "  <thead>\n",
       "    <tr style=\"text-align: right;\">\n",
       "      <th></th>\n",
       "      <th>playerID</th>\n",
       "      <th>startYear</th>\n",
       "      <th>endYear</th>\n",
       "      <th>av1B</th>\n",
       "      <th>av2B</th>\n",
       "      <th>av3B</th>\n",
       "      <th>avHR</th>\n",
       "      <th>avBB</th>\n",
       "      <th>OPW</th>\n",
       "      <th>Position</th>\n",
       "      <th>nameFirst</th>\n",
       "      <th>nameLast</th>\n",
       "      <th>medianSal</th>\n",
       "      <th>Residual</th>\n",
       "    </tr>\n",
       "  </thead>\n",
       "  <tbody>\n",
       "    <tr>\n",
       "      <th>0</th>\n",
       "      <td>abreubo01</td>\n",
       "      <td>1996</td>\n",
       "      <td>2012</td>\n",
       "      <td>-0.008202</td>\n",
       "      <td>0.006421</td>\n",
       "      <td>0.001002</td>\n",
       "      <td>-0.003252</td>\n",
       "      <td>0.050501</td>\n",
       "      <td>104.050008</td>\n",
       "      <td>RF</td>\n",
       "      <td>Bobby</td>\n",
       "      <td>Abreu</td>\n",
       "      <td>9000000.0</td>\n",
       "      <td>15.232412</td>\n",
       "    </tr>\n",
       "    <tr>\n",
       "      <th>3</th>\n",
       "      <td>alfoned01</td>\n",
       "      <td>1995</td>\n",
       "      <td>2006</td>\n",
       "      <td>0.013485</td>\n",
       "      <td>-0.002177</td>\n",
       "      <td>-0.003239</td>\n",
       "      <td>-0.006436</td>\n",
       "      <td>0.010745</td>\n",
       "      <td>83.404437</td>\n",
       "      <td>2B</td>\n",
       "      <td>Edgardo</td>\n",
       "      <td>Alfonzo</td>\n",
       "      <td>4112500.0</td>\n",
       "      <td>1.398461</td>\n",
       "    </tr>\n",
       "    <tr>\n",
       "      <th>5</th>\n",
       "      <td>allench01</td>\n",
       "      <td>1999</td>\n",
       "      <td>2005</td>\n",
       "      <td>0.023014</td>\n",
       "      <td>-0.009664</td>\n",
       "      <td>0.000201</td>\n",
       "      <td>-0.016584</td>\n",
       "      <td>-0.031390</td>\n",
       "      <td>58.526131</td>\n",
       "      <td>RF</td>\n",
       "      <td>Chad</td>\n",
       "      <td>Allen</td>\n",
       "      <td>240000.0</td>\n",
       "      <td>1.230295</td>\n",
       "    </tr>\n",
       "    <tr>\n",
       "      <th>7</th>\n",
       "      <td>alomaro01</td>\n",
       "      <td>1988</td>\n",
       "      <td>2004</td>\n",
       "      <td>0.022145</td>\n",
       "      <td>0.001698</td>\n",
       "      <td>0.002653</td>\n",
       "      <td>-0.009386</td>\n",
       "      <td>0.004503</td>\n",
       "      <td>90.800847</td>\n",
       "      <td>2B</td>\n",
       "      <td>Roberto</td>\n",
       "      <td>Alomar</td>\n",
       "      <td>5466667.0</td>\n",
       "      <td>6.319307</td>\n",
       "    </tr>\n",
       "    <tr>\n",
       "      <th>9</th>\n",
       "      <td>aloumo01</td>\n",
       "      <td>1990</td>\n",
       "      <td>2008</td>\n",
       "      <td>0.004058</td>\n",
       "      <td>0.001022</td>\n",
       "      <td>-0.000406</td>\n",
       "      <td>0.009994</td>\n",
       "      <td>0.000737</td>\n",
       "      <td>92.104556</td>\n",
       "      <td>OF</td>\n",
       "      <td>Moises</td>\n",
       "      <td>Alou</td>\n",
       "      <td>5135000.0</td>\n",
       "      <td>8.167369</td>\n",
       "    </tr>\n",
       "  </tbody>\n",
       "</table>\n",
       "</div>"
      ],
      "text/plain": [
       "    playerID  startYear  endYear      av1B      av2B      av3B      avHR  \\\n",
       "0  abreubo01       1996     2012 -0.008202  0.006421  0.001002 -0.003252   \n",
       "3  alfoned01       1995     2006  0.013485 -0.002177 -0.003239 -0.006436   \n",
       "5  allench01       1999     2005  0.023014 -0.009664  0.000201 -0.016584   \n",
       "7  alomaro01       1988     2004  0.022145  0.001698  0.002653 -0.009386   \n",
       "9   aloumo01       1990     2008  0.004058  0.001022 -0.000406  0.009994   \n",
       "\n",
       "       avBB         OPW Position nameFirst nameLast  medianSal   Residual  \n",
       "0  0.050501  104.050008       RF     Bobby    Abreu  9000000.0  15.232412  \n",
       "3  0.010745   83.404437       2B   Edgardo  Alfonzo  4112500.0   1.398461  \n",
       "5 -0.031390   58.526131       RF      Chad    Allen   240000.0   1.230295  \n",
       "7  0.004503   90.800847       2B   Roberto   Alomar  5466667.0   6.319307  \n",
       "9  0.000737   92.104556       OF    Moises     Alou  5135000.0   8.167369  "
      ]
     },
     "execution_count": 300,
     "metadata": {},
     "output_type": "execute_result"
    }
   ],
   "source": [
    "playerLS3.head()"
   ]
  },
  {
   "cell_type": "markdown",
   "metadata": {},
   "source": [
    "#### Problem 1(m)\n",
    "What do these players outperform in? Singles, doubles, triples HR or BB?"
   ]
  },
  {
   "cell_type": "markdown",
   "metadata": {},
   "source": [
    "BB"
   ]
  },
  {
   "cell_type": "markdown",
   "metadata": {},
   "source": [
    "## Discussion for Problem 1\n",
    "\n",
    "*Write a brief discussion of your conclusions to the questions and tasks above in 100 words or less.*\n",
    "\n",
    "---"
   ]
  },
  {
   "cell_type": "markdown",
   "metadata": {},
   "source": [
    "My team is expected to win 94 of the 162 games. It costs less than 20 million on median salary. They are espescially good in BB compared to average. The OPW is based on a linear regression of the wins of teams in 2002. This coefficient were used to evaluate the expected wins of an individual player.  "
   ]
  },
  {
   "cell_type": "markdown",
   "metadata": {},
   "source": [
    "# Problem 2:  $k$-Nearest Neighbors and Cross Validation \n",
    "\n",
    "What is the optimal $k$ for predicting species using $k$-nearest neighbor classification \n",
    "on the four features provided by the iris dataset.\n",
    "\n",
    "In this problem you will get to know the famous iris data set, and use cross validation to select the optimal $k$ for a $k$-nearest neighbor classification. This problem set makes heavy use of the [sklearn](http://scikit-learn.org/stable/) library. In addition to Pandas, it is one of the most useful libraries for data scientists! After completing this homework assignment you will know all the basics to get started with your own machine learning projects in sklearn. \n",
    "\n",
    "Future lectures will give further background information on different classifiers and their specific strengths and weaknesses, but when you have the basics for sklearn down, changing the classifier will boil down to exchanging one to two lines of code.\n",
    "\n",
    "The data set is so popular, that sklearn provides an extra function to load it:"
   ]
  },
  {
   "cell_type": "code",
   "execution_count": null,
   "metadata": {},
   "outputs": [],
   "source": [
    "#load the iris data set\n",
    "iris = sklearn.datasets.load_iris()\n",
    "\n",
    "X = iris.data  \n",
    "Y = iris.target\n",
    "\n",
    "print X.shape, Y.shape"
   ]
  },
  {
   "cell_type": "markdown",
   "metadata": {},
   "source": [
    "#### Problem 2(a) \n",
    "Split the data into a train and a test set. Use a random selection of 33% of the samples as test data. Sklearn provides the [`train_test_split`](http://scikit-learn.org/stable/modules/generated/sklearn.cross_validation.train_test_split.html) function for this purpose. Print the dimensions of all the train and test data sets you have created. "
   ]
  },
  {
   "cell_type": "code",
   "execution_count": null,
   "metadata": {},
   "outputs": [],
   "source": [
    "### Your code here ###"
   ]
  },
  {
   "cell_type": "markdown",
   "metadata": {},
   "source": [
    "#### Problem 2(b)\n",
    "\n",
    "Examine the data further by looking at the projections to the first two principal components of the data. Use the [`TruncatedSVD`](http://scikit-learn.org/stable/modules/generated/sklearn.decomposition.TruncatedSVD.html) function for this purpose, and create a scatter plot. Use the colors on the scatter plot to represent the different classes in the target data. "
   ]
  },
  {
   "cell_type": "code",
   "execution_count": null,
   "metadata": {},
   "outputs": [],
   "source": [
    "### Your code here ###"
   ]
  },
  {
   "cell_type": "markdown",
   "metadata": {},
   "source": [
    "#### Problem 2(c) \n",
    "\n",
    "In the lecture we discussed how to use cross validation to estimate the optimal value for $k$ (the number of nearest neighbors to base the classification on). Use ***ten fold cross validation*** to estimate the optimal value for $k$ for the iris data set. \n",
    "\n",
    "**Note**: For your convenience sklearn does not only include the [KNN classifier](http://scikit-learn.org/stable/modules/generated/sklearn.neighbors.KNeighborsClassifier.html), but also a [grid search function](http://scikit-learn.org/stable/modules/generated/sklearn.grid_search.GridSearchCV.html#sklearn.grid_search.GridSearchCV). The function is called grid search, because if you have to optimize more than one parameter, it is common practice to define a range of possible values for each parameter. An exhaustive search then runs over the complete grid defined by all the possible parameter combinations. This can get very computation heavy, but luckily our KNN classifier only requires tuning of a single parameter for this problem set. "
   ]
  },
  {
   "cell_type": "code",
   "execution_count": null,
   "metadata": {},
   "outputs": [],
   "source": [
    "### Your code here ###"
   ]
  },
  {
   "cell_type": "markdown",
   "metadata": {},
   "source": [
    "#### Problem 2(d)\n",
    "\n",
    "Visualize the result by plotting the score results versus values for $k$. "
   ]
  },
  {
   "cell_type": "code",
   "execution_count": null,
   "metadata": {},
   "outputs": [],
   "source": [
    "### Your code here ###"
   ]
  },
  {
   "cell_type": "markdown",
   "metadata": {},
   "source": [
    "Verify that the grid search has indeed chosen the right parameter value for $k$."
   ]
  },
  {
   "cell_type": "code",
   "execution_count": null,
   "metadata": {},
   "outputs": [],
   "source": [
    "### Your code here ###"
   ]
  },
  {
   "cell_type": "markdown",
   "metadata": {},
   "source": [
    "#### Problem 2(e)\n",
    "\n",
    "Test the performance of our tuned KNN classifier on the test set."
   ]
  },
  {
   "cell_type": "code",
   "execution_count": null,
   "metadata": {},
   "outputs": [],
   "source": [
    "### Your code here ###"
   ]
  },
  {
   "cell_type": "markdown",
   "metadata": {},
   "source": [
    "## Discussion for Problem 2\n",
    "\n",
    "*Write a brief discussion of your conclusions to the questions and tasks above in 100 words or less.*\n",
    "\n",
    "---"
   ]
  },
  {
   "cell_type": "markdown",
   "metadata": {},
   "source": [
    "# Problem 3: The Curse and Blessing of Higher Dimensions\n",
    "\n",
    "In this problem we will investigate the influence of higher dimensional spaces on the classification. The data set is again one of the standard data sets from sklearn. The [digits data set](http://scikit-learn.org/stable/modules/generated/sklearn.datasets.load_digits.html) is similar to the MNIST data set discussed in the lecture. The main difference is, that each digit is represented by an 8x8 pixel image patch, which is considerably smaller than the 28x28 pixels from MNIST. In addition, the gray values are restricted to 16 different values (4 bit), instead of 256 (8 bit) for MNIST. \n",
    "\n",
    "First we again load our data set."
   ]
  },
  {
   "cell_type": "code",
   "execution_count": 2,
   "metadata": {},
   "outputs": [
    {
     "name": "stdout",
     "output_type": "stream",
     "text": [
      "(1797, 64) (1797,)\n"
     ]
    }
   ],
   "source": [
    "digits = sklearn.datasets.load_digits()\n",
    "\n",
    "X = digits.data  \n",
    "Y = digits.target\n",
    "\n",
    "print X.shape, Y.shape"
   ]
  },
  {
   "cell_type": "code",
   "execution_count": 3,
   "metadata": {},
   "outputs": [
    {
     "data": {
      "text/plain": [
       "array([  0.,   0.,   5.,  13.,   9.,   1.,   0.,   0.,   0.,   0.,  13.,\n",
       "        15.,  10.,  15.,   5.,   0.,   0.,   3.,  15.,   2.,   0.,  11.,\n",
       "         8.,   0.,   0.,   4.,  12.,   0.,   0.,   8.,   8.,   0.,   0.,\n",
       "         5.,   8.,   0.,   0.,   9.,   8.,   0.,   0.,   4.,  11.,   0.,\n",
       "         1.,  12.,   7.,   0.,   0.,   2.,  14.,   5.,  10.,  12.,   0.,\n",
       "         0.,   0.,   0.,   6.,  13.,  10.,   0.,   0.,   0.])"
      ]
     },
     "execution_count": 3,
     "metadata": {},
     "output_type": "execute_result"
    }
   ],
   "source": [
    "X[0]"
   ]
  },
  {
   "cell_type": "code",
   "execution_count": 49,
   "metadata": {},
   "outputs": [
    {
     "data": {
      "text/plain": [
       "['DESCR', 'data', 'images', 'target', 'target_names']"
      ]
     },
     "execution_count": 49,
     "metadata": {},
     "output_type": "execute_result"
    }
   ],
   "source": [
    "dir(digits)"
   ]
  },
  {
   "cell_type": "code",
   "execution_count": 247,
   "metadata": {},
   "outputs": [
    {
     "data": {
      "text/plain": [
       "<matplotlib.image.AxesImage at 0x1b9fa210>"
      ]
     },
     "execution_count": 247,
     "metadata": {},
     "output_type": "execute_result"
    },
    {
     "data": {
      "text/plain": [
       "<Figure size 432x288 with 0 Axes>"
      ]
     },
     "metadata": {},
     "output_type": "display_data"
    },
    {
     "data": {
      "image/png": "[encoded data removed]",
      "text/plain": [
       "<Figure size 288x288 with 1 Axes>"
      ]
     },
     "metadata": {},
     "output_type": "display_data"
    }
   ],
   "source": [
    "plt.gray()\n",
    "plt.matshow(digits.images[9])"
   ]
  },
  {
   "cell_type": "markdown",
   "metadata": {},
   "source": [
    "#### Problem 3(a) \n",
    "\n",
    "Start with the same steps as in Problem 2. Split the data into train and test set. Use 33% of the samples as test data. Print the dimensions of all the train and test data sets you created. "
   ]
  },
  {
   "cell_type": "code",
   "execution_count": 343,
   "metadata": {},
   "outputs": [
    {
     "name": "stdout",
     "output_type": "stream",
     "text": [
      "(1203, 64) (594, 64) (1203,) (594,)\n"
     ]
    }
   ],
   "source": [
    "from sklearn.model_selection import train_test_split\n",
    "X_train,X_test,y_train,y_test=train_test_split(X,Y,test_size=0.33,random_state=42)\n",
    "X_train_means=np.mean(X_train,axis=0)\n",
    "X_train_c=X_train-X_train_means\n",
    "X_test_c=X_test-X_train_means\n",
    "print X_train.shape,X_test.shape,y_train.shape,y_test.shape"
   ]
  },
  {
   "cell_type": "code",
   "execution_count": 5,
   "metadata": {},
   "outputs": [
    {
     "data": {
      "text/plain": [
       "array([9, 8, 1, 5, 7, 6, 9, 8, 5, 5])"
      ]
     },
     "execution_count": 5,
     "metadata": {},
     "output_type": "execute_result"
    }
   ],
   "source": [
    "y_train[:10]"
   ]
  },
  {
   "cell_type": "code",
   "execution_count": 254,
   "metadata": {},
   "outputs": [
    {
     "data": {
      "text/plain": [
       "array([[  0.,   0.,  10.,  16.],\n",
       "       [  9.,   0.,   0.,   0.],\n",
       "       [  0.,   4.,  16.,  16.],\n",
       "       [ 16.,   0.,   0.,   0.],\n",
       "       [  0.,   2.,  12.,   9.],\n",
       "       [ 15.,   0.,   0.,   0.],\n",
       "       [  0.,   0.,   0.,  11.],\n",
       "       [ 11.,   0.,   0.,   0.],\n",
       "       [  0.,   0.,   1.,  16.],\n",
       "       [  7.,   0.,   0.,   0.],\n",
       "       [  0.,   0.,   9.,  16.],\n",
       "       [  2.,   0.,   0.,   0.],\n",
       "       [  0.,   0.,  15.,  16.],\n",
       "       [  8.,   5.,   0.,   0.],\n",
       "       [  0.,   0.,  11.,  16.],\n",
       "       [ 16.,  16.,   2.,   0.]])"
      ]
     },
     "execution_count": 254,
     "metadata": {},
     "output_type": "execute_result"
    }
   ],
   "source": [
    "X_train[0].reshape(16,4)"
   ]
  },
  {
   "cell_type": "code",
   "execution_count": 252,
   "metadata": {},
   "outputs": [
    {
     "data": {
      "text/plain": [
       "array([  0.00000000e+00,   2.86783042e-01,   5.11221945e+00,\n",
       "         1.17331671e+01,   1.19243558e+01,   5.73898587e+00,\n",
       "         1.38653367e+00,   1.13050707e-01,   4.98753117e-03,\n",
       "         1.95095594e+00,   1.02743142e+01,   1.19850374e+01,\n",
       "         1.03017456e+01,   8.03823774e+00,   1.83374896e+00,\n",
       "         1.03075644e-01,   4.15627598e-03,   2.56359102e+00,\n",
       "         9.88528678e+00,   7.02743142e+00,   7.05569410e+00,\n",
       "         7.72734830e+00,   1.81961762e+00,   5.15378221e-02,\n",
       "         8.31255195e-04,   2.53366584e+00,   9.15128845e+00,\n",
       "         8.68744805e+00,   9.76475478e+00,   7.62593516e+00,\n",
       "         2.41064007e+00,   3.32502078e-03,   0.00000000e+00,\n",
       "         2.39567747e+00,   7.65918537e+00,   8.89443059e+00,\n",
       "         1.01371571e+01,   8.84871155e+00,   2.98919368e+00,\n",
       "         0.00000000e+00,   1.16375727e-02,   1.65669160e+00,\n",
       "         6.77389859e+00,   7.07647548e+00,   7.60515378e+00,\n",
       "         8.28096426e+00,   3.52285952e+00,   2.82626766e-02,\n",
       "         1.08063175e-02,   7.19035744e-01,   7.41313383e+00,\n",
       "         9.42310889e+00,   9.50789692e+00,   8.80382377e+00,\n",
       "         3.77472984e+00,   2.14463840e-01,   8.31255195e-04,\n",
       "         2.75976725e-01,   5.47963425e+00,   1.20382377e+01,\n",
       "         1.18819618e+01,   6.84621779e+00,   2.15960100e+00,\n",
       "         4.09808811e-01])"
      ]
     },
     "execution_count": 252,
     "metadata": {},
     "output_type": "execute_result"
    }
   ],
   "source": [
    "X_train_means"
   ]
  },
  {
   "cell_type": "markdown",
   "metadata": {},
   "source": [
    "#### Problem 3(b) \n",
    "\n",
    "Similar to Problem 2(b), create a scatter plot of the projections to the first two PCs.  Use the colors on the scatter plot to represent the different classes in the target data. How well can we separate the classes?\n",
    "\n",
    "**Hint**: Use a `Colormap` in matplotlib to represent the diferent classes in the target data. "
   ]
  },
  {
   "cell_type": "code",
   "execution_count": 265,
   "metadata": {},
   "outputs": [
    {
     "name": "stdout",
     "output_type": "stream",
     "text": [
      "(1203, 2)\n",
      "[ 0.14906033  0.13711025]\n"
     ]
    }
   ],
   "source": [
    "from sklearn.decomposition import TruncatedSVD\n",
    "svd=TruncatedSVD(n_components=2)\n",
    "X_train_new=svd.fit_transform(X_train)\n",
    "print X_train_new.shape\n",
    "print svd.explained_variance_ratio_"
   ]
  },
  {
   "cell_type": "code",
   "execution_count": 260,
   "metadata": {},
   "outputs": [
    {
     "data": {
      "text/plain": [
       "16.526656851744097"
      ]
     },
     "execution_count": 260,
     "metadata": {},
     "output_type": "execute_result"
    }
   ],
   "source": [
    "X_train_new[1][1]"
   ]
  },
  {
   "cell_type": "code",
   "execution_count": 266,
   "metadata": {},
   "outputs": [],
   "source": [
    "x=X_train_new[:,0]\n",
    "y=[X_train_new[i][1] for i in range(len(X_train_new))]"
   ]
  },
  {
   "cell_type": "code",
   "execution_count": 267,
   "metadata": {},
   "outputs": [
    {
     "data": {
      "text/plain": [
       "<matplotlib.colorbar.Colorbar at 0x1b3e62b0>"
      ]
     },
     "execution_count": 267,
     "metadata": {},
     "output_type": "execute_result"
    },
    {
     "data": {
      "image/png": "[encoded data removed]",
      "text/plain": [
       "<Figure size 432x288 with 2 Axes>"
      ]
     },
     "metadata": {},
     "output_type": "display_data"
    }
   ],
   "source": [
    "plt.scatter(x,y,alpha=1,s=50,c=y_train,cmap=plt.cm.Paired)\n",
    "plt.colorbar()"
   ]
  },
  {
   "cell_type": "markdown",
   "metadata": {},
   "source": [
    "Create individual scatter plots using only two classes at a time to explore which classes are most difficult to distinguish in terms of class separability.  You do not need to create scatter plots for all pairwise comparisons, but at least show one. "
   ]
  },
  {
   "cell_type": "code",
   "execution_count": 268,
   "metadata": {},
   "outputs": [
    {
     "data": {
      "text/plain": [
       "<matplotlib.collections.PathCollection at 0x1a797e10>"
      ]
     },
     "execution_count": 268,
     "metadata": {},
     "output_type": "execute_result"
    },
    {
     "data": {
      "image/png": "[encoded data removed]",
      "text/plain": [
       "<Figure size 432x288 with 1 Axes>"
      ]
     },
     "metadata": {},
     "output_type": "display_data"
    }
   ],
   "source": [
    "ind=np.logical_or(y_train==4, y_train==1 )\n",
    "x1=X_train_new[ind,0]\n",
    "y1=X_train_new[ind,1] \n",
    "ytrain1=y_train[ind] \n",
    "plt.scatter(x1,y1,alpha=1,c=ytrain1,cmap=\"Accent\")"
   ]
  },
  {
   "cell_type": "markdown",
   "metadata": {},
   "source": [
    "Give a brief interpretation of the scatter plot. Which classes look like hard to distinguish? Do both feature dimensions contribute to the class separability? "
   ]
  },
  {
   "cell_type": "markdown",
   "metadata": {},
   "source": [
    "** Your answer here: ** For example 0 and 1. No only 1 mainly. "
   ]
  },
  {
   "cell_type": "markdown",
   "metadata": {},
   "source": [
    "#### Problem 3(c) \n",
    "\n",
    "Write a **ten-fold cross validation** to estimate the optimal value for $k$ for the digits data set. *However*, this time we are interested in the influence of the number of dimensions we project the data down as well. \n",
    "3\n",
    "Extend the cross validation as done for the iris data set, to optimize $k$ for different dimensional projections of the data. Create a boxplot showing test scores for the optimal $k$ for each $d$-dimensional subspace with $d$ ranging from one to ten. The plot should have the scores on the y-axis and the different dimensions $d$ on the x-axis. You can use your favorite plot function for the boxplots. [Seaborn](http://web.stanford.edu/~mwaskom/software/seaborn/index.html) is worth having a look at though. It is a great library for statistical visualization and of course also comes with a [`boxplot`](http://web.stanford.edu/~mwaskom/software/seaborn/generated/seaborn.boxplot.html) function that has simple means for changing the labels on the x-axis."
   ]
  },
  {
   "cell_type": "code",
   "execution_count": 269,
   "metadata": {},
   "outputs": [],
   "source": [
    "from sklearn.model_selection import cross_val_score\n",
    "from sklearn.neighbors import KNeighborsClassifier\n",
    "from sklearn.model_selection import GridSearchCV\n",
    "from sklearn.metrics import accuracy_score\n",
    "from sklearn.model_selection import KFold\n"
   ]
  },
  {
   "cell_type": "code",
   "execution_count": 288,
   "metadata": {},
   "outputs": [],
   "source": [
    "splits=10"
   ]
  },
  {
   "cell_type": "code",
   "execution_count": 290,
   "metadata": {},
   "outputs": [
    {
     "data": {
      "text/plain": [
       "GridSearchCV(cv=10, error_score='raise',\n",
       "       estimator=KNeighborsClassifier(algorithm='auto', leaf_size=30, metric='minkowski',\n",
       "           metric_params=None, n_jobs=1, n_neighbors=5, p=2,\n",
       "           weights='uniform'),\n",
       "       fit_params=None, iid=True, n_jobs=1,\n",
       "       param_grid={'n_neighbors': [1, 3, 5, 10, 20, 50, 200]},\n",
       "       pre_dispatch='2*n_jobs', refit=True, return_train_score='warn',\n",
       "       scoring=None, verbose=0)"
      ]
     },
     "execution_count": 290,
     "metadata": {},
     "output_type": "execute_result"
    }
   ],
   "source": [
    "clf.fit(X_train,y_train)"
   ]
  },
  {
   "cell_type": "code",
   "execution_count": 345,
   "metadata": {},
   "outputs": [],
   "source": [
    "def do_prediction(clf,splits,x_test_t):\n",
    "    kf=KFold(n_splits=splits)\n",
    "    scores=[]\n",
    "    for _,test_index in kf.split(x_test_t):\n",
    "        X_test_sub=x_test_t[test_index]\n",
    "        y_test_sub=y_test[test_index]\n",
    "        y_pred=clf.predict(X_test_sub)\n",
    "        scores.append(accuracy_score(y_test_sub,y_pred))\n",
    "    return scores\n",
    "    "
   ]
  },
  {
   "cell_type": "code",
   "execution_count": 329,
   "metadata": {},
   "outputs": [
    {
     "data": {
      "text/plain": [
       "(594, 10)"
      ]
     },
     "execution_count": 329,
     "metadata": {},
     "output_type": "execute_result"
    }
   ],
   "source": [
    "X_test_transf.shape"
   ]
  },
  {
   "cell_type": "code",
   "execution_count": 351,
   "metadata": {},
   "outputs": [
    {
     "name": "stdout",
     "output_type": "stream",
     "text": [
      "1\n",
      "2\n",
      "3\n",
      "4\n",
      "5\n",
      "6\n",
      "7\n",
      "8\n",
      "9\n",
      "10\n"
     ]
    }
   ],
   "source": [
    "all_scores=[]\n",
    "all_k=[]\n",
    "k=np.arange(20)+1\n",
    "KNC=KNeighborsClassifier()\n",
    "parameters={\"n_neighbors\":k}\n",
    "clf=GridSearchCV(KNC,parameters,cv=10)\n",
    "\n",
    "for d in range(1,11):\n",
    "    print d\n",
    "    svd=TruncatedSVD(n_components=d)\n",
    "    X_d=svd.fit_transform(X_train_c)\n",
    "    X_d_test=svd.transform(X_test_c)\n",
    "    clf.fit(X_d,y_train)\n",
    "    all_scores.append(do_prediction(clf,10,X_d_test))\n",
    "    all_k.append(clf.best_params_['n_neighbors'])\n",
    "\n",
    "    "
   ]
  },
  {
   "cell_type": "code",
   "execution_count": 352,
   "metadata": {},
   "outputs": [
    {
     "data": {
      "text/plain": [
       "[[0.45000000000000001,\n",
       "  0.31666666666666665,\n",
       "  0.46666666666666667,\n",
       "  0.55000000000000004,\n",
       "  0.25423728813559321,\n",
       "  0.33898305084745761,\n",
       "  0.30508474576271188,\n",
       "  0.40677966101694918,\n",
       "  0.2711864406779661,\n",
       "  0.28813559322033899],\n",
       " [0.71666666666666667,\n",
       "  0.68333333333333335,\n",
       "  0.71666666666666667,\n",
       "  0.69999999999999996,\n",
       "  0.67796610169491522,\n",
       "  0.57627118644067798,\n",
       "  0.64406779661016944,\n",
       "  0.64406779661016944,\n",
       "  0.59322033898305082,\n",
       "  0.6271186440677966],\n",
       " [0.83333333333333337,\n",
       "  0.76666666666666672,\n",
       "  0.78333333333333333,\n",
       "  0.8833333333333333,\n",
       "  0.71186440677966101,\n",
       "  0.77966101694915257,\n",
       "  0.76271186440677963,\n",
       "  0.77966101694915257,\n",
       "  0.79661016949152541,\n",
       "  0.77966101694915257],\n",
       " [0.90000000000000002,\n",
       "  0.8833333333333333,\n",
       "  0.8666666666666667,\n",
       "  0.96666666666666667,\n",
       "  0.83050847457627119,\n",
       "  0.88135593220338981,\n",
       "  0.84745762711864403,\n",
       "  0.83050847457627119,\n",
       "  0.79661016949152541,\n",
       "  0.88135593220338981],\n",
       " [0.94999999999999996,\n",
       "  0.96666666666666667,\n",
       "  0.93333333333333335,\n",
       "  0.93333333333333335,\n",
       "  0.93220338983050843,\n",
       "  0.93220338983050843,\n",
       "  0.96610169491525422,\n",
       "  0.89830508474576276,\n",
       "  0.88135593220338981,\n",
       "  0.88135593220338981],\n",
       " [0.96666666666666667,\n",
       "  0.96666666666666667,\n",
       "  0.91666666666666663,\n",
       "  0.93333333333333335,\n",
       "  0.93220338983050843,\n",
       "  0.9152542372881356,\n",
       "  0.96610169491525422,\n",
       "  0.93220338983050843,\n",
       "  0.88135593220338981,\n",
       "  0.94915254237288138],\n",
       " [0.98333333333333328,\n",
       "  1.0,\n",
       "  0.94999999999999996,\n",
       "  0.94999999999999996,\n",
       "  0.98305084745762716,\n",
       "  0.96610169491525422,\n",
       "  0.96610169491525422,\n",
       "  0.94915254237288138,\n",
       "  0.96610169491525422,\n",
       "  0.98305084745762716],\n",
       " [0.98333333333333328,\n",
       "  0.98333333333333328,\n",
       "  0.94999999999999996,\n",
       "  0.91666666666666663,\n",
       "  0.94915254237288138,\n",
       "  0.96610169491525422,\n",
       "  1.0,\n",
       "  0.93220338983050843,\n",
       "  0.98305084745762716,\n",
       "  1.0],\n",
       " [1.0,\n",
       "  0.98333333333333328,\n",
       "  0.96666666666666667,\n",
       "  0.96666666666666667,\n",
       "  0.94915254237288138,\n",
       "  0.94915254237288138,\n",
       "  1.0,\n",
       "  0.93220338983050843,\n",
       "  0.96610169491525422,\n",
       "  1.0],\n",
       " [1.0,\n",
       "  0.98333333333333328,\n",
       "  0.98333333333333328,\n",
       "  0.98333333333333328,\n",
       "  0.96610169491525422,\n",
       "  0.98305084745762716,\n",
       "  1.0,\n",
       "  0.96610169491525422,\n",
       "  0.94915254237288138,\n",
       "  0.98305084745762716]]"
      ]
     },
     "execution_count": 352,
     "metadata": {},
     "output_type": "execute_result"
    }
   ],
   "source": [
    "all_scores"
   ]
  },
  {
   "cell_type": "code",
   "execution_count": 353,
   "metadata": {},
   "outputs": [
    {
     "data": {
      "text/plain": [
       "[12, 19, 12, 6, 6, 10, 3, 3, 3, 1]"
      ]
     },
     "execution_count": 353,
     "metadata": {},
     "output_type": "execute_result"
    }
   ],
   "source": [
    "all_k"
   ]
  },
  {
   "cell_type": "code",
   "execution_count": 354,
   "metadata": {},
   "outputs": [
    {
     "data": {
      "image/png": "[encoded data removed]",
      "text/plain": [
       "<Figure size 432x288 with 1 Axes>"
      ]
     },
     "metadata": {},
     "output_type": "display_data"
    },
    {
     "data": {
      "text/plain": [
       "[<matplotlib.lines.Line2D at 0x1dcc8230>]"
      ]
     },
     "execution_count": 354,
     "metadata": {},
     "output_type": "execute_result"
    },
    {
     "data": {
      "image/png": "[encoded data removed]",
      "text/plain": [
       "<Figure size 432x288 with 1 Axes>"
      ]
     },
     "metadata": {},
     "output_type": "display_data"
    }
   ],
   "source": [
    "\n",
    "plt.boxplot(all_scores)\n",
    "for a in range(0,11):\n",
    "    plt.annotate(s=\"k=\"+str(all_k[a-1]),xy=(a-0.3,0.2))\n",
    "plt.show()\n",
    "plt.plot(range(1,11),all_k)\n",
    "\n"
   ]
  },
  {
   "cell_type": "code",
   "execution_count": 356,
   "metadata": {},
   "outputs": [
    {
     "data": {
      "text/plain": [
       "<matplotlib.axes._subplots.AxesSubplot at 0x1df8afd0>"
      ]
     },
     "execution_count": 356,
     "metadata": {},
     "output_type": "execute_result"
    },
    {
     "data": {
      "image/png": "[encoded data removed]",
      "text/plain": [
       "<Figure size 432x288 with 1 Axes>"
      ]
     },
     "metadata": {},
     "output_type": "display_data"
    }
   ],
   "source": [
    "all_s=np.asarray(all_scores)\n",
    "sns.boxplot(data=all_s.T)"
   ]
  },
  {
   "cell_type": "code",
   "execution_count": null,
   "metadata": {},
   "outputs": [],
   "source": [
    "### Your boxplot code here ### "
   ]
  },
  {
   "cell_type": "markdown",
   "metadata": {},
   "source": [
    "Write a short interpretation of the generated plot, answering the following questions:\n",
    "\n",
    "* What trend do you see in the plot for increasing dimensions?\n",
    "\n",
    "* Why do you think this is happening?\n",
    "\n",
    "After 5 dimension accuracy not increasing. Because most of the information can be captured in these dimensions. "
   ]
  },
  {
   "cell_type": "markdown",
   "metadata": {},
   "source": [
    "** Your answer here: **"
   ]
  },
  {
   "cell_type": "markdown",
   "metadata": {},
   "source": [
    "#### Problem 3(d) \n",
    "\n",
    "**For AC209 Students**: Change the boxplot we generated above to also show the optimal value for $k$ chosen by the cross validation grid search. "
   ]
  },
  {
   "cell_type": "code",
   "execution_count": null,
   "metadata": {},
   "outputs": [],
   "source": [
    "### Your code here ### "
   ]
  },
  {
   "cell_type": "markdown",
   "metadata": {},
   "source": [
    "Write a short interpretation answering the following questions:\n",
    "\n",
    "* Which trend do you observe for the optimal value of $k$?\n",
    "\n",
    "* Why do you think this is happening?"
   ]
  },
  {
   "cell_type": "markdown",
   "metadata": {},
   "source": [
    "** Your answer here: ** k becomes lower. because the classifier gets more accurate. "
   ]
  },
  {
   "cell_type": "markdown",
   "metadata": {},
   "source": [
    "## Discussion for Problem 3\n",
    "\n",
    "*Write a brief discussion of your conclusions to the questions and tasks above in 100 words or less.*\n",
    "\n",
    "We classified pictures of digits notes. We did this by reducing the dimensionality and using a kneighbor classifier. "
   ]
  },
  {
   "cell_type": "markdown",
   "metadata": {},
   "source": [
    "# Submission Instructions\n",
    "\n",
    "To submit your homework, create a folder named **lastname_firstinitial_hw#** and place your IPython notebooks, data files, and any other files in this folder. Your IPython Notebooks should be completely executed with the results visible in the notebook. We should not have to run any code.  Compress the folder (please use .zip compression) and submit to the CS109 dropbox in the appropriate folder. *If we cannot access your work because these directions are not followed correctly, we will not grade your work.*\n"
   ]
  },
  {
   "cell_type": "code",
   "execution_count": null,
   "metadata": {},
   "outputs": [],
   "source": []
  }
 ],
 "metadata": {
  "kernelspec": {
   "display_name": "Python 2",
   "language": "python",
   "name": "python2"
  },
  "language_info": {
   "codemirror_mode": {
    "name": "ipython",
    "version": 2
   },
   "file_extension": ".py",
   "mimetype": "text/x-python",
   "name": "python",
   "nbconvert_exporter": "python",
   "pygments_lexer": "ipython2",
   "version": "2.7.14"
  }
 },
 "nbformat": 4,
 "nbformat_minor": 1
}
